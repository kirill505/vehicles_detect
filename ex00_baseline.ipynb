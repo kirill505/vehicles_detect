{
 "cells": [
  {
   "cell_type": "code",
   "execution_count": 1,
   "metadata": {
    "colab": {},
    "colab_type": "code",
    "id": "gCh0nZxOSQsf"
   },
   "outputs": [],
   "source": [
    "from PIL import Image\n",
    "import matplotlib.pyplot as plt\n",
    "import matplotlib\n",
    "import torch\n",
    "import torchvision.transforms as T\n",
    "import torchvision\n",
    "import torch\n",
    "import numpy as np\n",
    "import cv2\n",
    "import time\n",
    "import os\n",
    "import re\n",
    "from os.path import isfile, join"
   ]
  },
  {
   "cell_type": "code",
   "execution_count": 2,
   "metadata": {},
   "outputs": [],
   "source": [
    "#создаю папки для тестовой задачи №1\n",
    "!mkdir task_1\n",
    "\n",
    "!mkdir task_1/task_1_annotation\n",
    "!mkdir task_1/task_1_predicted_frames\n",
    "!mkdir task_1/task_1_frames"
   ]
  },
  {
   "cell_type": "code",
   "execution_count": 3,
   "metadata": {},
   "outputs": [
    {
     "name": "stdout",
     "output_type": "stream",
     "text": [
      "--2020-07-10 15:09:41--  https://www.dropbox.com/s/89kby101hzqsf04/WI_37_20200429T113042.646_0300_STOPPED-VEHICLE_4_ACCEPTED.avi?dl=0\n",
      "Распознаётся www.dropbox.com (www.dropbox.com)… 162.125.71.1, 2620:100:6028:1::a27d:4701\n",
      "Подключение к www.dropbox.com (www.dropbox.com)|162.125.71.1|:443... соединение установлено.\n",
      "HTTP-запрос отправлен. Ожидание ответа… 301 Moved Permanently\n",
      "Адрес: /s/raw/89kby101hzqsf04/WI_37_20200429T113042.646_0300_STOPPED-VEHICLE_4_ACCEPTED.avi [переход]\n",
      "--2020-07-10 15:09:42--  https://www.dropbox.com/s/raw/89kby101hzqsf04/WI_37_20200429T113042.646_0300_STOPPED-VEHICLE_4_ACCEPTED.avi\n",
      "Повторное использование соединения с www.dropbox.com:443.\n",
      "HTTP-запрос отправлен. Ожидание ответа… 302 Found\n",
      "Адрес: https://ucd8d44aa0baefc4222288e2710d.dl.dropboxusercontent.com/cd/0/inline/A7Rwp9Asb-zkTjJd-R54kyTtfjh29AMTRb_LTfBDeDFJccWv2VWIbRZKuBAcYoviBAu4z3Xws4cpPtbtnXbIZIffvYUA0Mh43uimr5E4iq15rOItelf_3U7lCA3R4DyBynQ/file# [переход]\n",
      "--2020-07-10 15:09:42--  https://ucd8d44aa0baefc4222288e2710d.dl.dropboxusercontent.com/cd/0/inline/A7Rwp9Asb-zkTjJd-R54kyTtfjh29AMTRb_LTfBDeDFJccWv2VWIbRZKuBAcYoviBAu4z3Xws4cpPtbtnXbIZIffvYUA0Mh43uimr5E4iq15rOItelf_3U7lCA3R4DyBynQ/file\n",
      "Распознаётся ucd8d44aa0baefc4222288e2710d.dl.dropboxusercontent.com (ucd8d44aa0baefc4222288e2710d.dl.dropboxusercontent.com)… 162.125.71.15, 2620:100:6028:15::a27d:470f\n",
      "Подключение к ucd8d44aa0baefc4222288e2710d.dl.dropboxusercontent.com (ucd8d44aa0baefc4222288e2710d.dl.dropboxusercontent.com)|162.125.71.15|:443... соединение установлено.\n",
      "HTTP-запрос отправлен. Ожидание ответа… 200 OK\n",
      "Длина: 26178958 (25M) [video/x-msvideo]\n",
      "Сохранение в: «task_1/WI_37_20200429T113042.646_0300_STOPPED-VEHICLE_4_ACCEPTED.avi?dl=0»\n",
      "\n",
      "WI_37_20200429T1130 100%[===================>]  24,97M  8,17MB/s    за 3,1s    \n",
      "\n",
      "2020-07-10 15:09:46 (8,17 MB/s) - «task_1/WI_37_20200429T113042.646_0300_STOPPED-VEHICLE_4_ACCEPTED.avi?dl=0» сохранён [26178958/26178958]\n",
      "\n"
     ]
    }
   ],
   "source": [
    "#скачиваю видео\n",
    "!wget https://www.dropbox.com/s/89kby101hzqsf04/WI_37_20200429T113042.646_0300_STOPPED-VEHICLE_4_ACCEPTED.avi?dl=0 -P task_1"
   ]
  },
  {
   "cell_type": "code",
   "execution_count": 4,
   "metadata": {
    "colab": {},
    "colab_type": "code",
    "id": "bBnSQ2qiSQs_"
   },
   "outputs": [],
   "source": [
    "#функция для создания фреймов из видео\n",
    "def get_frames_from_video(cam_path, save_path):\n",
    "    vidcap = cv2.VideoCapture(cam_path)\n",
    "    success,image = vidcap.read()\n",
    "    count = 0\n",
    "    while (success):\n",
    "        cv2.imwrite(save_path + \"frame%d.jpg\" % count, image)     \n",
    "        success,image = vidcap.read()\n",
    "        print ('Make a new frame: ', \"frame%d.jpg\" % count)\n",
    "        count += 1"
   ]
  },
  {
   "cell_type": "code",
   "execution_count": 5,
   "metadata": {
    "colab": {
     "base_uri": "https://localhost:8080/",
     "height": 1000
    },
    "colab_type": "code",
    "id": "eoNPUj2kSQtJ",
    "outputId": "a6157b41-da15-43d8-c036-97ea03945bee"
   },
   "outputs": [
    {
     "name": "stdout",
     "output_type": "stream",
     "text": [
      "Make a new frame:  frame0.jpg\n",
      "Make a new frame:  frame1.jpg\n",
      "Make a new frame:  frame2.jpg\n",
      "Make a new frame:  frame3.jpg\n",
      "Make a new frame:  frame4.jpg\n",
      "Make a new frame:  frame5.jpg\n",
      "Make a new frame:  frame6.jpg\n",
      "Make a new frame:  frame7.jpg\n",
      "Make a new frame:  frame8.jpg\n",
      "Make a new frame:  frame9.jpg\n",
      "Make a new frame:  frame10.jpg\n",
      "Make a new frame:  frame11.jpg\n",
      "Make a new frame:  frame12.jpg\n",
      "Make a new frame:  frame13.jpg\n",
      "Make a new frame:  frame14.jpg\n",
      "Make a new frame:  frame15.jpg\n",
      "Make a new frame:  frame16.jpg\n",
      "Make a new frame:  frame17.jpg\n",
      "Make a new frame:  frame18.jpg\n",
      "Make a new frame:  frame19.jpg\n",
      "Make a new frame:  frame20.jpg\n",
      "Make a new frame:  frame21.jpg\n",
      "Make a new frame:  frame22.jpg\n",
      "Make a new frame:  frame23.jpg\n",
      "Make a new frame:  frame24.jpg\n",
      "Make a new frame:  frame25.jpg\n",
      "Make a new frame:  frame26.jpg\n",
      "Make a new frame:  frame27.jpg\n",
      "Make a new frame:  frame28.jpg\n",
      "Make a new frame:  frame29.jpg\n",
      "Make a new frame:  frame30.jpg\n",
      "Make a new frame:  frame31.jpg\n",
      "Make a new frame:  frame32.jpg\n",
      "Make a new frame:  frame33.jpg\n",
      "Make a new frame:  frame34.jpg\n",
      "Make a new frame:  frame35.jpg\n",
      "Make a new frame:  frame36.jpg\n",
      "Make a new frame:  frame37.jpg\n",
      "Make a new frame:  frame38.jpg\n",
      "Make a new frame:  frame39.jpg\n",
      "Make a new frame:  frame40.jpg\n",
      "Make a new frame:  frame41.jpg\n",
      "Make a new frame:  frame42.jpg\n",
      "Make a new frame:  frame43.jpg\n",
      "Make a new frame:  frame44.jpg\n",
      "Make a new frame:  frame45.jpg\n",
      "Make a new frame:  frame46.jpg\n",
      "Make a new frame:  frame47.jpg\n",
      "Make a new frame:  frame48.jpg\n",
      "Make a new frame:  frame49.jpg\n",
      "Make a new frame:  frame50.jpg\n",
      "Make a new frame:  frame51.jpg\n",
      "Make a new frame:  frame52.jpg\n",
      "Make a new frame:  frame53.jpg\n",
      "Make a new frame:  frame54.jpg\n",
      "Make a new frame:  frame55.jpg\n",
      "Make a new frame:  frame56.jpg\n",
      "Make a new frame:  frame57.jpg\n",
      "Make a new frame:  frame58.jpg\n",
      "Make a new frame:  frame59.jpg\n",
      "Make a new frame:  frame60.jpg\n",
      "Make a new frame:  frame61.jpg\n",
      "Make a new frame:  frame62.jpg\n",
      "Make a new frame:  frame63.jpg\n",
      "Make a new frame:  frame64.jpg\n",
      "Make a new frame:  frame65.jpg\n",
      "Make a new frame:  frame66.jpg\n",
      "Make a new frame:  frame67.jpg\n",
      "Make a new frame:  frame68.jpg\n",
      "Make a new frame:  frame69.jpg\n",
      "Make a new frame:  frame70.jpg\n",
      "Make a new frame:  frame71.jpg\n",
      "Make a new frame:  frame72.jpg\n",
      "Make a new frame:  frame73.jpg\n",
      "Make a new frame:  frame74.jpg\n",
      "Make a new frame:  frame75.jpg\n",
      "Make a new frame:  frame76.jpg\n",
      "Make a new frame:  frame77.jpg\n",
      "Make a new frame:  frame78.jpg\n",
      "Make a new frame:  frame79.jpg\n",
      "Make a new frame:  frame80.jpg\n",
      "Make a new frame:  frame81.jpg\n",
      "Make a new frame:  frame82.jpg\n",
      "Make a new frame:  frame83.jpg\n",
      "Make a new frame:  frame84.jpg\n",
      "Make a new frame:  frame85.jpg\n",
      "Make a new frame:  frame86.jpg\n",
      "Make a new frame:  frame87.jpg\n",
      "Make a new frame:  frame88.jpg\n",
      "Make a new frame:  frame89.jpg\n",
      "Make a new frame:  frame90.jpg\n",
      "Make a new frame:  frame91.jpg\n",
      "Make a new frame:  frame92.jpg\n",
      "Make a new frame:  frame93.jpg\n",
      "Make a new frame:  frame94.jpg\n",
      "Make a new frame:  frame95.jpg\n",
      "Make a new frame:  frame96.jpg\n",
      "Make a new frame:  frame97.jpg\n",
      "Make a new frame:  frame98.jpg\n",
      "Make a new frame:  frame99.jpg\n",
      "Make a new frame:  frame100.jpg\n",
      "Make a new frame:  frame101.jpg\n",
      "Make a new frame:  frame102.jpg\n",
      "Make a new frame:  frame103.jpg\n",
      "Make a new frame:  frame104.jpg\n",
      "Make a new frame:  frame105.jpg\n",
      "Make a new frame:  frame106.jpg\n",
      "Make a new frame:  frame107.jpg\n",
      "Make a new frame:  frame108.jpg\n",
      "Make a new frame:  frame109.jpg\n",
      "Make a new frame:  frame110.jpg\n",
      "Make a new frame:  frame111.jpg\n",
      "Make a new frame:  frame112.jpg\n",
      "Make a new frame:  frame113.jpg\n",
      "Make a new frame:  frame114.jpg\n",
      "Make a new frame:  frame115.jpg\n",
      "Make a new frame:  frame116.jpg\n",
      "Make a new frame:  frame117.jpg\n",
      "Make a new frame:  frame118.jpg\n",
      "Make a new frame:  frame119.jpg\n",
      "Make a new frame:  frame120.jpg\n",
      "Make a new frame:  frame121.jpg\n",
      "Make a new frame:  frame122.jpg\n",
      "Make a new frame:  frame123.jpg\n",
      "Make a new frame:  frame124.jpg\n",
      "Make a new frame:  frame125.jpg\n",
      "Make a new frame:  frame126.jpg\n",
      "Make a new frame:  frame127.jpg\n",
      "Make a new frame:  frame128.jpg\n",
      "Make a new frame:  frame129.jpg\n",
      "Make a new frame:  frame130.jpg\n",
      "Make a new frame:  frame131.jpg\n",
      "Make a new frame:  frame132.jpg\n",
      "Make a new frame:  frame133.jpg\n",
      "Make a new frame:  frame134.jpg\n",
      "Make a new frame:  frame135.jpg\n",
      "Make a new frame:  frame136.jpg\n",
      "Make a new frame:  frame137.jpg\n",
      "Make a new frame:  frame138.jpg\n",
      "Make a new frame:  frame139.jpg\n",
      "Make a new frame:  frame140.jpg\n",
      "Make a new frame:  frame141.jpg\n",
      "Make a new frame:  frame142.jpg\n",
      "Make a new frame:  frame143.jpg\n",
      "Make a new frame:  frame144.jpg\n",
      "Make a new frame:  frame145.jpg\n",
      "Make a new frame:  frame146.jpg\n",
      "Make a new frame:  frame147.jpg\n",
      "Make a new frame:  frame148.jpg\n",
      "Make a new frame:  frame149.jpg\n",
      "Make a new frame:  frame150.jpg\n",
      "Make a new frame:  frame151.jpg\n",
      "Make a new frame:  frame152.jpg\n",
      "Make a new frame:  frame153.jpg\n",
      "Make a new frame:  frame154.jpg\n",
      "Make a new frame:  frame155.jpg\n",
      "Make a new frame:  frame156.jpg\n",
      "Make a new frame:  frame157.jpg\n",
      "Make a new frame:  frame158.jpg\n",
      "Make a new frame:  frame159.jpg\n",
      "Make a new frame:  frame160.jpg\n",
      "Make a new frame:  frame161.jpg\n",
      "Make a new frame:  frame162.jpg\n",
      "Make a new frame:  frame163.jpg\n",
      "Make a new frame:  frame164.jpg\n",
      "Make a new frame:  frame165.jpg\n",
      "Make a new frame:  frame166.jpg\n",
      "Make a new frame:  frame167.jpg\n",
      "Make a new frame:  frame168.jpg\n",
      "Make a new frame:  frame169.jpg\n",
      "Make a new frame:  frame170.jpg\n",
      "Make a new frame:  frame171.jpg\n",
      "Make a new frame:  frame172.jpg\n",
      "Make a new frame:  frame173.jpg\n",
      "Make a new frame:  frame174.jpg\n",
      "Make a new frame:  frame175.jpg\n",
      "Make a new frame:  frame176.jpg\n",
      "Make a new frame:  frame177.jpg\n",
      "Make a new frame:  frame178.jpg\n",
      "Make a new frame:  frame179.jpg\n",
      "Make a new frame:  frame180.jpg\n",
      "Make a new frame:  frame181.jpg\n",
      "Make a new frame:  frame182.jpg\n",
      "Make a new frame:  frame183.jpg\n",
      "Make a new frame:  frame184.jpg\n",
      "Make a new frame:  frame185.jpg\n",
      "Make a new frame:  frame186.jpg\n",
      "Make a new frame:  frame187.jpg\n",
      "Make a new frame:  frame188.jpg\n",
      "Make a new frame:  frame189.jpg\n",
      "Make a new frame:  frame190.jpg\n",
      "Make a new frame:  frame191.jpg\n",
      "Make a new frame:  frame192.jpg\n",
      "Make a new frame:  frame193.jpg\n",
      "Make a new frame:  frame194.jpg\n",
      "Make a new frame:  frame195.jpg\n",
      "Make a new frame:  frame196.jpg\n",
      "Make a new frame:  frame197.jpg\n",
      "Make a new frame:  frame198.jpg\n",
      "Make a new frame:  frame199.jpg\n",
      "Make a new frame:  frame200.jpg\n",
      "Make a new frame:  frame201.jpg\n",
      "Make a new frame:  frame202.jpg\n",
      "Make a new frame:  frame203.jpg\n",
      "Make a new frame:  frame204.jpg\n",
      "Make a new frame:  frame205.jpg\n",
      "Make a new frame:  frame206.jpg\n",
      "Make a new frame:  frame207.jpg\n",
      "Make a new frame:  frame208.jpg\n",
      "Make a new frame:  frame209.jpg\n",
      "Make a new frame:  frame210.jpg\n",
      "Make a new frame:  frame211.jpg\n",
      "Make a new frame:  frame212.jpg\n",
      "Make a new frame:  frame213.jpg\n",
      "Make a new frame:  frame214.jpg\n",
      "Make a new frame:  frame215.jpg\n",
      "Make a new frame:  frame216.jpg\n",
      "Make a new frame:  frame217.jpg\n",
      "Make a new frame:  frame218.jpg\n",
      "Make a new frame:  frame219.jpg\n",
      "Make a new frame:  frame220.jpg\n",
      "Make a new frame:  frame221.jpg\n",
      "Make a new frame:  frame222.jpg\n",
      "Make a new frame:  frame223.jpg\n",
      "Make a new frame:  frame224.jpg\n",
      "Make a new frame:  frame225.jpg\n",
      "Make a new frame:  frame226.jpg\n",
      "Make a new frame:  frame227.jpg\n",
      "Make a new frame:  frame228.jpg\n",
      "Make a new frame:  frame229.jpg\n",
      "Make a new frame:  frame230.jpg\n",
      "Make a new frame:  frame231.jpg\n",
      "Make a new frame:  frame232.jpg\n",
      "Make a new frame:  frame233.jpg\n",
      "Make a new frame:  frame234.jpg\n",
      "Make a new frame:  frame235.jpg\n",
      "Make a new frame:  frame236.jpg\n",
      "Make a new frame:  frame237.jpg\n",
      "Make a new frame:  frame238.jpg\n",
      "Make a new frame:  frame239.jpg\n",
      "Make a new frame:  frame240.jpg\n",
      "Make a new frame:  frame241.jpg\n",
      "Make a new frame:  frame242.jpg\n",
      "Make a new frame:  frame243.jpg\n",
      "Make a new frame:  frame244.jpg\n",
      "Make a new frame:  frame245.jpg\n",
      "Make a new frame:  frame246.jpg\n",
      "Make a new frame:  frame247.jpg\n",
      "Make a new frame:  frame248.jpg\n",
      "Make a new frame:  frame249.jpg\n",
      "Make a new frame:  frame250.jpg\n",
      "Make a new frame:  frame251.jpg\n",
      "Make a new frame:  frame252.jpg\n",
      "Make a new frame:  frame253.jpg\n",
      "Make a new frame:  frame254.jpg\n",
      "Make a new frame:  frame255.jpg\n",
      "Make a new frame:  frame256.jpg\n",
      "Make a new frame:  frame257.jpg\n",
      "Make a new frame:  frame258.jpg\n",
      "Make a new frame:  frame259.jpg\n"
     ]
    },
    {
     "name": "stdout",
     "output_type": "stream",
     "text": [
      "Make a new frame:  frame260.jpg\n",
      "Make a new frame:  frame261.jpg\n",
      "Make a new frame:  frame262.jpg\n",
      "Make a new frame:  frame263.jpg\n",
      "Make a new frame:  frame264.jpg\n",
      "Make a new frame:  frame265.jpg\n",
      "Make a new frame:  frame266.jpg\n",
      "Make a new frame:  frame267.jpg\n",
      "Make a new frame:  frame268.jpg\n",
      "Make a new frame:  frame269.jpg\n",
      "Make a new frame:  frame270.jpg\n",
      "Make a new frame:  frame271.jpg\n",
      "Make a new frame:  frame272.jpg\n",
      "Make a new frame:  frame273.jpg\n",
      "Make a new frame:  frame274.jpg\n",
      "Make a new frame:  frame275.jpg\n",
      "Make a new frame:  frame276.jpg\n",
      "Make a new frame:  frame277.jpg\n",
      "Make a new frame:  frame278.jpg\n",
      "Make a new frame:  frame279.jpg\n",
      "Make a new frame:  frame280.jpg\n",
      "Make a new frame:  frame281.jpg\n",
      "Make a new frame:  frame282.jpg\n",
      "Make a new frame:  frame283.jpg\n",
      "Make a new frame:  frame284.jpg\n",
      "Make a new frame:  frame285.jpg\n",
      "Make a new frame:  frame286.jpg\n",
      "Make a new frame:  frame287.jpg\n",
      "Make a new frame:  frame288.jpg\n",
      "Make a new frame:  frame289.jpg\n",
      "Make a new frame:  frame290.jpg\n",
      "Make a new frame:  frame291.jpg\n",
      "Make a new frame:  frame292.jpg\n",
      "Make a new frame:  frame293.jpg\n",
      "Make a new frame:  frame294.jpg\n",
      "Make a new frame:  frame295.jpg\n",
      "Make a new frame:  frame296.jpg\n",
      "Make a new frame:  frame297.jpg\n",
      "Make a new frame:  frame298.jpg\n",
      "Make a new frame:  frame299.jpg\n",
      "Make a new frame:  frame300.jpg\n",
      "Make a new frame:  frame301.jpg\n",
      "Make a new frame:  frame302.jpg\n",
      "Make a new frame:  frame303.jpg\n",
      "Make a new frame:  frame304.jpg\n",
      "Make a new frame:  frame305.jpg\n",
      "Make a new frame:  frame306.jpg\n",
      "Make a new frame:  frame307.jpg\n",
      "Make a new frame:  frame308.jpg\n",
      "Make a new frame:  frame309.jpg\n",
      "Make a new frame:  frame310.jpg\n",
      "Make a new frame:  frame311.jpg\n",
      "Make a new frame:  frame312.jpg\n",
      "Make a new frame:  frame313.jpg\n",
      "Make a new frame:  frame314.jpg\n",
      "Make a new frame:  frame315.jpg\n",
      "Make a new frame:  frame316.jpg\n",
      "Make a new frame:  frame317.jpg\n",
      "Make a new frame:  frame318.jpg\n",
      "Make a new frame:  frame319.jpg\n",
      "Make a new frame:  frame320.jpg\n",
      "Make a new frame:  frame321.jpg\n",
      "Make a new frame:  frame322.jpg\n",
      "Make a new frame:  frame323.jpg\n",
      "Make a new frame:  frame324.jpg\n",
      "Make a new frame:  frame325.jpg\n",
      "Make a new frame:  frame326.jpg\n",
      "Make a new frame:  frame327.jpg\n",
      "Make a new frame:  frame328.jpg\n",
      "Make a new frame:  frame329.jpg\n",
      "Make a new frame:  frame330.jpg\n",
      "Make a new frame:  frame331.jpg\n",
      "Make a new frame:  frame332.jpg\n",
      "Make a new frame:  frame333.jpg\n",
      "Make a new frame:  frame334.jpg\n",
      "Make a new frame:  frame335.jpg\n",
      "Make a new frame:  frame336.jpg\n",
      "Make a new frame:  frame337.jpg\n",
      "Make a new frame:  frame338.jpg\n",
      "Make a new frame:  frame339.jpg\n",
      "Make a new frame:  frame340.jpg\n",
      "Make a new frame:  frame341.jpg\n",
      "Make a new frame:  frame342.jpg\n",
      "Make a new frame:  frame343.jpg\n",
      "Make a new frame:  frame344.jpg\n",
      "Make a new frame:  frame345.jpg\n",
      "Make a new frame:  frame346.jpg\n",
      "Make a new frame:  frame347.jpg\n",
      "Make a new frame:  frame348.jpg\n",
      "Make a new frame:  frame349.jpg\n",
      "Make a new frame:  frame350.jpg\n",
      "Make a new frame:  frame351.jpg\n",
      "Make a new frame:  frame352.jpg\n",
      "Make a new frame:  frame353.jpg\n",
      "Make a new frame:  frame354.jpg\n",
      "Make a new frame:  frame355.jpg\n",
      "Make a new frame:  frame356.jpg\n",
      "Make a new frame:  frame357.jpg\n",
      "Make a new frame:  frame358.jpg\n",
      "Make a new frame:  frame359.jpg\n",
      "Make a new frame:  frame360.jpg\n",
      "Make a new frame:  frame361.jpg\n",
      "Make a new frame:  frame362.jpg\n",
      "Make a new frame:  frame363.jpg\n",
      "Make a new frame:  frame364.jpg\n",
      "Make a new frame:  frame365.jpg\n",
      "Make a new frame:  frame366.jpg\n",
      "Make a new frame:  frame367.jpg\n",
      "Make a new frame:  frame368.jpg\n",
      "Make a new frame:  frame369.jpg\n",
      "Make a new frame:  frame370.jpg\n",
      "Make a new frame:  frame371.jpg\n",
      "Make a new frame:  frame372.jpg\n",
      "Make a new frame:  frame373.jpg\n",
      "Make a new frame:  frame374.jpg\n",
      "Make a new frame:  frame375.jpg\n",
      "Make a new frame:  frame376.jpg\n",
      "Make a new frame:  frame377.jpg\n",
      "Make a new frame:  frame378.jpg\n",
      "Make a new frame:  frame379.jpg\n",
      "Make a new frame:  frame380.jpg\n",
      "Make a new frame:  frame381.jpg\n",
      "Make a new frame:  frame382.jpg\n",
      "Make a new frame:  frame383.jpg\n",
      "Make a new frame:  frame384.jpg\n",
      "Make a new frame:  frame385.jpg\n",
      "Make a new frame:  frame386.jpg\n",
      "Make a new frame:  frame387.jpg\n",
      "Make a new frame:  frame388.jpg\n",
      "Make a new frame:  frame389.jpg\n",
      "Make a new frame:  frame390.jpg\n",
      "Make a new frame:  frame391.jpg\n",
      "Make a new frame:  frame392.jpg\n",
      "Make a new frame:  frame393.jpg\n",
      "Make a new frame:  frame394.jpg\n",
      "Make a new frame:  frame395.jpg\n",
      "Make a new frame:  frame396.jpg\n",
      "Make a new frame:  frame397.jpg\n",
      "Make a new frame:  frame398.jpg\n",
      "Make a new frame:  frame399.jpg\n",
      "Make a new frame:  frame400.jpg\n",
      "Make a new frame:  frame401.jpg\n",
      "Make a new frame:  frame402.jpg\n",
      "Make a new frame:  frame403.jpg\n",
      "Make a new frame:  frame404.jpg\n",
      "Make a new frame:  frame405.jpg\n",
      "Make a new frame:  frame406.jpg\n",
      "Make a new frame:  frame407.jpg\n",
      "Make a new frame:  frame408.jpg\n",
      "Make a new frame:  frame409.jpg\n",
      "Make a new frame:  frame410.jpg\n",
      "Make a new frame:  frame411.jpg\n",
      "Make a new frame:  frame412.jpg\n",
      "Make a new frame:  frame413.jpg\n",
      "Make a new frame:  frame414.jpg\n",
      "Make a new frame:  frame415.jpg\n",
      "Make a new frame:  frame416.jpg\n",
      "Make a new frame:  frame417.jpg\n",
      "Make a new frame:  frame418.jpg\n",
      "Make a new frame:  frame419.jpg\n",
      "Make a new frame:  frame420.jpg\n",
      "Make a new frame:  frame421.jpg\n",
      "Make a new frame:  frame422.jpg\n",
      "Make a new frame:  frame423.jpg\n",
      "Make a new frame:  frame424.jpg\n",
      "Make a new frame:  frame425.jpg\n",
      "Make a new frame:  frame426.jpg\n",
      "Make a new frame:  frame427.jpg\n",
      "Make a new frame:  frame428.jpg\n",
      "Make a new frame:  frame429.jpg\n",
      "Make a new frame:  frame430.jpg\n",
      "Make a new frame:  frame431.jpg\n",
      "Make a new frame:  frame432.jpg\n",
      "Make a new frame:  frame433.jpg\n",
      "Make a new frame:  frame434.jpg\n",
      "Make a new frame:  frame435.jpg\n",
      "Make a new frame:  frame436.jpg\n",
      "Make a new frame:  frame437.jpg\n",
      "Make a new frame:  frame438.jpg\n",
      "Make a new frame:  frame439.jpg\n",
      "Make a new frame:  frame440.jpg\n",
      "Make a new frame:  frame441.jpg\n",
      "Make a new frame:  frame442.jpg\n",
      "Make a new frame:  frame443.jpg\n",
      "Make a new frame:  frame444.jpg\n",
      "Make a new frame:  frame445.jpg\n",
      "Make a new frame:  frame446.jpg\n",
      "Make a new frame:  frame447.jpg\n",
      "Make a new frame:  frame448.jpg\n",
      "Make a new frame:  frame449.jpg\n",
      "Make a new frame:  frame450.jpg\n",
      "Make a new frame:  frame451.jpg\n",
      "Make a new frame:  frame452.jpg\n",
      "Make a new frame:  frame453.jpg\n",
      "Make a new frame:  frame454.jpg\n",
      "Make a new frame:  frame455.jpg\n",
      "Make a new frame:  frame456.jpg\n",
      "Make a new frame:  frame457.jpg\n",
      "Make a new frame:  frame458.jpg\n",
      "Make a new frame:  frame459.jpg\n",
      "Make a new frame:  frame460.jpg\n",
      "Make a new frame:  frame461.jpg\n",
      "Make a new frame:  frame462.jpg\n",
      "Make a new frame:  frame463.jpg\n",
      "Make a new frame:  frame464.jpg\n",
      "Make a new frame:  frame465.jpg\n",
      "Make a new frame:  frame466.jpg\n",
      "Make a new frame:  frame467.jpg\n",
      "Make a new frame:  frame468.jpg\n",
      "Make a new frame:  frame469.jpg\n",
      "Make a new frame:  frame470.jpg\n",
      "Make a new frame:  frame471.jpg\n",
      "Make a new frame:  frame472.jpg\n",
      "Make a new frame:  frame473.jpg\n",
      "Make a new frame:  frame474.jpg\n",
      "Make a new frame:  frame475.jpg\n",
      "Make a new frame:  frame476.jpg\n",
      "Make a new frame:  frame477.jpg\n",
      "Make a new frame:  frame478.jpg\n",
      "Make a new frame:  frame479.jpg\n",
      "Make a new frame:  frame480.jpg\n",
      "Make a new frame:  frame481.jpg\n",
      "Make a new frame:  frame482.jpg\n",
      "Make a new frame:  frame483.jpg\n",
      "Make a new frame:  frame484.jpg\n",
      "Make a new frame:  frame485.jpg\n",
      "Make a new frame:  frame486.jpg\n",
      "Make a new frame:  frame487.jpg\n",
      "Make a new frame:  frame488.jpg\n",
      "Make a new frame:  frame489.jpg\n",
      "Make a new frame:  frame490.jpg\n",
      "Make a new frame:  frame491.jpg\n",
      "Make a new frame:  frame492.jpg\n",
      "Make a new frame:  frame493.jpg\n",
      "Make a new frame:  frame494.jpg\n",
      "Make a new frame:  frame495.jpg\n",
      "Make a new frame:  frame496.jpg\n",
      "Make a new frame:  frame497.jpg\n",
      "Make a new frame:  frame498.jpg\n",
      "Make a new frame:  frame499.jpg\n",
      "Make a new frame:  frame500.jpg\n",
      "Make a new frame:  frame501.jpg\n",
      "Make a new frame:  frame502.jpg\n",
      "Make a new frame:  frame503.jpg\n",
      "Make a new frame:  frame504.jpg\n",
      "Make a new frame:  frame505.jpg\n",
      "Make a new frame:  frame506.jpg\n",
      "Make a new frame:  frame507.jpg\n",
      "Make a new frame:  frame508.jpg\n",
      "Make a new frame:  frame509.jpg\n",
      "Make a new frame:  frame510.jpg\n",
      "Make a new frame:  frame511.jpg\n",
      "Make a new frame:  frame512.jpg\n",
      "Make a new frame:  frame513.jpg\n",
      "Make a new frame:  frame514.jpg\n",
      "Make a new frame:  frame515.jpg\n",
      "Make a new frame:  frame516.jpg\n",
      "Make a new frame:  frame517.jpg\n"
     ]
    },
    {
     "name": "stdout",
     "output_type": "stream",
     "text": [
      "Make a new frame:  frame518.jpg\n",
      "Make a new frame:  frame519.jpg\n",
      "Make a new frame:  frame520.jpg\n",
      "Make a new frame:  frame521.jpg\n",
      "Make a new frame:  frame522.jpg\n",
      "Make a new frame:  frame523.jpg\n",
      "Make a new frame:  frame524.jpg\n",
      "Make a new frame:  frame525.jpg\n",
      "Make a new frame:  frame526.jpg\n",
      "Make a new frame:  frame527.jpg\n",
      "Make a new frame:  frame528.jpg\n",
      "Make a new frame:  frame529.jpg\n",
      "Make a new frame:  frame530.jpg\n",
      "Make a new frame:  frame531.jpg\n",
      "Make a new frame:  frame532.jpg\n",
      "Make a new frame:  frame533.jpg\n",
      "Make a new frame:  frame534.jpg\n",
      "Make a new frame:  frame535.jpg\n",
      "Make a new frame:  frame536.jpg\n",
      "Make a new frame:  frame537.jpg\n",
      "Make a new frame:  frame538.jpg\n",
      "Make a new frame:  frame539.jpg\n",
      "Make a new frame:  frame540.jpg\n",
      "Make a new frame:  frame541.jpg\n",
      "Make a new frame:  frame542.jpg\n",
      "Make a new frame:  frame543.jpg\n",
      "Make a new frame:  frame544.jpg\n",
      "Make a new frame:  frame545.jpg\n",
      "Make a new frame:  frame546.jpg\n",
      "Make a new frame:  frame547.jpg\n",
      "Make a new frame:  frame548.jpg\n",
      "Make a new frame:  frame549.jpg\n",
      "Make a new frame:  frame550.jpg\n",
      "Make a new frame:  frame551.jpg\n",
      "Make a new frame:  frame552.jpg\n",
      "Make a new frame:  frame553.jpg\n",
      "Make a new frame:  frame554.jpg\n",
      "Make a new frame:  frame555.jpg\n",
      "Make a new frame:  frame556.jpg\n",
      "Make a new frame:  frame557.jpg\n",
      "Make a new frame:  frame558.jpg\n",
      "Make a new frame:  frame559.jpg\n",
      "Make a new frame:  frame560.jpg\n",
      "Make a new frame:  frame561.jpg\n",
      "Make a new frame:  frame562.jpg\n",
      "Make a new frame:  frame563.jpg\n",
      "Make a new frame:  frame564.jpg\n",
      "Make a new frame:  frame565.jpg\n",
      "Make a new frame:  frame566.jpg\n",
      "Make a new frame:  frame567.jpg\n",
      "Make a new frame:  frame568.jpg\n",
      "Make a new frame:  frame569.jpg\n",
      "Make a new frame:  frame570.jpg\n",
      "Make a new frame:  frame571.jpg\n",
      "Make a new frame:  frame572.jpg\n",
      "Make a new frame:  frame573.jpg\n",
      "Make a new frame:  frame574.jpg\n",
      "Make a new frame:  frame575.jpg\n",
      "Make a new frame:  frame576.jpg\n",
      "Make a new frame:  frame577.jpg\n",
      "Make a new frame:  frame578.jpg\n",
      "Make a new frame:  frame579.jpg\n",
      "Make a new frame:  frame580.jpg\n",
      "Make a new frame:  frame581.jpg\n",
      "Make a new frame:  frame582.jpg\n",
      "Make a new frame:  frame583.jpg\n",
      "Make a new frame:  frame584.jpg\n",
      "Make a new frame:  frame585.jpg\n",
      "Make a new frame:  frame586.jpg\n",
      "Make a new frame:  frame587.jpg\n",
      "Make a new frame:  frame588.jpg\n",
      "Make a new frame:  frame589.jpg\n",
      "Make a new frame:  frame590.jpg\n",
      "Make a new frame:  frame591.jpg\n",
      "Make a new frame:  frame592.jpg\n",
      "Make a new frame:  frame593.jpg\n",
      "Make a new frame:  frame594.jpg\n",
      "Make a new frame:  frame595.jpg\n",
      "Make a new frame:  frame596.jpg\n",
      "Make a new frame:  frame597.jpg\n",
      "Make a new frame:  frame598.jpg\n",
      "Make a new frame:  frame599.jpg\n",
      "Make a new frame:  frame600.jpg\n",
      "Make a new frame:  frame601.jpg\n",
      "Make a new frame:  frame602.jpg\n",
      "Make a new frame:  frame603.jpg\n",
      "Make a new frame:  frame604.jpg\n",
      "Make a new frame:  frame605.jpg\n",
      "Make a new frame:  frame606.jpg\n",
      "Make a new frame:  frame607.jpg\n",
      "Make a new frame:  frame608.jpg\n",
      "Make a new frame:  frame609.jpg\n",
      "Make a new frame:  frame610.jpg\n",
      "Make a new frame:  frame611.jpg\n",
      "Make a new frame:  frame612.jpg\n",
      "Make a new frame:  frame613.jpg\n",
      "Make a new frame:  frame614.jpg\n",
      "Make a new frame:  frame615.jpg\n",
      "Make a new frame:  frame616.jpg\n",
      "Make a new frame:  frame617.jpg\n",
      "Make a new frame:  frame618.jpg\n",
      "Make a new frame:  frame619.jpg\n",
      "Make a new frame:  frame620.jpg\n",
      "Make a new frame:  frame621.jpg\n",
      "Make a new frame:  frame622.jpg\n",
      "Make a new frame:  frame623.jpg\n",
      "Make a new frame:  frame624.jpg\n",
      "Make a new frame:  frame625.jpg\n",
      "Make a new frame:  frame626.jpg\n",
      "Make a new frame:  frame627.jpg\n",
      "Make a new frame:  frame628.jpg\n",
      "Make a new frame:  frame629.jpg\n",
      "Make a new frame:  frame630.jpg\n",
      "Make a new frame:  frame631.jpg\n",
      "Make a new frame:  frame632.jpg\n",
      "Make a new frame:  frame633.jpg\n",
      "Make a new frame:  frame634.jpg\n",
      "Make a new frame:  frame635.jpg\n",
      "Make a new frame:  frame636.jpg\n",
      "Make a new frame:  frame637.jpg\n",
      "Make a new frame:  frame638.jpg\n",
      "Make a new frame:  frame639.jpg\n",
      "Make a new frame:  frame640.jpg\n",
      "Make a new frame:  frame641.jpg\n",
      "Make a new frame:  frame642.jpg\n",
      "Make a new frame:  frame643.jpg\n",
      "Make a new frame:  frame644.jpg\n",
      "Make a new frame:  frame645.jpg\n",
      "Make a new frame:  frame646.jpg\n",
      "Make a new frame:  frame647.jpg\n",
      "Make a new frame:  frame648.jpg\n",
      "Make a new frame:  frame649.jpg\n",
      "Make a new frame:  frame650.jpg\n",
      "Make a new frame:  frame651.jpg\n",
      "Make a new frame:  frame652.jpg\n",
      "Make a new frame:  frame653.jpg\n",
      "Make a new frame:  frame654.jpg\n",
      "Make a new frame:  frame655.jpg\n",
      "Make a new frame:  frame656.jpg\n",
      "Make a new frame:  frame657.jpg\n",
      "Make a new frame:  frame658.jpg\n",
      "Make a new frame:  frame659.jpg\n",
      "Make a new frame:  frame660.jpg\n",
      "Make a new frame:  frame661.jpg\n",
      "Make a new frame:  frame662.jpg\n",
      "Make a new frame:  frame663.jpg\n",
      "Make a new frame:  frame664.jpg\n",
      "Make a new frame:  frame665.jpg\n",
      "Make a new frame:  frame666.jpg\n",
      "Make a new frame:  frame667.jpg\n",
      "Make a new frame:  frame668.jpg\n",
      "Make a new frame:  frame669.jpg\n",
      "Make a new frame:  frame670.jpg\n",
      "Make a new frame:  frame671.jpg\n",
      "Make a new frame:  frame672.jpg\n",
      "Make a new frame:  frame673.jpg\n",
      "Make a new frame:  frame674.jpg\n",
      "Make a new frame:  frame675.jpg\n",
      "Make a new frame:  frame676.jpg\n",
      "Make a new frame:  frame677.jpg\n",
      "Make a new frame:  frame678.jpg\n",
      "Make a new frame:  frame679.jpg\n",
      "Make a new frame:  frame680.jpg\n",
      "Make a new frame:  frame681.jpg\n",
      "Make a new frame:  frame682.jpg\n",
      "Make a new frame:  frame683.jpg\n",
      "Make a new frame:  frame684.jpg\n",
      "Make a new frame:  frame685.jpg\n",
      "Make a new frame:  frame686.jpg\n",
      "Make a new frame:  frame687.jpg\n",
      "Make a new frame:  frame688.jpg\n",
      "Make a new frame:  frame689.jpg\n",
      "Make a new frame:  frame690.jpg\n",
      "Make a new frame:  frame691.jpg\n",
      "Make a new frame:  frame692.jpg\n",
      "Make a new frame:  frame693.jpg\n",
      "Make a new frame:  frame694.jpg\n",
      "Make a new frame:  frame695.jpg\n",
      "Make a new frame:  frame696.jpg\n",
      "Make a new frame:  frame697.jpg\n",
      "Make a new frame:  frame698.jpg\n",
      "Make a new frame:  frame699.jpg\n",
      "Make a new frame:  frame700.jpg\n",
      "Make a new frame:  frame701.jpg\n",
      "Make a new frame:  frame702.jpg\n",
      "Make a new frame:  frame703.jpg\n",
      "Make a new frame:  frame704.jpg\n",
      "Make a new frame:  frame705.jpg\n",
      "Make a new frame:  frame706.jpg\n",
      "Make a new frame:  frame707.jpg\n",
      "Make a new frame:  frame708.jpg\n",
      "Make a new frame:  frame709.jpg\n",
      "Make a new frame:  frame710.jpg\n",
      "Make a new frame:  frame711.jpg\n",
      "Make a new frame:  frame712.jpg\n",
      "Make a new frame:  frame713.jpg\n",
      "Make a new frame:  frame714.jpg\n",
      "Make a new frame:  frame715.jpg\n",
      "Make a new frame:  frame716.jpg\n",
      "Make a new frame:  frame717.jpg\n",
      "Make a new frame:  frame718.jpg\n",
      "Make a new frame:  frame719.jpg\n",
      "Make a new frame:  frame720.jpg\n",
      "Make a new frame:  frame721.jpg\n",
      "Make a new frame:  frame722.jpg\n",
      "Make a new frame:  frame723.jpg\n",
      "Make a new frame:  frame724.jpg\n",
      "Make a new frame:  frame725.jpg\n",
      "Make a new frame:  frame726.jpg\n",
      "Make a new frame:  frame727.jpg\n",
      "Make a new frame:  frame728.jpg\n",
      "Make a new frame:  frame729.jpg\n",
      "Make a new frame:  frame730.jpg\n",
      "Make a new frame:  frame731.jpg\n",
      "Make a new frame:  frame732.jpg\n",
      "Make a new frame:  frame733.jpg\n",
      "Make a new frame:  frame734.jpg\n",
      "Make a new frame:  frame735.jpg\n",
      "Make a new frame:  frame736.jpg\n",
      "Make a new frame:  frame737.jpg\n",
      "Make a new frame:  frame738.jpg\n",
      "Make a new frame:  frame739.jpg\n",
      "Make a new frame:  frame740.jpg\n",
      "Make a new frame:  frame741.jpg\n",
      "Make a new frame:  frame742.jpg\n",
      "Make a new frame:  frame743.jpg\n",
      "Make a new frame:  frame744.jpg\n",
      "Make a new frame:  frame745.jpg\n",
      "Make a new frame:  frame746.jpg\n",
      "Make a new frame:  frame747.jpg\n",
      "Make a new frame:  frame748.jpg\n",
      "Make a new frame:  frame749.jpg\n",
      "Make a new frame:  frame750.jpg\n",
      "Make a new frame:  frame751.jpg\n",
      "Make a new frame:  frame752.jpg\n",
      "Make a new frame:  frame753.jpg\n",
      "Make a new frame:  frame754.jpg\n",
      "Make a new frame:  frame755.jpg\n",
      "Make a new frame:  frame756.jpg\n",
      "Make a new frame:  frame757.jpg\n",
      "Make a new frame:  frame758.jpg\n",
      "Make a new frame:  frame759.jpg\n",
      "Make a new frame:  frame760.jpg\n",
      "Make a new frame:  frame761.jpg\n",
      "Make a new frame:  frame762.jpg\n",
      "Make a new frame:  frame763.jpg\n",
      "Make a new frame:  frame764.jpg\n",
      "Make a new frame:  frame765.jpg\n",
      "Make a new frame:  frame766.jpg\n",
      "Make a new frame:  frame767.jpg\n",
      "Make a new frame:  frame768.jpg\n",
      "Make a new frame:  frame769.jpg\n",
      "Make a new frame:  frame770.jpg\n",
      "Make a new frame:  frame771.jpg\n",
      "Make a new frame:  frame772.jpg\n",
      "Make a new frame:  frame773.jpg\n",
      "Make a new frame:  frame774.jpg\n",
      "Make a new frame:  frame775.jpg\n"
     ]
    },
    {
     "name": "stdout",
     "output_type": "stream",
     "text": [
      "Make a new frame:  frame776.jpg\n",
      "Make a new frame:  frame777.jpg\n",
      "Make a new frame:  frame778.jpg\n",
      "Make a new frame:  frame779.jpg\n",
      "Make a new frame:  frame780.jpg\n",
      "Make a new frame:  frame781.jpg\n",
      "Make a new frame:  frame782.jpg\n",
      "Make a new frame:  frame783.jpg\n",
      "Make a new frame:  frame784.jpg\n",
      "Make a new frame:  frame785.jpg\n",
      "Make a new frame:  frame786.jpg\n",
      "Make a new frame:  frame787.jpg\n",
      "Make a new frame:  frame788.jpg\n",
      "Make a new frame:  frame789.jpg\n",
      "Make a new frame:  frame790.jpg\n",
      "Make a new frame:  frame791.jpg\n",
      "Make a new frame:  frame792.jpg\n",
      "Make a new frame:  frame793.jpg\n",
      "Make a new frame:  frame794.jpg\n",
      "Make a new frame:  frame795.jpg\n",
      "Make a new frame:  frame796.jpg\n",
      "Make a new frame:  frame797.jpg\n",
      "Make a new frame:  frame798.jpg\n",
      "Make a new frame:  frame799.jpg\n",
      "Make a new frame:  frame800.jpg\n",
      "Make a new frame:  frame801.jpg\n",
      "Make a new frame:  frame802.jpg\n",
      "Make a new frame:  frame803.jpg\n",
      "Make a new frame:  frame804.jpg\n",
      "Make a new frame:  frame805.jpg\n",
      "Make a new frame:  frame806.jpg\n",
      "Make a new frame:  frame807.jpg\n",
      "Make a new frame:  frame808.jpg\n",
      "Make a new frame:  frame809.jpg\n",
      "Make a new frame:  frame810.jpg\n",
      "Make a new frame:  frame811.jpg\n",
      "Make a new frame:  frame812.jpg\n",
      "Make a new frame:  frame813.jpg\n",
      "Make a new frame:  frame814.jpg\n",
      "Make a new frame:  frame815.jpg\n",
      "Make a new frame:  frame816.jpg\n",
      "Make a new frame:  frame817.jpg\n",
      "Make a new frame:  frame818.jpg\n",
      "Make a new frame:  frame819.jpg\n",
      "Make a new frame:  frame820.jpg\n",
      "Make a new frame:  frame821.jpg\n",
      "Make a new frame:  frame822.jpg\n",
      "Make a new frame:  frame823.jpg\n",
      "Make a new frame:  frame824.jpg\n",
      "Make a new frame:  frame825.jpg\n",
      "Make a new frame:  frame826.jpg\n",
      "Make a new frame:  frame827.jpg\n",
      "Make a new frame:  frame828.jpg\n",
      "Make a new frame:  frame829.jpg\n",
      "Make a new frame:  frame830.jpg\n",
      "Make a new frame:  frame831.jpg\n",
      "Make a new frame:  frame832.jpg\n",
      "Make a new frame:  frame833.jpg\n",
      "Make a new frame:  frame834.jpg\n",
      "Make a new frame:  frame835.jpg\n",
      "Make a new frame:  frame836.jpg\n",
      "Make a new frame:  frame837.jpg\n",
      "Make a new frame:  frame838.jpg\n",
      "Make a new frame:  frame839.jpg\n",
      "Make a new frame:  frame840.jpg\n",
      "Make a new frame:  frame841.jpg\n",
      "Make a new frame:  frame842.jpg\n",
      "Make a new frame:  frame843.jpg\n",
      "Make a new frame:  frame844.jpg\n",
      "Make a new frame:  frame845.jpg\n",
      "Make a new frame:  frame846.jpg\n",
      "Make a new frame:  frame847.jpg\n",
      "Make a new frame:  frame848.jpg\n",
      "Make a new frame:  frame849.jpg\n",
      "Make a new frame:  frame850.jpg\n",
      "Make a new frame:  frame851.jpg\n",
      "Make a new frame:  frame852.jpg\n",
      "Make a new frame:  frame853.jpg\n",
      "Make a new frame:  frame854.jpg\n",
      "Make a new frame:  frame855.jpg\n",
      "Make a new frame:  frame856.jpg\n",
      "Make a new frame:  frame857.jpg\n",
      "Make a new frame:  frame858.jpg\n"
     ]
    }
   ],
   "source": [
    "#запускаю процесс создания фреймов\n",
    "get_frames_from_video(\"task_1/WI_37_20200429T113042.646_0300_STOPPED-VEHICLE_4_ACCEPTED.avi?dl=0\", \"task_1/task_1_frames/\")"
   ]
  },
  {
   "cell_type": "code",
   "execution_count": 6,
   "metadata": {
    "colab": {
     "base_uri": "https://localhost:8080/",
     "height": 104,
     "referenced_widgets": [
      "8c58ccba10ca4896ae1b673ca9af8667",
      "83eef328a84d4f31a4a5e3d174397be8",
      "5f4ed7ee7d144d848c97ed7fd5d85c72",
      "54893582b3ef414c9a86549795d710de",
      "752ffba134474a4784587863aa090300",
      "d60a5ef3c5fd4e83ac87d989d1af86a3",
      "6eaedb5bcb984a02b5deccd0437bb687",
      "5911bbd078114842a0d9e554a07a96d0"
     ]
    },
    "colab_type": "code",
    "id": "NmQBgMLZSQsw",
    "outputId": "aa4b2f40-f58f-411b-d944-8a4e5abc557a"
   },
   "outputs": [],
   "source": [
    "#загружаю модель и вес\n",
    "model = torchvision.models.detection.fasterrcnn_resnet50_fpn(pretrained=True).cuda()\n",
    "model = model.eval()"
   ]
  },
  {
   "cell_type": "code",
   "execution_count": 7,
   "metadata": {
    "colab": {},
    "colab_type": "code",
    "id": "sFcho_cTSQtt"
   },
   "outputs": [],
   "source": [
    "#функция для отрисовки bbox и лэйблов на фрейме\n",
    "def plot_preds(numpy_img, box, label, score):\n",
    "    \n",
    "    COCO_CATEGORY = {2: 'bicycle', 3: 'car', 4: 'motorcycle', 6: 'bus', 8: 'truck', 73: 'refrigerator'}\n",
    "    \n",
    "    numpy_img = cv2.rectangle(\n",
    "            cv2.UMat(numpy_img), \n",
    "            (box[0],box[1]),\n",
    "            (box[2],box[3]), \n",
    "            255,\n",
    "            3\n",
    "        )\n",
    "    # Write the prediction class\n",
    "    cv2.putText(numpy_img, \"%s: %f\" % (COCO_CATEGORY[label.item()], score.item()), \\\n",
    "                (box[0],box[1]),  cv2.FONT_HERSHEY_SIMPLEX, 1.0, (252,15,192),thickness=2)\n",
    "    return numpy_img.get()"
   ]
  },
  {
   "cell_type": "code",
   "execution_count": 10,
   "metadata": {
    "colab": {
     "base_uri": "https://localhost:8080/",
     "height": 52
    },
    "colab_type": "code",
    "id": "us5RZCedSQtz",
    "outputId": "94be8626-6494-4c6c-b840-4800dd8abd86"
   },
   "outputs": [],
   "source": [
    "#функия для предсказаний\n",
    "def object_detection(img_path, filename, savepath, CONF_THRESH=0.5, rect_th=3, text_size=3, text_th=3):\n",
    "    #считываю изображение и загружаю в тензор\n",
    "    img = cv2.imread(img_path)[:,:,::-1]\n",
    "    img_tensor = torch.from_numpy(img.astype('float32')).cuda().permute(2, 0, 1)  / 255.\n",
    "    \n",
    "    #делаю предикты\n",
    "    pred = model(img_tensor[None, :].cuda())\n",
    "    pred = pred[0]\n",
    "    \n",
    "    boxes = pred['boxes'][(pred['scores'] > CONF_THRESH)] \n",
    "    labels = pred['labels'][(pred['scores'] > CONF_THRESH)] \n",
    "    boxes_dict = {}\n",
    "    boxes_dict['boxes'] = boxes\n",
    "    labels_dict = {}\n",
    "    labels_dict['labels'] = labels\n",
    "\n",
    "    fig = plt.figure(figsize=(20,10))\n",
    "    img_with_boxes = img\n",
    "\n",
    "    name = filename.split('.')[0]\n",
    "    \n",
    "    #<class_name> <confidence> <left> <top> <right> <bottom>\n",
    "    \n",
    "    #сохранение лэйблов в текстовый файл для последующего подсчета mAP\n",
    "    for i in range(len(pred['scores'])):\n",
    "        if pred['scores'][i] > CONF_THRESH and pred['labels'][i] in [2, 3, 4, 6, 8, 73]:\n",
    "            label = pred['labels'][i]\n",
    "            score = pred['scores'][i]\n",
    "            box = pred['boxes'][i]\n",
    "\n",
    "            #print(\"{0} {1} {2} {3} {4} {5}\".format(label, score, box[0], box[1], box[2], box[3]))\n",
    "            with open('task_1/task_1_annotation/%s.txt' % name, \"a\") as f:\n",
    "              f.write(\"{0} {1} {2} {3} {4} {5}\\n\".format(label, score, box[0], box[1], box[2], box[3]))\n",
    "            \n",
    "            #отрисовка bbox and labels\n",
    "            img_with_boxes = plot_preds(img_with_boxes, box, label, score)\n",
    "            \n",
    "            #plt.imshow(img_with_boxes.astype('uint'))   \n",
    "    #сохранение изображения с bbox'ми и лэйблами\n",
    "    plt.imsave(savepath + filename, img_with_boxes)\n",
    "    print('Image %s detected!' % filename)"
   ]
  },
  {
   "cell_type": "code",
   "execution_count": null,
   "metadata": {
    "colab": {
     "base_uri": "https://localhost:8080/",
     "height": 202
    },
    "colab_type": "code",
    "id": "YU7TUx7CN3Dn",
    "outputId": "4820588c-e8b9-4847-f963-688ebd5b2a2d"
   },
   "outputs": [],
   "source": [
    "#test\n",
    "#object_detection('task_1/task_1_frames/frame851.jpg', \"test.jpg\", \"test/\", CONF_THRESH=0.6)"
   ]
  },
  {
   "cell_type": "code",
   "execution_count": 10,
   "metadata": {
    "colab": {
     "base_uri": "https://localhost:8080/",
     "height": 52
    },
    "colab_type": "code",
    "id": "isWQxE-pSQuU",
    "outputId": "d5c122b3-bc99-4931-c2a2-2d29427b8fec"
   },
   "outputs": [
    {
     "name": "stderr",
     "output_type": "stream",
     "text": [
      "/home/kirill/.local/lib/python3.7/site-packages/torch/nn/functional.py:2854: UserWarning: The default behavior for interpolate/upsample with float scale_factor will change in 1.6.0 to align with other frameworks/libraries, and use scale_factor directly, instead of relying on the computed output size. If you wish to keep the old behavior, please set recompute_scale_factor=True. See the documentation of nn.Upsample for details. \n",
      "  warnings.warn(\"The default behavior for interpolate/upsample with float scale_factor will change \"\n",
      "/pytorch/torch/csrc/utils/python_arg_parser.cpp:756: UserWarning: This overload of nonzero is deprecated:\n",
      "\tnonzero(Tensor input, *, Tensor out)\n",
      "Consider using one of the following signatures instead:\n",
      "\tnonzero(Tensor input, *, bool as_tuple)\n"
     ]
    },
    {
     "name": "stdout",
     "output_type": "stream",
     "text": [
      "Image frame557.jpg detected!\n",
      "Image frame409.jpg detected!\n",
      "Image frame619.jpg detected!\n",
      "Image frame488.jpg detected!\n",
      "Image frame469.jpg detected!\n",
      "Image frame438.jpg detected!\n",
      "Image frame489.jpg detected!\n",
      "Image frame560.jpg detected!\n",
      "Image frame652.jpg detected!\n",
      "Image frame568.jpg detected!\n",
      "Image frame413.jpg detected!\n",
      "Image frame78.jpg detected!\n",
      "Image frame216.jpg detected!\n",
      "Image frame9.jpg detected!\n",
      "Image frame590.jpg detected!\n",
      "Image frame192.jpg detected!\n",
      "Image frame501.jpg detected!\n",
      "Image frame717.jpg detected!\n",
      "Image frame354.jpg detected!\n",
      "Image frame64.jpg detected!\n"
     ]
    },
    {
     "name": "stderr",
     "output_type": "stream",
     "text": [
      "/home/kirill/anaconda3/lib/python3.7/site-packages/ipykernel_launcher.py:18: RuntimeWarning: More than 20 figures have been opened. Figures created through the pyplot interface (`matplotlib.pyplot.figure`) are retained until explicitly closed and may consume too much memory. (To control this warning, see the rcParam `figure.max_open_warning`).\n"
     ]
    },
    {
     "name": "stdout",
     "output_type": "stream",
     "text": [
      "Image frame301.jpg detected!\n",
      "Image frame523.jpg detected!\n",
      "Image frame768.jpg detected!\n",
      "Image frame576.jpg detected!\n",
      "Image frame606.jpg detected!\n",
      "Image frame663.jpg detected!\n",
      "Image frame593.jpg detected!\n",
      "Image frame270.jpg detected!\n",
      "Image frame701.jpg detected!\n",
      "Image frame403.jpg detected!\n",
      "Image frame617.jpg detected!\n",
      "Image frame454.jpg detected!\n",
      "Image frame4.jpg detected!\n",
      "Image frame101.jpg detected!\n",
      "Image frame755.jpg detected!\n",
      "Image frame592.jpg detected!\n",
      "Image frame356.jpg detected!\n",
      "Image frame646.jpg detected!\n",
      "Image frame448.jpg detected!\n",
      "Image frame660.jpg detected!\n",
      "Image frame76.jpg detected!\n",
      "Image frame415.jpg detected!\n",
      "Image frame496.jpg detected!\n",
      "Image frame277.jpg detected!\n",
      "Image frame261.jpg detected!\n",
      "Image frame636.jpg detected!\n",
      "Image frame210.jpg detected!\n",
      "Image frame567.jpg detected!\n",
      "Image frame320.jpg detected!\n",
      "Image frame341.jpg detected!\n",
      "Image frame140.jpg detected!\n",
      "Image frame468.jpg detected!\n",
      "Image frame558.jpg detected!\n",
      "Image frame553.jpg detected!\n",
      "Image frame521.jpg detected!\n",
      "Image frame613.jpg detected!\n",
      "Image frame462.jpg detected!\n",
      "Image frame648.jpg detected!\n",
      "Image frame459.jpg detected!\n",
      "Image frame52.jpg detected!\n",
      "Image frame26.jpg detected!\n",
      "Image frame269.jpg detected!\n",
      "Image frame97.jpg detected!\n",
      "Image frame476.jpg detected!\n",
      "Image frame664.jpg detected!\n",
      "Image frame126.jpg detected!\n",
      "Image frame816.jpg detected!\n",
      "Image frame89.jpg detected!\n",
      "Image frame837.jpg detected!\n",
      "Image frame371.jpg detected!\n",
      "Image frame643.jpg detected!\n",
      "Image frame713.jpg detected!\n",
      "Image frame536.jpg detected!\n",
      "Image frame316.jpg detected!\n",
      "Image frame538.jpg detected!\n",
      "Image frame57.jpg detected!\n",
      "Image frame399.jpg detected!\n",
      "Image frame369.jpg detected!\n",
      "Image frame71.jpg detected!\n",
      "Image frame832.jpg detected!\n",
      "Image frame464.jpg detected!\n",
      "Image frame182.jpg detected!\n",
      "Image frame527.jpg detected!\n",
      "Image frame625.jpg detected!\n",
      "Image frame93.jpg detected!\n",
      "Image frame33.jpg detected!\n",
      "Image frame794.jpg detected!\n",
      "Image frame388.jpg detected!\n",
      "Image frame751.jpg detected!\n",
      "Image frame185.jpg detected!\n",
      "Image frame3.jpg detected!\n",
      "Image frame211.jpg detected!\n",
      "Image frame791.jpg detected!\n",
      "Image frame274.jpg detected!\n",
      "Image frame411.jpg detected!\n",
      "Image frame455.jpg detected!\n",
      "Image frame742.jpg detected!\n",
      "Image frame819.jpg detected!\n",
      "Image frame451.jpg detected!\n",
      "Image frame217.jpg detected!\n",
      "Image frame471.jpg detected!\n",
      "Image frame574.jpg detected!\n",
      "Image frame858.jpg detected!\n",
      "Image frame308.jpg detected!\n",
      "Image frame687.jpg detected!\n",
      "Image frame692.jpg detected!\n",
      "Image frame221.jpg detected!\n",
      "Image frame638.jpg detected!\n",
      "Image frame38.jpg detected!\n",
      "Image frame286.jpg detected!\n",
      "Image frame420.jpg detected!\n",
      "Image frame240.jpg detected!\n",
      "Image frame537.jpg detected!\n",
      "Image frame855.jpg detected!\n",
      "Image frame686.jpg detected!\n",
      "Image frame416.jpg detected!\n",
      "Image frame365.jpg detected!\n",
      "Image frame778.jpg detected!\n",
      "Image frame681.jpg detected!\n",
      "Image frame345.jpg detected!\n",
      "Image frame314.jpg detected!\n",
      "Image frame24.jpg detected!\n",
      "Image frame659.jpg detected!\n",
      "Image frame849.jpg detected!\n",
      "Image frame229.jpg detected!\n",
      "Image frame431.jpg detected!\n",
      "Image frame49.jpg detected!\n",
      "Image frame166.jpg detected!\n",
      "Image frame850.jpg detected!\n",
      "Image frame758.jpg detected!\n",
      "Image frame577.jpg detected!\n",
      "Image frame586.jpg detected!\n",
      "Image frame479.jpg detected!\n",
      "Image frame499.jpg detected!\n",
      "Image frame368.jpg detected!\n",
      "Image frame457.jpg detected!\n",
      "Image frame133.jpg detected!\n",
      "Image frame756.jpg detected!\n",
      "Image frame658.jpg detected!\n",
      "Image frame394.jpg detected!\n",
      "Image frame526.jpg detected!\n",
      "Image frame502.jpg detected!\n",
      "Image frame811.jpg detected!\n",
      "Image frame68.jpg detected!\n",
      "Image frame529.jpg detected!\n",
      "Image frame845.jpg detected!\n",
      "Image frame635.jpg detected!\n",
      "Image frame655.jpg detected!\n",
      "Image frame246.jpg detected!\n",
      "Image frame304.jpg detected!\n",
      "Image frame39.jpg detected!\n",
      "Image frame738.jpg detected!\n",
      "Image frame412.jpg detected!\n",
      "Image frame843.jpg detected!\n",
      "Image frame35.jpg detected!\n",
      "Image frame29.jpg detected!\n",
      "Image frame171.jpg detected!\n",
      "Image frame780.jpg detected!\n",
      "Image frame766.jpg detected!\n",
      "Image frame290.jpg detected!\n",
      "Image frame626.jpg detected!\n",
      "Image frame273.jpg detected!\n",
      "Image frame405.jpg detected!\n",
      "Image frame670.jpg detected!\n",
      "Image frame331.jpg detected!\n",
      "Image frame624.jpg detected!\n",
      "Image frame644.jpg detected!\n",
      "Image frame853.jpg detected!\n",
      "Image frame172.jpg detected!\n",
      "Image frame622.jpg detected!\n",
      "Image frame682.jpg detected!\n",
      "Image frame264.jpg detected!\n",
      "Image frame783.jpg detected!\n",
      "Image frame173.jpg detected!\n",
      "Image frame475.jpg detected!\n",
      "Image frame375.jpg detected!\n",
      "Image frame22.jpg detected!\n",
      "Image frame654.jpg detected!\n",
      "Image frame551.jpg detected!\n",
      "Image frame440.jpg detected!\n",
      "Image frame610.jpg detected!\n",
      "Image frame604.jpg detected!\n",
      "Image frame711.jpg detected!\n",
      "Image frame262.jpg detected!\n",
      "Image frame222.jpg detected!\n",
      "Image frame184.jpg detected!\n",
      "Image frame31.jpg detected!\n",
      "Image frame188.jpg detected!\n",
      "Image frame143.jpg detected!\n",
      "Image frame298.jpg detected!\n",
      "Image frame705.jpg detected!\n",
      "Image frame472.jpg detected!\n",
      "Image frame857.jpg detected!\n",
      "Image frame729.jpg detected!\n",
      "Image frame284.jpg detected!\n",
      "Image frame611.jpg detected!\n",
      "Image frame582.jpg detected!\n",
      "Image frame532.jpg detected!\n",
      "Image frame723.jpg detected!\n",
      "Image frame753.jpg detected!\n",
      "Image frame550.jpg detected!\n",
      "Image frame824.jpg detected!\n",
      "Image frame615.jpg detected!\n",
      "Image frame260.jpg detected!\n",
      "Image frame17.jpg detected!\n",
      "Image frame181.jpg detected!\n",
      "Image frame200.jpg detected!\n",
      "Image frame134.jpg detected!\n",
      "Image frame83.jpg detected!\n",
      "Image frame112.jpg detected!\n",
      "Image frame16.jpg detected!\n",
      "Image frame437.jpg detected!\n",
      "Image frame827.jpg detected!\n",
      "Image frame325.jpg detected!\n",
      "Image frame242.jpg detected!\n",
      "Image frame245.jpg detected!\n",
      "Image frame114.jpg detected!\n",
      "Image frame50.jpg detected!\n",
      "Image frame305.jpg detected!\n",
      "Image frame589.jpg detected!\n",
      "Image frame249.jpg detected!\n",
      "Image frame358.jpg detected!\n",
      "Image frame720.jpg detected!\n",
      "Image frame154.jpg detected!\n",
      "Image frame510.jpg detected!\n",
      "Image frame727.jpg detected!\n",
      "Image frame164.jpg detected!\n",
      "Image frame821.jpg detected!\n",
      "Image frame25.jpg detected!\n",
      "Image frame391.jpg detected!\n",
      "Image frame197.jpg detected!\n",
      "Image frame530.jpg detected!\n",
      "Image frame55.jpg detected!\n",
      "Image frame295.jpg detected!\n",
      "Image frame818.jpg detected!\n",
      "Image frame649.jpg detected!\n",
      "Image frame138.jpg detected!\n",
      "Image frame735.jpg detected!\n",
      "Image frame784.jpg detected!\n",
      "Image frame393.jpg detected!\n",
      "Image frame144.jpg detected!\n",
      "Image frame772.jpg detected!\n",
      "Image frame40.jpg detected!\n",
      "Image frame430.jpg detected!\n",
      "Image frame212.jpg detected!\n",
      "Image frame353.jpg detected!\n",
      "Image frame671.jpg detected!\n",
      "Image frame785.jpg detected!\n",
      "Image frame541.jpg detected!\n",
      "Image frame690.jpg detected!\n",
      "Image frame483.jpg detected!\n",
      "Image frame679.jpg detected!\n",
      "Image frame556.jpg detected!\n",
      "Image frame495.jpg detected!\n",
      "Image frame777.jpg detected!\n",
      "Image frame694.jpg detected!\n",
      "Image frame544.jpg detected!\n",
      "Image frame651.jpg detected!\n",
      "Image frame324.jpg detected!\n",
      "Image frame281.jpg detected!\n",
      "Image frame102.jpg detected!\n",
      "Image frame571.jpg detected!\n",
      "Image frame746.jpg detected!\n",
      "Image frame175.jpg detected!\n",
      "Image frame12.jpg detected!\n",
      "Image frame419.jpg detected!\n",
      "Image frame315.jpg detected!\n",
      "Image frame665.jpg detected!\n",
      "Image frame386.jpg detected!\n",
      "Image frame118.jpg detected!\n",
      "Image frame637.jpg detected!\n",
      "Image frame396.jpg detected!\n",
      "Image frame447.jpg detected!\n",
      "Image frame650.jpg detected!\n",
      "Image frame254.jpg detected!\n",
      "Image frame769.jpg detected!\n",
      "Image frame323.jpg detected!\n",
      "Image frame478.jpg detected!\n",
      "Image frame116.jpg detected!\n",
      "Image frame105.jpg detected!\n",
      "Image frame657.jpg detected!\n",
      "Image frame491.jpg detected!\n",
      "Image frame790.jpg detected!\n",
      "Image frame518.jpg detected!\n",
      "Image frame852.jpg detected!\n",
      "Image frame346.jpg detected!\n",
      "Image frame697.jpg detected!\n",
      "Image frame319.jpg detected!\n",
      "Image frame275.jpg detected!\n",
      "Image frame748.jpg detected!\n",
      "Image frame360.jpg detected!\n",
      "Image frame639.jpg detected!\n",
      "Image frame195.jpg detected!\n",
      "Image frame461.jpg detected!\n",
      "Image frame770.jpg detected!\n",
      "Image frame739.jpg detected!\n",
      "Image frame111.jpg detected!\n",
      "Image frame710.jpg detected!\n",
      "Image frame81.jpg detected!\n",
      "Image frame84.jpg detected!\n",
      "Image frame190.jpg detected!\n",
      "Image frame44.jpg detected!\n",
      "Image frame513.jpg detected!\n",
      "Image frame335.jpg detected!\n"
     ]
    },
    {
     "name": "stdout",
     "output_type": "stream",
     "text": [
      "Image frame149.jpg detected!\n",
      "Image frame534.jpg detected!\n",
      "Image frame66.jpg detected!\n",
      "Image frame241.jpg detected!\n",
      "Image frame612.jpg detected!\n",
      "Image frame421.jpg detected!\n",
      "Image frame136.jpg detected!\n",
      "Image frame282.jpg detected!\n",
      "Image frame225.jpg detected!\n",
      "Image frame714.jpg detected!\n",
      "Image frame150.jpg detected!\n",
      "Image frame7.jpg detected!\n",
      "Image frame442.jpg detected!\n",
      "Image frame485.jpg detected!\n",
      "Image frame361.jpg detected!\n",
      "Image frame795.jpg detected!\n",
      "Image frame645.jpg detected!\n",
      "Image frame362.jpg detected!\n",
      "Image frame127.jpg detected!\n",
      "Image frame191.jpg detected!\n",
      "Image frame15.jpg detected!\n",
      "Image frame798.jpg detected!\n",
      "Image frame248.jpg detected!\n",
      "Image frame189.jpg detected!\n",
      "Image frame347.jpg detected!\n",
      "Image frame364.jpg detected!\n",
      "Image frame238.jpg detected!\n",
      "Image frame779.jpg detected!\n",
      "Image frame337.jpg detected!\n",
      "Image frame830.jpg detected!\n",
      "Image frame85.jpg detected!\n",
      "Image frame750.jpg detected!\n",
      "Image frame546.jpg detected!\n",
      "Image frame474.jpg detected!\n",
      "Image frame402.jpg detected!\n",
      "Image frame749.jpg detected!\n",
      "Image frame439.jpg detected!\n",
      "Image frame153.jpg detected!\n",
      "Image frame773.jpg detected!\n",
      "Image frame168.jpg detected!\n",
      "Image frame163.jpg detected!\n",
      "Image frame581.jpg detected!\n",
      "Image frame77.jpg detected!\n",
      "Image frame214.jpg detected!\n",
      "Image frame822.jpg detected!\n",
      "Image frame400.jpg detected!\n",
      "Image frame583.jpg detected!\n",
      "Image frame805.jpg detected!\n",
      "Image frame213.jpg detected!\n",
      "Image frame334.jpg detected!\n",
      "Image frame19.jpg detected!\n",
      "Image frame731.jpg detected!\n",
      "Image frame73.jpg detected!\n",
      "Image frame363.jpg detected!\n",
      "Image frame120.jpg detected!\n",
      "Image frame594.jpg detected!\n",
      "Image frame43.jpg detected!\n",
      "Image frame226.jpg detected!\n",
      "Image frame716.jpg detected!\n",
      "Image frame129.jpg detected!\n",
      "Image frame90.jpg detected!\n",
      "Image frame802.jpg detected!\n",
      "Image frame699.jpg detected!\n",
      "Image frame407.jpg detected!\n",
      "Image frame608.jpg detected!\n",
      "Image frame456.jpg detected!\n",
      "Image frame504.jpg detected!\n",
      "Image frame782.jpg detected!\n",
      "Image frame789.jpg detected!\n",
      "Image frame599.jpg detected!\n",
      "Image frame578.jpg detected!\n",
      "Image frame535.jpg detected!\n",
      "Image frame620.jpg detected!\n",
      "Image frame683.jpg detected!\n",
      "Image frame11.jpg detected!\n",
      "Image frame333.jpg detected!\n",
      "Image frame482.jpg detected!\n",
      "Image frame806.jpg detected!\n",
      "Image frame99.jpg detected!\n",
      "Image frame367.jpg detected!\n",
      "Image frame176.jpg detected!\n",
      "Image frame579.jpg detected!\n",
      "Image frame730.jpg detected!\n",
      "Image frame253.jpg detected!\n",
      "Image frame267.jpg detected!\n",
      "Image frame443.jpg detected!\n",
      "Image frame196.jpg detected!\n",
      "Image frame559.jpg detected!\n",
      "Image frame602.jpg detected!\n",
      "Image frame243.jpg detected!\n",
      "Image frame382.jpg detected!\n",
      "Image frame1.jpg detected!\n",
      "Image frame809.jpg detected!\n",
      "Image frame426.jpg detected!\n",
      "Image frame36.jpg detected!\n",
      "Image frame721.jpg detected!\n",
      "Image frame839.jpg detected!\n",
      "Image frame307.jpg detected!\n",
      "Image frame678.jpg detected!\n",
      "Image frame250.jpg detected!\n",
      "Image frame80.jpg detected!\n",
      "Image frame110.jpg detected!\n",
      "Image frame684.jpg detected!\n",
      "Image frame732.jpg detected!\n",
      "Image frame291.jpg detected!\n",
      "Image frame237.jpg detected!\n",
      "Image frame287.jpg detected!\n",
      "Image frame380.jpg detected!\n",
      "Image frame600.jpg detected!\n",
      "Image frame37.jpg detected!\n",
      "Image frame838.jpg detected!\n",
      "Image frame255.jpg detected!\n",
      "Image frame508.jpg detected!\n",
      "Image frame299.jpg detected!\n",
      "Image frame145.jpg detected!\n",
      "Image frame251.jpg detected!\n",
      "Image frame514.jpg detected!\n",
      "Image frame338.jpg detected!\n",
      "Image frame533.jpg detected!\n",
      "Image frame152.jpg detected!\n",
      "Image frame21.jpg detected!\n",
      "Image frame512.jpg detected!\n",
      "Image frame28.jpg detected!\n",
      "Image frame545.jpg detected!\n",
      "Image frame752.jpg detected!\n",
      "Image frame516.jpg detected!\n",
      "Image frame234.jpg detected!\n",
      "Image frame422.jpg detected!\n",
      "Image frame20.jpg detected!\n",
      "Image frame841.jpg detected!\n",
      "Image frame146.jpg detected!\n",
      "Image frame668.jpg detected!\n",
      "Image frame587.jpg detected!\n",
      "Image frame522.jpg detected!\n",
      "Image frame629.jpg detected!\n",
      "Image frame219.jpg detected!\n",
      "Image frame815.jpg detected!\n",
      "Image frame266.jpg detected!\n",
      "Image frame547.jpg detected!\n",
      "Image frame788.jpg detected!\n",
      "Image frame653.jpg detected!\n",
      "Image frame193.jpg detected!\n",
      "Image frame381.jpg detected!\n",
      "Image frame336.jpg detected!\n",
      "Image frame570.jpg detected!\n",
      "Image frame452.jpg detected!\n",
      "Image frame630.jpg detected!\n",
      "Image frame552.jpg detected!\n",
      "Image frame147.jpg detected!\n",
      "Image frame179.jpg detected!\n",
      "Image frame737.jpg detected!\n",
      "Image frame444.jpg detected!\n",
      "Image frame825.jpg detected!\n",
      "Image frame800.jpg detected!\n",
      "Image frame708.jpg detected!\n",
      "Image frame842.jpg detected!\n",
      "Image frame128.jpg detected!\n",
      "Image frame566.jpg detected!\n",
      "Image frame434.jpg detected!\n",
      "Image frame155.jpg detected!\n",
      "Image frame206.jpg detected!\n",
      "Image frame63.jpg detected!\n",
      "Image frame309.jpg detected!\n",
      "Image frame387.jpg detected!\n",
      "Image frame13.jpg detected!\n",
      "Image frame278.jpg detected!\n",
      "Image frame322.jpg detected!\n",
      "Image frame98.jpg detected!\n",
      "Image frame747.jpg detected!\n",
      "Image frame826.jpg detected!\n",
      "Image frame833.jpg detected!\n",
      "Image frame445.jpg detected!\n",
      "Image frame540.jpg detected!\n",
      "Image frame736.jpg detected!\n",
      "Image frame124.jpg detected!\n",
      "Image frame828.jpg detected!\n",
      "Image frame480.jpg detected!\n",
      "Image frame596.jpg detected!\n",
      "Image frame575.jpg detected!\n",
      "Image frame223.jpg detected!\n",
      "Image frame404.jpg detected!\n",
      "Image frame141.jpg detected!\n",
      "Image frame700.jpg detected!\n",
      "Image frame70.jpg detected!\n",
      "Image frame500.jpg detected!\n",
      "Image frame435.jpg detected!\n",
      "Image frame165.jpg detected!\n",
      "Image frame370.jpg detected!\n",
      "Image frame157.jpg detected!\n",
      "Image frame62.jpg detected!\n",
      "Image frame327.jpg detected!\n",
      "Image frame258.jpg detected!\n",
      "Image frame113.jpg detected!\n",
      "Image frame696.jpg detected!\n",
      "Image frame792.jpg detected!\n",
      "Image frame515.jpg detected!\n",
      "Image frame767.jpg detected!\n",
      "Image frame722.jpg detected!\n",
      "Image frame317.jpg detected!\n",
      "Image frame511.jpg detected!\n",
      "Image frame509.jpg detected!\n",
      "Image frame786.jpg detected!\n",
      "Image frame598.jpg detected!\n",
      "Image frame79.jpg detected!\n",
      "Image frame339.jpg detected!\n",
      "Image frame563.jpg detected!\n",
      "Image frame466.jpg detected!\n",
      "Image frame160.jpg detected!\n",
      "Image frame395.jpg detected!\n",
      "Image frame123.jpg detected!\n",
      "Image frame662.jpg detected!\n",
      "Image frame628.jpg detected!\n",
      "Image frame384.jpg detected!\n",
      "Image frame280.jpg detected!\n",
      "Image frame667.jpg detected!\n",
      "Image frame759.jpg detected!\n",
      "Image frame51.jpg detected!\n",
      "Image frame344.jpg detected!\n",
      "Image frame321.jpg detected!\n",
      "Image frame691.jpg detected!\n",
      "Image frame374.jpg detected!\n",
      "Image frame357.jpg detected!\n",
      "Image frame125.jpg detected!\n",
      "Image frame601.jpg detected!\n",
      "Image frame712.jpg detected!\n",
      "Image frame271.jpg detected!\n",
      "Image frame406.jpg detected!\n",
      "Image frame775.jpg detected!\n",
      "Image frame848.jpg detected!\n",
      "Image frame378.jpg detected!\n",
      "Image frame366.jpg detected!\n",
      "Image frame424.jpg detected!\n",
      "Image frame142.jpg detected!\n",
      "Image frame389.jpg detected!\n",
      "Image frame279.jpg detected!\n",
      "Image frame41.jpg detected!\n",
      "Image frame343.jpg detected!\n",
      "Image frame507.jpg detected!\n",
      "Image frame207.jpg detected!\n",
      "Image frame6.jpg detected!\n",
      "Image frame86.jpg detected!\n",
      "Image frame139.jpg detected!\n",
      "Image frame58.jpg detected!\n",
      "Image frame32.jpg detected!\n",
      "Image frame122.jpg detected!\n",
      "Image frame831.jpg detected!\n",
      "Image frame524.jpg detected!\n",
      "Image frame306.jpg detected!\n",
      "Image frame390.jpg detected!\n",
      "Image frame549.jpg detected!\n",
      "Image frame244.jpg detected!\n",
      "Image frame235.jpg detected!\n",
      "Image frame379.jpg detected!\n",
      "Image frame633.jpg detected!\n",
      "Image frame807.jpg detected!\n",
      "Image frame771.jpg detected!\n",
      "Image frame740.jpg detected!\n",
      "Image frame297.jpg detected!\n",
      "Image frame572.jpg detected!\n",
      "Image frame177.jpg detected!\n",
      "Image frame398.jpg detected!\n",
      "Image frame131.jpg detected!\n",
      "Image frame548.jpg detected!\n",
      "Image frame348.jpg detected!\n",
      "Image frame641.jpg detected!\n",
      "Image frame256.jpg detected!\n",
      "Image frame621.jpg detected!\n",
      "Image frame799.jpg detected!\n",
      "Image frame647.jpg detected!\n",
      "Image frame493.jpg detected!\n",
      "Image frame169.jpg detected!\n",
      "Image frame326.jpg detected!\n",
      "Image frame56.jpg detected!\n",
      "Image frame14.jpg detected!\n",
      "Image frame680.jpg detected!\n",
      "Image frame743.jpg detected!\n",
      "Image frame427.jpg detected!\n",
      "Image frame72.jpg detected!\n",
      "Image frame492.jpg detected!\n",
      "Image frame373.jpg detected!\n",
      "Image frame813.jpg detected!\n",
      "Image frame676.jpg detected!\n",
      "Image frame376.jpg detected!\n",
      "Image frame689.jpg detected!\n"
     ]
    },
    {
     "name": "stdout",
     "output_type": "stream",
     "text": [
      "Image frame135.jpg detected!\n",
      "Image frame104.jpg detected!\n",
      "Image frame607.jpg detected!\n",
      "Image frame698.jpg detected!\n",
      "Image frame65.jpg detected!\n",
      "Image frame441.jpg detected!\n",
      "Image frame733.jpg detected!\n",
      "Image frame688.jpg detected!\n",
      "Image frame428.jpg detected!\n",
      "Image frame103.jpg detected!\n",
      "Image frame640.jpg detected!\n",
      "Image frame205.jpg detected!\n",
      "Image frame100.jpg detected!\n",
      "Image frame74.jpg detected!\n",
      "Image frame329.jpg detected!\n",
      "Image frame60.jpg detected!\n",
      "Image frame754.jpg detected!\n",
      "Image frame18.jpg detected!\n",
      "Image frame823.jpg detected!\n",
      "Image frame817.jpg detected!\n",
      "Image frame539.jpg detected!\n",
      "Image frame761.jpg detected!\n",
      "Image frame257.jpg detected!\n",
      "Image frame565.jpg detected!\n",
      "Image frame484.jpg detected!\n",
      "Image frame42.jpg detected!\n",
      "Image frame706.jpg detected!\n",
      "Image frame449.jpg detected!\n",
      "Image frame597.jpg detected!\n",
      "Image frame429.jpg detected!\n",
      "Image frame228.jpg detected!\n",
      "Image frame288.jpg detected!\n",
      "Image frame588.jpg detected!\n",
      "Image frame446.jpg detected!\n",
      "Image frame10.jpg detected!\n",
      "Image frame227.jpg detected!\n",
      "Image frame410.jpg detected!\n",
      "Image frame719.jpg detected!\n",
      "Image frame352.jpg detected!\n",
      "Image frame293.jpg detected!\n",
      "Image frame715.jpg detected!\n",
      "Image frame702.jpg detected!\n",
      "Image frame467.jpg detected!\n",
      "Image frame498.jpg detected!\n",
      "Image frame117.jpg detected!\n",
      "Image frame159.jpg detected!\n",
      "Image frame359.jpg detected!\n",
      "Image frame693.jpg detected!\n",
      "Image frame634.jpg detected!\n",
      "Image frame209.jpg detected!\n",
      "Image frame342.jpg detected!\n",
      "Image frame787.jpg detected!\n",
      "Image frame627.jpg detected!\n",
      "Image frame263.jpg detected!\n",
      "Image frame814.jpg detected!\n",
      "Image frame506.jpg detected!\n",
      "Image frame465.jpg detected!\n",
      "Image frame137.jpg detected!\n",
      "Image frame801.jpg detected!\n",
      "Image frame666.jpg detected!\n",
      "Image frame718.jpg detected!\n",
      "Image frame313.jpg detected!\n",
      "Image frame170.jpg detected!\n",
      "Image frame167.jpg detected!\n",
      "Image frame92.jpg detected!\n",
      "Image frame294.jpg detected!\n",
      "Image frame59.jpg detected!\n",
      "Image frame603.jpg detected!\n",
      "Image frame292.jpg detected!\n",
      "Image frame259.jpg detected!\n",
      "Image frame67.jpg detected!\n",
      "Image frame203.jpg detected!\n",
      "Image frame350.jpg detected!\n",
      "Image frame673.jpg detected!\n",
      "Image frame543.jpg detected!\n",
      "Image frame460.jpg detected!\n",
      "Image frame573.jpg detected!\n",
      "Image frame623.jpg detected!\n",
      "Image frame525.jpg detected!\n",
      "Image frame584.jpg detected!\n",
      "Image frame846.jpg detected!\n",
      "Image frame54.jpg detected!\n",
      "Image frame233.jpg detected!\n",
      "Image frame835.jpg detected!\n",
      "Image frame803.jpg detected!\n",
      "Image frame741.jpg detected!\n",
      "Image frame614.jpg detected!\n",
      "Image frame108.jpg detected!\n",
      "Image frame0.jpg detected!\n",
      "Image frame230.jpg detected!\n",
      "Image frame605.jpg detected!\n",
      "Image frame854.jpg detected!\n",
      "Image frame247.jpg detected!\n",
      "Image frame709.jpg detected!\n",
      "Image frame194.jpg detected!\n",
      "Image frame332.jpg detected!\n",
      "Image frame236.jpg detected!\n",
      "Image frame762.jpg detected!\n",
      "Image frame296.jpg detected!\n",
      "Image frame303.jpg detected!\n",
      "Image frame503.jpg detected!\n",
      "Image frame432.jpg detected!\n",
      "Image frame834.jpg detected!\n",
      "Image frame265.jpg detected!\n",
      "Image frame494.jpg detected!\n",
      "Image frame69.jpg detected!\n",
      "Image frame724.jpg detected!\n",
      "Image frame486.jpg detected!\n",
      "Image frame408.jpg detected!\n",
      "Image frame453.jpg detected!\n",
      "Image frame95.jpg detected!\n",
      "Image frame372.jpg detected!\n",
      "Image frame728.jpg detected!\n",
      "Image frame595.jpg detected!\n",
      "Image frame88.jpg detected!\n",
      "Image frame433.jpg detected!\n",
      "Image frame642.jpg detected!\n",
      "Image frame87.jpg detected!\n",
      "Image frame561.jpg detected!\n",
      "Image frame151.jpg detected!\n",
      "Image frame46.jpg detected!\n",
      "Image frame199.jpg detected!\n",
      "Image frame96.jpg detected!\n",
      "Image frame423.jpg detected!\n",
      "Image frame115.jpg detected!\n",
      "Image frame174.jpg detected!\n",
      "Image frame481.jpg detected!\n",
      "Image frame450.jpg detected!\n",
      "Image frame528.jpg detected!\n",
      "Image frame94.jpg detected!\n",
      "Image frame53.jpg detected!\n",
      "Image frame204.jpg detected!\n",
      "Image frame656.jpg detected!\n",
      "Image frame631.jpg detected!\n",
      "Image frame61.jpg detected!\n",
      "Image frame851.jpg detected!\n",
      "Image frame91.jpg detected!\n",
      "Image frame695.jpg detected!\n",
      "Image frame685.jpg detected!\n",
      "Image frame856.jpg detected!\n",
      "Image frame106.jpg detected!\n",
      "Image frame477.jpg detected!\n",
      "Image frame793.jpg detected!\n",
      "Image frame436.jpg detected!\n",
      "Image frame808.jpg detected!\n",
      "Image frame310.jpg detected!\n",
      "Image frame158.jpg detected!\n",
      "Image frame302.jpg detected!\n",
      "Image frame734.jpg detected!\n",
      "Image frame220.jpg detected!\n",
      "Image frame763.jpg detected!\n",
      "Image frame268.jpg detected!\n",
      "Image frame417.jpg detected!\n",
      "Image frame463.jpg detected!\n",
      "Image frame520.jpg detected!\n",
      "Image frame836.jpg detected!\n",
      "Image frame591.jpg detected!\n",
      "Image frame704.jpg detected!\n",
      "Image frame473.jpg detected!\n",
      "Image frame215.jpg detected!\n",
      "Image frame840.jpg detected!\n",
      "Image frame542.jpg detected!\n",
      "Image frame765.jpg detected!\n",
      "Image frame580.jpg detected!\n",
      "Image frame820.jpg detected!\n",
      "Image frame562.jpg detected!\n",
      "Image frame781.jpg detected!\n",
      "Image frame202.jpg detected!\n",
      "Image frame661.jpg detected!\n",
      "Image frame340.jpg detected!\n",
      "Image frame349.jpg detected!\n",
      "Image frame272.jpg detected!\n",
      "Image frame774.jpg detected!\n",
      "Image frame351.jpg detected!\n",
      "Image frame555.jpg detected!\n",
      "Image frame107.jpg detected!\n",
      "Image frame470.jpg detected!\n",
      "Image frame569.jpg detected!\n",
      "Image frame208.jpg detected!\n",
      "Image frame224.jpg detected!\n",
      "Image frame812.jpg detected!\n",
      "Image frame239.jpg detected!\n",
      "Image frame109.jpg detected!\n",
      "Image frame458.jpg detected!\n",
      "Image frame328.jpg detected!\n",
      "Image frame385.jpg detected!\n",
      "Image frame726.jpg detected!\n",
      "Image frame703.jpg detected!\n",
      "Image frame519.jpg detected!\n",
      "Image frame300.jpg detected!\n",
      "Image frame132.jpg detected!\n",
      "Image frame130.jpg detected!\n",
      "Image frame418.jpg detected!\n",
      "Image frame505.jpg detected!\n",
      "Image frame312.jpg detected!\n",
      "Image frame745.jpg detected!\n",
      "Image frame392.jpg detected!\n",
      "Image frame675.jpg detected!\n",
      "Image frame797.jpg detected!\n",
      "Image frame186.jpg detected!\n",
      "Image frame45.jpg detected!\n",
      "Image frame707.jpg detected!\n",
      "Image frame810.jpg detected!\n",
      "Image frame201.jpg detected!\n",
      "Image frame285.jpg detected!\n",
      "Image frame161.jpg detected!\n",
      "Image frame121.jpg detected!\n",
      "Image frame30.jpg detected!\n",
      "Image frame377.jpg detected!\n",
      "Image frame796.jpg detected!\n",
      "Image frame609.jpg detected!\n",
      "Image frame383.jpg detected!\n",
      "Image frame757.jpg detected!\n",
      "Image frame744.jpg detected!\n",
      "Image frame760.jpg detected!\n",
      "Image frame497.jpg detected!\n",
      "Image frame397.jpg detected!\n",
      "Image frame517.jpg detected!\n",
      "Image frame178.jpg detected!\n",
      "Image frame804.jpg detected!\n",
      "Image frame156.jpg detected!\n",
      "Image frame632.jpg detected!\n",
      "Image frame677.jpg detected!\n",
      "Image frame252.jpg detected!\n",
      "Image frame8.jpg detected!\n",
      "Image frame674.jpg detected!\n",
      "Image frame672.jpg detected!\n",
      "Image frame425.jpg detected!\n",
      "Image frame162.jpg detected!\n",
      "Image frame2.jpg detected!\n",
      "Image frame847.jpg detected!\n",
      "Image frame318.jpg detected!\n",
      "Image frame180.jpg detected!\n",
      "Image frame47.jpg detected!\n",
      "Image frame764.jpg detected!\n",
      "Image frame187.jpg detected!\n",
      "Image frame554.jpg detected!\n",
      "Image frame776.jpg detected!\n",
      "Image frame231.jpg detected!\n",
      "Image frame355.jpg detected!\n",
      "Image frame82.jpg detected!\n",
      "Image frame490.jpg detected!\n",
      "Image frame401.jpg detected!\n",
      "Image frame148.jpg detected!\n",
      "Image frame283.jpg detected!\n",
      "Image frame414.jpg detected!\n",
      "Image frame829.jpg detected!\n",
      "Image frame48.jpg detected!\n",
      "Image frame311.jpg detected!\n",
      "Image frame34.jpg detected!\n",
      "Image frame618.jpg detected!\n",
      "Image frame585.jpg detected!\n",
      "Image frame27.jpg detected!\n",
      "Image frame23.jpg detected!\n",
      "Image frame232.jpg detected!\n",
      "Image frame75.jpg detected!\n",
      "Image frame119.jpg detected!\n",
      "Image frame669.jpg detected!\n",
      "Image frame564.jpg detected!\n",
      "Image frame276.jpg detected!\n",
      "Image frame218.jpg detected!\n",
      "Image frame183.jpg detected!\n",
      "Image frame725.jpg detected!\n",
      "Image frame198.jpg detected!\n",
      "Image frame289.jpg detected!\n",
      "Image frame487.jpg detected!\n",
      "Image frame531.jpg detected!\n",
      "Image frame5.jpg detected!\n",
      "Image frame844.jpg detected!\n",
      "Image frame616.jpg detected!\n",
      "Image frame330.jpg detected!\n",
      "CPU times: user 8min 42s, sys: 1.7 s, total: 8min 43s\n",
      "Wall time: 8min 55s\n"
     ]
    },
    {
     "data": {
      "text/plain": [
       "<Figure size 1440x720 with 0 Axes>"
      ]
     },
     "metadata": {},
     "output_type": "display_data"
    },
    {
     "data": {
      "text/plain": [
       "<Figure size 1440x720 with 0 Axes>"
      ]
     },
     "metadata": {},
     "output_type": "display_data"
    },
    {
     "data": {
      "text/plain": [
       "<Figure size 1440x720 with 0 Axes>"
      ]
     },
     "metadata": {},
     "output_type": "display_data"
    },
    {
     "data": {
      "text/plain": [
       "<Figure size 1440x720 with 0 Axes>"
      ]
     },
     "metadata": {},
     "output_type": "display_data"
    },
    {
     "data": {
      "text/plain": [
       "<Figure size 1440x720 with 0 Axes>"
      ]
     },
     "metadata": {},
     "output_type": "display_data"
    },
    {
     "data": {
      "text/plain": [
       "<Figure size 1440x720 with 0 Axes>"
      ]
     },
     "metadata": {},
     "output_type": "display_data"
    },
    {
     "data": {
      "text/plain": [
       "<Figure size 1440x720 with 0 Axes>"
      ]
     },
     "metadata": {},
     "output_type": "display_data"
    },
    {
     "data": {
      "text/plain": [
       "<Figure size 1440x720 with 0 Axes>"
      ]
     },
     "metadata": {},
     "output_type": "display_data"
    },
    {
     "data": {
      "text/plain": [
       "<Figure size 1440x720 with 0 Axes>"
      ]
     },
     "metadata": {},
     "output_type": "display_data"
    },
    {
     "data": {
      "text/plain": [
       "<Figure size 1440x720 with 0 Axes>"
      ]
     },
     "metadata": {},
     "output_type": "display_data"
    },
    {
     "data": {
      "text/plain": [
       "<Figure size 1440x720 with 0 Axes>"
      ]
     },
     "metadata": {},
     "output_type": "display_data"
    },
    {
     "data": {
      "text/plain": [
       "<Figure size 1440x720 with 0 Axes>"
      ]
     },
     "metadata": {},
     "output_type": "display_data"
    },
    {
     "data": {
      "text/plain": [
       "<Figure size 1440x720 with 0 Axes>"
      ]
     },
     "metadata": {},
     "output_type": "display_data"
    },
    {
     "data": {
      "text/plain": [
       "<Figure size 1440x720 with 0 Axes>"
      ]
     },
     "metadata": {},
     "output_type": "display_data"
    },
    {
     "data": {
      "text/plain": [
       "<Figure size 1440x720 with 0 Axes>"
      ]
     },
     "metadata": {},
     "output_type": "display_data"
    },
    {
     "data": {
      "text/plain": [
       "<Figure size 1440x720 with 0 Axes>"
      ]
     },
     "metadata": {},
     "output_type": "display_data"
    },
    {
     "data": {
      "text/plain": [
       "<Figure size 1440x720 with 0 Axes>"
      ]
     },
     "metadata": {},
     "output_type": "display_data"
    },
    {
     "data": {
      "text/plain": [
       "<Figure size 1440x720 with 0 Axes>"
      ]
     },
     "metadata": {},
     "output_type": "display_data"
    },
    {
     "data": {
      "text/plain": [
       "<Figure size 1440x720 with 0 Axes>"
      ]
     },
     "metadata": {},
     "output_type": "display_data"
    },
    {
     "data": {
      "text/plain": [
       "<Figure size 1440x720 with 0 Axes>"
      ]
     },
     "metadata": {},
     "output_type": "display_data"
    },
    {
     "data": {
      "text/plain": [
       "<Figure size 1440x720 with 0 Axes>"
      ]
     },
     "metadata": {},
     "output_type": "display_data"
    },
    {
     "data": {
      "text/plain": [
       "<Figure size 1440x720 with 0 Axes>"
      ]
     },
     "metadata": {},
     "output_type": "display_data"
    },
    {
     "data": {
      "text/plain": [
       "<Figure size 1440x720 with 0 Axes>"
      ]
     },
     "metadata": {},
     "output_type": "display_data"
    },
    {
     "data": {
      "text/plain": [
       "<Figure size 1440x720 with 0 Axes>"
      ]
     },
     "metadata": {},
     "output_type": "display_data"
    },
    {
     "data": {
      "text/plain": [
       "<Figure size 1440x720 with 0 Axes>"
      ]
     },
     "metadata": {},
     "output_type": "display_data"
    },
    {
     "data": {
      "text/plain": [
       "<Figure size 1440x720 with 0 Axes>"
      ]
     },
     "metadata": {},
     "output_type": "display_data"
    },
    {
     "data": {
      "text/plain": [
       "<Figure size 1440x720 with 0 Axes>"
      ]
     },
     "metadata": {},
     "output_type": "display_data"
    },
    {
     "data": {
      "text/plain": [
       "<Figure size 1440x720 with 0 Axes>"
      ]
     },
     "metadata": {},
     "output_type": "display_data"
    },
    {
     "data": {
      "text/plain": [
       "<Figure size 1440x720 with 0 Axes>"
      ]
     },
     "metadata": {},
     "output_type": "display_data"
    },
    {
     "data": {
      "text/plain": [
       "<Figure size 1440x720 with 0 Axes>"
      ]
     },
     "metadata": {},
     "output_type": "display_data"
    },
    {
     "data": {
      "text/plain": [
       "<Figure size 1440x720 with 0 Axes>"
      ]
     },
     "metadata": {},
     "output_type": "display_data"
    },
    {
     "data": {
      "text/plain": [
       "<Figure size 1440x720 with 0 Axes>"
      ]
     },
     "metadata": {},
     "output_type": "display_data"
    },
    {
     "data": {
      "text/plain": [
       "<Figure size 1440x720 with 0 Axes>"
      ]
     },
     "metadata": {},
     "output_type": "display_data"
    },
    {
     "data": {
      "text/plain": [
       "<Figure size 1440x720 with 0 Axes>"
      ]
     },
     "metadata": {},
     "output_type": "display_data"
    },
    {
     "data": {
      "text/plain": [
       "<Figure size 1440x720 with 0 Axes>"
      ]
     },
     "metadata": {},
     "output_type": "display_data"
    },
    {
     "data": {
      "text/plain": [
       "<Figure size 1440x720 with 0 Axes>"
      ]
     },
     "metadata": {},
     "output_type": "display_data"
    },
    {
     "data": {
      "text/plain": [
       "<Figure size 1440x720 with 0 Axes>"
      ]
     },
     "metadata": {},
     "output_type": "display_data"
    },
    {
     "data": {
      "text/plain": [
       "<Figure size 1440x720 with 0 Axes>"
      ]
     },
     "metadata": {},
     "output_type": "display_data"
    },
    {
     "data": {
      "text/plain": [
       "<Figure size 1440x720 with 0 Axes>"
      ]
     },
     "metadata": {},
     "output_type": "display_data"
    },
    {
     "data": {
      "text/plain": [
       "<Figure size 1440x720 with 0 Axes>"
      ]
     },
     "metadata": {},
     "output_type": "display_data"
    },
    {
     "data": {
      "text/plain": [
       "<Figure size 1440x720 with 0 Axes>"
      ]
     },
     "metadata": {},
     "output_type": "display_data"
    },
    {
     "data": {
      "text/plain": [
       "<Figure size 1440x720 with 0 Axes>"
      ]
     },
     "metadata": {},
     "output_type": "display_data"
    },
    {
     "data": {
      "text/plain": [
       "<Figure size 1440x720 with 0 Axes>"
      ]
     },
     "metadata": {},
     "output_type": "display_data"
    },
    {
     "data": {
      "text/plain": [
       "<Figure size 1440x720 with 0 Axes>"
      ]
     },
     "metadata": {},
     "output_type": "display_data"
    },
    {
     "data": {
      "text/plain": [
       "<Figure size 1440x720 with 0 Axes>"
      ]
     },
     "metadata": {},
     "output_type": "display_data"
    },
    {
     "data": {
      "text/plain": [
       "<Figure size 1440x720 with 0 Axes>"
      ]
     },
     "metadata": {},
     "output_type": "display_data"
    },
    {
     "data": {
      "text/plain": [
       "<Figure size 1440x720 with 0 Axes>"
      ]
     },
     "metadata": {},
     "output_type": "display_data"
    },
    {
     "data": {
      "text/plain": [
       "<Figure size 1440x720 with 0 Axes>"
      ]
     },
     "metadata": {},
     "output_type": "display_data"
    },
    {
     "data": {
      "text/plain": [
       "<Figure size 1440x720 with 0 Axes>"
      ]
     },
     "metadata": {},
     "output_type": "display_data"
    },
    {
     "data": {
      "text/plain": [
       "<Figure size 1440x720 with 0 Axes>"
      ]
     },
     "metadata": {},
     "output_type": "display_data"
    },
    {
     "data": {
      "text/plain": [
       "<Figure size 1440x720 with 0 Axes>"
      ]
     },
     "metadata": {},
     "output_type": "display_data"
    },
    {
     "data": {
      "text/plain": [
       "<Figure size 1440x720 with 0 Axes>"
      ]
     },
     "metadata": {},
     "output_type": "display_data"
    },
    {
     "data": {
      "text/plain": [
       "<Figure size 1440x720 with 0 Axes>"
      ]
     },
     "metadata": {},
     "output_type": "display_data"
    },
    {
     "data": {
      "text/plain": [
       "<Figure size 1440x720 with 0 Axes>"
      ]
     },
     "metadata": {},
     "output_type": "display_data"
    },
    {
     "data": {
      "text/plain": [
       "<Figure size 1440x720 with 0 Axes>"
      ]
     },
     "metadata": {},
     "output_type": "display_data"
    },
    {
     "data": {
      "text/plain": [
       "<Figure size 1440x720 with 0 Axes>"
      ]
     },
     "metadata": {},
     "output_type": "display_data"
    },
    {
     "data": {
      "text/plain": [
       "<Figure size 1440x720 with 0 Axes>"
      ]
     },
     "metadata": {},
     "output_type": "display_data"
    },
    {
     "data": {
      "text/plain": [
       "<Figure size 1440x720 with 0 Axes>"
      ]
     },
     "metadata": {},
     "output_type": "display_data"
    },
    {
     "data": {
      "text/plain": [
       "<Figure size 1440x720 with 0 Axes>"
      ]
     },
     "metadata": {},
     "output_type": "display_data"
    },
    {
     "data": {
      "text/plain": [
       "<Figure size 1440x720 with 0 Axes>"
      ]
     },
     "metadata": {},
     "output_type": "display_data"
    },
    {
     "data": {
      "text/plain": [
       "<Figure size 1440x720 with 0 Axes>"
      ]
     },
     "metadata": {},
     "output_type": "display_data"
    },
    {
     "data": {
      "text/plain": [
       "<Figure size 1440x720 with 0 Axes>"
      ]
     },
     "metadata": {},
     "output_type": "display_data"
    },
    {
     "data": {
      "text/plain": [
       "<Figure size 1440x720 with 0 Axes>"
      ]
     },
     "metadata": {},
     "output_type": "display_data"
    },
    {
     "data": {
      "text/plain": [
       "<Figure size 1440x720 with 0 Axes>"
      ]
     },
     "metadata": {},
     "output_type": "display_data"
    },
    {
     "data": {
      "text/plain": [
       "<Figure size 1440x720 with 0 Axes>"
      ]
     },
     "metadata": {},
     "output_type": "display_data"
    },
    {
     "data": {
      "text/plain": [
       "<Figure size 1440x720 with 0 Axes>"
      ]
     },
     "metadata": {},
     "output_type": "display_data"
    },
    {
     "data": {
      "text/plain": [
       "<Figure size 1440x720 with 0 Axes>"
      ]
     },
     "metadata": {},
     "output_type": "display_data"
    },
    {
     "data": {
      "text/plain": [
       "<Figure size 1440x720 with 0 Axes>"
      ]
     },
     "metadata": {},
     "output_type": "display_data"
    },
    {
     "data": {
      "text/plain": [
       "<Figure size 1440x720 with 0 Axes>"
      ]
     },
     "metadata": {},
     "output_type": "display_data"
    },
    {
     "data": {
      "text/plain": [
       "<Figure size 1440x720 with 0 Axes>"
      ]
     },
     "metadata": {},
     "output_type": "display_data"
    },
    {
     "data": {
      "text/plain": [
       "<Figure size 1440x720 with 0 Axes>"
      ]
     },
     "metadata": {},
     "output_type": "display_data"
    },
    {
     "data": {
      "text/plain": [
       "<Figure size 1440x720 with 0 Axes>"
      ]
     },
     "metadata": {},
     "output_type": "display_data"
    },
    {
     "data": {
      "text/plain": [
       "<Figure size 1440x720 with 0 Axes>"
      ]
     },
     "metadata": {},
     "output_type": "display_data"
    },
    {
     "data": {
      "text/plain": [
       "<Figure size 1440x720 with 0 Axes>"
      ]
     },
     "metadata": {},
     "output_type": "display_data"
    },
    {
     "data": {
      "text/plain": [
       "<Figure size 1440x720 with 0 Axes>"
      ]
     },
     "metadata": {},
     "output_type": "display_data"
    },
    {
     "data": {
      "text/plain": [
       "<Figure size 1440x720 with 0 Axes>"
      ]
     },
     "metadata": {},
     "output_type": "display_data"
    },
    {
     "data": {
      "text/plain": [
       "<Figure size 1440x720 with 0 Axes>"
      ]
     },
     "metadata": {},
     "output_type": "display_data"
    },
    {
     "data": {
      "text/plain": [
       "<Figure size 1440x720 with 0 Axes>"
      ]
     },
     "metadata": {},
     "output_type": "display_data"
    },
    {
     "data": {
      "text/plain": [
       "<Figure size 1440x720 with 0 Axes>"
      ]
     },
     "metadata": {},
     "output_type": "display_data"
    },
    {
     "data": {
      "text/plain": [
       "<Figure size 1440x720 with 0 Axes>"
      ]
     },
     "metadata": {},
     "output_type": "display_data"
    },
    {
     "data": {
      "text/plain": [
       "<Figure size 1440x720 with 0 Axes>"
      ]
     },
     "metadata": {},
     "output_type": "display_data"
    },
    {
     "data": {
      "text/plain": [
       "<Figure size 1440x720 with 0 Axes>"
      ]
     },
     "metadata": {},
     "output_type": "display_data"
    },
    {
     "data": {
      "text/plain": [
       "<Figure size 1440x720 with 0 Axes>"
      ]
     },
     "metadata": {},
     "output_type": "display_data"
    },
    {
     "data": {
      "text/plain": [
       "<Figure size 1440x720 with 0 Axes>"
      ]
     },
     "metadata": {},
     "output_type": "display_data"
    },
    {
     "data": {
      "text/plain": [
       "<Figure size 1440x720 with 0 Axes>"
      ]
     },
     "metadata": {},
     "output_type": "display_data"
    },
    {
     "data": {
      "text/plain": [
       "<Figure size 1440x720 with 0 Axes>"
      ]
     },
     "metadata": {},
     "output_type": "display_data"
    },
    {
     "data": {
      "text/plain": [
       "<Figure size 1440x720 with 0 Axes>"
      ]
     },
     "metadata": {},
     "output_type": "display_data"
    },
    {
     "data": {
      "text/plain": [
       "<Figure size 1440x720 with 0 Axes>"
      ]
     },
     "metadata": {},
     "output_type": "display_data"
    },
    {
     "data": {
      "text/plain": [
       "<Figure size 1440x720 with 0 Axes>"
      ]
     },
     "metadata": {},
     "output_type": "display_data"
    },
    {
     "data": {
      "text/plain": [
       "<Figure size 1440x720 with 0 Axes>"
      ]
     },
     "metadata": {},
     "output_type": "display_data"
    },
    {
     "data": {
      "text/plain": [
       "<Figure size 1440x720 with 0 Axes>"
      ]
     },
     "metadata": {},
     "output_type": "display_data"
    },
    {
     "data": {
      "text/plain": [
       "<Figure size 1440x720 with 0 Axes>"
      ]
     },
     "metadata": {},
     "output_type": "display_data"
    },
    {
     "data": {
      "text/plain": [
       "<Figure size 1440x720 with 0 Axes>"
      ]
     },
     "metadata": {},
     "output_type": "display_data"
    },
    {
     "data": {
      "text/plain": [
       "<Figure size 1440x720 with 0 Axes>"
      ]
     },
     "metadata": {},
     "output_type": "display_data"
    },
    {
     "data": {
      "text/plain": [
       "<Figure size 1440x720 with 0 Axes>"
      ]
     },
     "metadata": {},
     "output_type": "display_data"
    },
    {
     "data": {
      "text/plain": [
       "<Figure size 1440x720 with 0 Axes>"
      ]
     },
     "metadata": {},
     "output_type": "display_data"
    },
    {
     "data": {
      "text/plain": [
       "<Figure size 1440x720 with 0 Axes>"
      ]
     },
     "metadata": {},
     "output_type": "display_data"
    },
    {
     "data": {
      "text/plain": [
       "<Figure size 1440x720 with 0 Axes>"
      ]
     },
     "metadata": {},
     "output_type": "display_data"
    },
    {
     "data": {
      "text/plain": [
       "<Figure size 1440x720 with 0 Axes>"
      ]
     },
     "metadata": {},
     "output_type": "display_data"
    },
    {
     "data": {
      "text/plain": [
       "<Figure size 1440x720 with 0 Axes>"
      ]
     },
     "metadata": {},
     "output_type": "display_data"
    },
    {
     "data": {
      "text/plain": [
       "<Figure size 1440x720 with 0 Axes>"
      ]
     },
     "metadata": {},
     "output_type": "display_data"
    },
    {
     "data": {
      "text/plain": [
       "<Figure size 1440x720 with 0 Axes>"
      ]
     },
     "metadata": {},
     "output_type": "display_data"
    },
    {
     "data": {
      "text/plain": [
       "<Figure size 1440x720 with 0 Axes>"
      ]
     },
     "metadata": {},
     "output_type": "display_data"
    },
    {
     "data": {
      "text/plain": [
       "<Figure size 1440x720 with 0 Axes>"
      ]
     },
     "metadata": {},
     "output_type": "display_data"
    },
    {
     "data": {
      "text/plain": [
       "<Figure size 1440x720 with 0 Axes>"
      ]
     },
     "metadata": {},
     "output_type": "display_data"
    },
    {
     "data": {
      "text/plain": [
       "<Figure size 1440x720 with 0 Axes>"
      ]
     },
     "metadata": {},
     "output_type": "display_data"
    },
    {
     "data": {
      "text/plain": [
       "<Figure size 1440x720 with 0 Axes>"
      ]
     },
     "metadata": {},
     "output_type": "display_data"
    },
    {
     "data": {
      "text/plain": [
       "<Figure size 1440x720 with 0 Axes>"
      ]
     },
     "metadata": {},
     "output_type": "display_data"
    },
    {
     "data": {
      "text/plain": [
       "<Figure size 1440x720 with 0 Axes>"
      ]
     },
     "metadata": {},
     "output_type": "display_data"
    },
    {
     "data": {
      "text/plain": [
       "<Figure size 1440x720 with 0 Axes>"
      ]
     },
     "metadata": {},
     "output_type": "display_data"
    },
    {
     "data": {
      "text/plain": [
       "<Figure size 1440x720 with 0 Axes>"
      ]
     },
     "metadata": {},
     "output_type": "display_data"
    },
    {
     "data": {
      "text/plain": [
       "<Figure size 1440x720 with 0 Axes>"
      ]
     },
     "metadata": {},
     "output_type": "display_data"
    },
    {
     "data": {
      "text/plain": [
       "<Figure size 1440x720 with 0 Axes>"
      ]
     },
     "metadata": {},
     "output_type": "display_data"
    },
    {
     "data": {
      "text/plain": [
       "<Figure size 1440x720 with 0 Axes>"
      ]
     },
     "metadata": {},
     "output_type": "display_data"
    },
    {
     "data": {
      "text/plain": [
       "<Figure size 1440x720 with 0 Axes>"
      ]
     },
     "metadata": {},
     "output_type": "display_data"
    },
    {
     "data": {
      "text/plain": [
       "<Figure size 1440x720 with 0 Axes>"
      ]
     },
     "metadata": {},
     "output_type": "display_data"
    },
    {
     "data": {
      "text/plain": [
       "<Figure size 1440x720 with 0 Axes>"
      ]
     },
     "metadata": {},
     "output_type": "display_data"
    },
    {
     "data": {
      "text/plain": [
       "<Figure size 1440x720 with 0 Axes>"
      ]
     },
     "metadata": {},
     "output_type": "display_data"
    },
    {
     "data": {
      "text/plain": [
       "<Figure size 1440x720 with 0 Axes>"
      ]
     },
     "metadata": {},
     "output_type": "display_data"
    },
    {
     "data": {
      "text/plain": [
       "<Figure size 1440x720 with 0 Axes>"
      ]
     },
     "metadata": {},
     "output_type": "display_data"
    },
    {
     "data": {
      "text/plain": [
       "<Figure size 1440x720 with 0 Axes>"
      ]
     },
     "metadata": {},
     "output_type": "display_data"
    },
    {
     "data": {
      "text/plain": [
       "<Figure size 1440x720 with 0 Axes>"
      ]
     },
     "metadata": {},
     "output_type": "display_data"
    },
    {
     "data": {
      "text/plain": [
       "<Figure size 1440x720 with 0 Axes>"
      ]
     },
     "metadata": {},
     "output_type": "display_data"
    },
    {
     "data": {
      "text/plain": [
       "<Figure size 1440x720 with 0 Axes>"
      ]
     },
     "metadata": {},
     "output_type": "display_data"
    },
    {
     "data": {
      "text/plain": [
       "<Figure size 1440x720 with 0 Axes>"
      ]
     },
     "metadata": {},
     "output_type": "display_data"
    },
    {
     "data": {
      "text/plain": [
       "<Figure size 1440x720 with 0 Axes>"
      ]
     },
     "metadata": {},
     "output_type": "display_data"
    },
    {
     "data": {
      "text/plain": [
       "<Figure size 1440x720 with 0 Axes>"
      ]
     },
     "metadata": {},
     "output_type": "display_data"
    },
    {
     "data": {
      "text/plain": [
       "<Figure size 1440x720 with 0 Axes>"
      ]
     },
     "metadata": {},
     "output_type": "display_data"
    },
    {
     "data": {
      "text/plain": [
       "<Figure size 1440x720 with 0 Axes>"
      ]
     },
     "metadata": {},
     "output_type": "display_data"
    },
    {
     "data": {
      "text/plain": [
       "<Figure size 1440x720 with 0 Axes>"
      ]
     },
     "metadata": {},
     "output_type": "display_data"
    },
    {
     "data": {
      "text/plain": [
       "<Figure size 1440x720 with 0 Axes>"
      ]
     },
     "metadata": {},
     "output_type": "display_data"
    },
    {
     "data": {
      "text/plain": [
       "<Figure size 1440x720 with 0 Axes>"
      ]
     },
     "metadata": {},
     "output_type": "display_data"
    },
    {
     "data": {
      "text/plain": [
       "<Figure size 1440x720 with 0 Axes>"
      ]
     },
     "metadata": {},
     "output_type": "display_data"
    },
    {
     "data": {
      "text/plain": [
       "<Figure size 1440x720 with 0 Axes>"
      ]
     },
     "metadata": {},
     "output_type": "display_data"
    },
    {
     "data": {
      "text/plain": [
       "<Figure size 1440x720 with 0 Axes>"
      ]
     },
     "metadata": {},
     "output_type": "display_data"
    },
    {
     "data": {
      "text/plain": [
       "<Figure size 1440x720 with 0 Axes>"
      ]
     },
     "metadata": {},
     "output_type": "display_data"
    },
    {
     "data": {
      "text/plain": [
       "<Figure size 1440x720 with 0 Axes>"
      ]
     },
     "metadata": {},
     "output_type": "display_data"
    },
    {
     "data": {
      "text/plain": [
       "<Figure size 1440x720 with 0 Axes>"
      ]
     },
     "metadata": {},
     "output_type": "display_data"
    },
    {
     "data": {
      "text/plain": [
       "<Figure size 1440x720 with 0 Axes>"
      ]
     },
     "metadata": {},
     "output_type": "display_data"
    },
    {
     "data": {
      "text/plain": [
       "<Figure size 1440x720 with 0 Axes>"
      ]
     },
     "metadata": {},
     "output_type": "display_data"
    },
    {
     "data": {
      "text/plain": [
       "<Figure size 1440x720 with 0 Axes>"
      ]
     },
     "metadata": {},
     "output_type": "display_data"
    },
    {
     "data": {
      "text/plain": [
       "<Figure size 1440x720 with 0 Axes>"
      ]
     },
     "metadata": {},
     "output_type": "display_data"
    },
    {
     "data": {
      "text/plain": [
       "<Figure size 1440x720 with 0 Axes>"
      ]
     },
     "metadata": {},
     "output_type": "display_data"
    },
    {
     "data": {
      "text/plain": [
       "<Figure size 1440x720 with 0 Axes>"
      ]
     },
     "metadata": {},
     "output_type": "display_data"
    },
    {
     "data": {
      "text/plain": [
       "<Figure size 1440x720 with 0 Axes>"
      ]
     },
     "metadata": {},
     "output_type": "display_data"
    },
    {
     "data": {
      "text/plain": [
       "<Figure size 1440x720 with 0 Axes>"
      ]
     },
     "metadata": {},
     "output_type": "display_data"
    },
    {
     "data": {
      "text/plain": [
       "<Figure size 1440x720 with 0 Axes>"
      ]
     },
     "metadata": {},
     "output_type": "display_data"
    },
    {
     "data": {
      "text/plain": [
       "<Figure size 1440x720 with 0 Axes>"
      ]
     },
     "metadata": {},
     "output_type": "display_data"
    },
    {
     "data": {
      "text/plain": [
       "<Figure size 1440x720 with 0 Axes>"
      ]
     },
     "metadata": {},
     "output_type": "display_data"
    },
    {
     "data": {
      "text/plain": [
       "<Figure size 1440x720 with 0 Axes>"
      ]
     },
     "metadata": {},
     "output_type": "display_data"
    },
    {
     "data": {
      "text/plain": [
       "<Figure size 1440x720 with 0 Axes>"
      ]
     },
     "metadata": {},
     "output_type": "display_data"
    },
    {
     "data": {
      "text/plain": [
       "<Figure size 1440x720 with 0 Axes>"
      ]
     },
     "metadata": {},
     "output_type": "display_data"
    },
    {
     "data": {
      "text/plain": [
       "<Figure size 1440x720 with 0 Axes>"
      ]
     },
     "metadata": {},
     "output_type": "display_data"
    },
    {
     "data": {
      "text/plain": [
       "<Figure size 1440x720 with 0 Axes>"
      ]
     },
     "metadata": {},
     "output_type": "display_data"
    },
    {
     "data": {
      "text/plain": [
       "<Figure size 1440x720 with 0 Axes>"
      ]
     },
     "metadata": {},
     "output_type": "display_data"
    },
    {
     "data": {
      "text/plain": [
       "<Figure size 1440x720 with 0 Axes>"
      ]
     },
     "metadata": {},
     "output_type": "display_data"
    },
    {
     "data": {
      "text/plain": [
       "<Figure size 1440x720 with 0 Axes>"
      ]
     },
     "metadata": {},
     "output_type": "display_data"
    },
    {
     "data": {
      "text/plain": [
       "<Figure size 1440x720 with 0 Axes>"
      ]
     },
     "metadata": {},
     "output_type": "display_data"
    },
    {
     "data": {
      "text/plain": [
       "<Figure size 1440x720 with 0 Axes>"
      ]
     },
     "metadata": {},
     "output_type": "display_data"
    },
    {
     "data": {
      "text/plain": [
       "<Figure size 1440x720 with 0 Axes>"
      ]
     },
     "metadata": {},
     "output_type": "display_data"
    },
    {
     "data": {
      "text/plain": [
       "<Figure size 1440x720 with 0 Axes>"
      ]
     },
     "metadata": {},
     "output_type": "display_data"
    },
    {
     "data": {
      "text/plain": [
       "<Figure size 1440x720 with 0 Axes>"
      ]
     },
     "metadata": {},
     "output_type": "display_data"
    },
    {
     "data": {
      "text/plain": [
       "<Figure size 1440x720 with 0 Axes>"
      ]
     },
     "metadata": {},
     "output_type": "display_data"
    },
    {
     "data": {
      "text/plain": [
       "<Figure size 1440x720 with 0 Axes>"
      ]
     },
     "metadata": {},
     "output_type": "display_data"
    },
    {
     "data": {
      "text/plain": [
       "<Figure size 1440x720 with 0 Axes>"
      ]
     },
     "metadata": {},
     "output_type": "display_data"
    },
    {
     "data": {
      "text/plain": [
       "<Figure size 1440x720 with 0 Axes>"
      ]
     },
     "metadata": {},
     "output_type": "display_data"
    },
    {
     "data": {
      "text/plain": [
       "<Figure size 1440x720 with 0 Axes>"
      ]
     },
     "metadata": {},
     "output_type": "display_data"
    },
    {
     "data": {
      "text/plain": [
       "<Figure size 1440x720 with 0 Axes>"
      ]
     },
     "metadata": {},
     "output_type": "display_data"
    },
    {
     "data": {
      "text/plain": [
       "<Figure size 1440x720 with 0 Axes>"
      ]
     },
     "metadata": {},
     "output_type": "display_data"
    },
    {
     "data": {
      "text/plain": [
       "<Figure size 1440x720 with 0 Axes>"
      ]
     },
     "metadata": {},
     "output_type": "display_data"
    },
    {
     "data": {
      "text/plain": [
       "<Figure size 1440x720 with 0 Axes>"
      ]
     },
     "metadata": {},
     "output_type": "display_data"
    },
    {
     "data": {
      "text/plain": [
       "<Figure size 1440x720 with 0 Axes>"
      ]
     },
     "metadata": {},
     "output_type": "display_data"
    },
    {
     "data": {
      "text/plain": [
       "<Figure size 1440x720 with 0 Axes>"
      ]
     },
     "metadata": {},
     "output_type": "display_data"
    },
    {
     "data": {
      "text/plain": [
       "<Figure size 1440x720 with 0 Axes>"
      ]
     },
     "metadata": {},
     "output_type": "display_data"
    },
    {
     "data": {
      "text/plain": [
       "<Figure size 1440x720 with 0 Axes>"
      ]
     },
     "metadata": {},
     "output_type": "display_data"
    },
    {
     "data": {
      "text/plain": [
       "<Figure size 1440x720 with 0 Axes>"
      ]
     },
     "metadata": {},
     "output_type": "display_data"
    },
    {
     "data": {
      "text/plain": [
       "<Figure size 1440x720 with 0 Axes>"
      ]
     },
     "metadata": {},
     "output_type": "display_data"
    },
    {
     "data": {
      "text/plain": [
       "<Figure size 1440x720 with 0 Axes>"
      ]
     },
     "metadata": {},
     "output_type": "display_data"
    },
    {
     "data": {
      "text/plain": [
       "<Figure size 1440x720 with 0 Axes>"
      ]
     },
     "metadata": {},
     "output_type": "display_data"
    },
    {
     "data": {
      "text/plain": [
       "<Figure size 1440x720 with 0 Axes>"
      ]
     },
     "metadata": {},
     "output_type": "display_data"
    },
    {
     "data": {
      "text/plain": [
       "<Figure size 1440x720 with 0 Axes>"
      ]
     },
     "metadata": {},
     "output_type": "display_data"
    },
    {
     "data": {
      "text/plain": [
       "<Figure size 1440x720 with 0 Axes>"
      ]
     },
     "metadata": {},
     "output_type": "display_data"
    },
    {
     "data": {
      "text/plain": [
       "<Figure size 1440x720 with 0 Axes>"
      ]
     },
     "metadata": {},
     "output_type": "display_data"
    },
    {
     "data": {
      "text/plain": [
       "<Figure size 1440x720 with 0 Axes>"
      ]
     },
     "metadata": {},
     "output_type": "display_data"
    },
    {
     "data": {
      "text/plain": [
       "<Figure size 1440x720 with 0 Axes>"
      ]
     },
     "metadata": {},
     "output_type": "display_data"
    },
    {
     "data": {
      "text/plain": [
       "<Figure size 1440x720 with 0 Axes>"
      ]
     },
     "metadata": {},
     "output_type": "display_data"
    },
    {
     "data": {
      "text/plain": [
       "<Figure size 1440x720 with 0 Axes>"
      ]
     },
     "metadata": {},
     "output_type": "display_data"
    },
    {
     "data": {
      "text/plain": [
       "<Figure size 1440x720 with 0 Axes>"
      ]
     },
     "metadata": {},
     "output_type": "display_data"
    },
    {
     "data": {
      "text/plain": [
       "<Figure size 1440x720 with 0 Axes>"
      ]
     },
     "metadata": {},
     "output_type": "display_data"
    },
    {
     "data": {
      "text/plain": [
       "<Figure size 1440x720 with 0 Axes>"
      ]
     },
     "metadata": {},
     "output_type": "display_data"
    },
    {
     "data": {
      "text/plain": [
       "<Figure size 1440x720 with 0 Axes>"
      ]
     },
     "metadata": {},
     "output_type": "display_data"
    },
    {
     "data": {
      "text/plain": [
       "<Figure size 1440x720 with 0 Axes>"
      ]
     },
     "metadata": {},
     "output_type": "display_data"
    },
    {
     "data": {
      "text/plain": [
       "<Figure size 1440x720 with 0 Axes>"
      ]
     },
     "metadata": {},
     "output_type": "display_data"
    },
    {
     "data": {
      "text/plain": [
       "<Figure size 1440x720 with 0 Axes>"
      ]
     },
     "metadata": {},
     "output_type": "display_data"
    },
    {
     "data": {
      "text/plain": [
       "<Figure size 1440x720 with 0 Axes>"
      ]
     },
     "metadata": {},
     "output_type": "display_data"
    },
    {
     "data": {
      "text/plain": [
       "<Figure size 1440x720 with 0 Axes>"
      ]
     },
     "metadata": {},
     "output_type": "display_data"
    },
    {
     "data": {
      "text/plain": [
       "<Figure size 1440x720 with 0 Axes>"
      ]
     },
     "metadata": {},
     "output_type": "display_data"
    },
    {
     "data": {
      "text/plain": [
       "<Figure size 1440x720 with 0 Axes>"
      ]
     },
     "metadata": {},
     "output_type": "display_data"
    },
    {
     "data": {
      "text/plain": [
       "<Figure size 1440x720 with 0 Axes>"
      ]
     },
     "metadata": {},
     "output_type": "display_data"
    },
    {
     "data": {
      "text/plain": [
       "<Figure size 1440x720 with 0 Axes>"
      ]
     },
     "metadata": {},
     "output_type": "display_data"
    },
    {
     "data": {
      "text/plain": [
       "<Figure size 1440x720 with 0 Axes>"
      ]
     },
     "metadata": {},
     "output_type": "display_data"
    },
    {
     "data": {
      "text/plain": [
       "<Figure size 1440x720 with 0 Axes>"
      ]
     },
     "metadata": {},
     "output_type": "display_data"
    },
    {
     "data": {
      "text/plain": [
       "<Figure size 1440x720 with 0 Axes>"
      ]
     },
     "metadata": {},
     "output_type": "display_data"
    },
    {
     "data": {
      "text/plain": [
       "<Figure size 1440x720 with 0 Axes>"
      ]
     },
     "metadata": {},
     "output_type": "display_data"
    },
    {
     "data": {
      "text/plain": [
       "<Figure size 1440x720 with 0 Axes>"
      ]
     },
     "metadata": {},
     "output_type": "display_data"
    },
    {
     "data": {
      "text/plain": [
       "<Figure size 1440x720 with 0 Axes>"
      ]
     },
     "metadata": {},
     "output_type": "display_data"
    },
    {
     "data": {
      "text/plain": [
       "<Figure size 1440x720 with 0 Axes>"
      ]
     },
     "metadata": {},
     "output_type": "display_data"
    },
    {
     "data": {
      "text/plain": [
       "<Figure size 1440x720 with 0 Axes>"
      ]
     },
     "metadata": {},
     "output_type": "display_data"
    },
    {
     "data": {
      "text/plain": [
       "<Figure size 1440x720 with 0 Axes>"
      ]
     },
     "metadata": {},
     "output_type": "display_data"
    },
    {
     "data": {
      "text/plain": [
       "<Figure size 1440x720 with 0 Axes>"
      ]
     },
     "metadata": {},
     "output_type": "display_data"
    },
    {
     "data": {
      "text/plain": [
       "<Figure size 1440x720 with 0 Axes>"
      ]
     },
     "metadata": {},
     "output_type": "display_data"
    },
    {
     "data": {
      "text/plain": [
       "<Figure size 1440x720 with 0 Axes>"
      ]
     },
     "metadata": {},
     "output_type": "display_data"
    },
    {
     "data": {
      "text/plain": [
       "<Figure size 1440x720 with 0 Axes>"
      ]
     },
     "metadata": {},
     "output_type": "display_data"
    },
    {
     "data": {
      "text/plain": [
       "<Figure size 1440x720 with 0 Axes>"
      ]
     },
     "metadata": {},
     "output_type": "display_data"
    },
    {
     "data": {
      "text/plain": [
       "<Figure size 1440x720 with 0 Axes>"
      ]
     },
     "metadata": {},
     "output_type": "display_data"
    },
    {
     "data": {
      "text/plain": [
       "<Figure size 1440x720 with 0 Axes>"
      ]
     },
     "metadata": {},
     "output_type": "display_data"
    },
    {
     "data": {
      "text/plain": [
       "<Figure size 1440x720 with 0 Axes>"
      ]
     },
     "metadata": {},
     "output_type": "display_data"
    },
    {
     "data": {
      "text/plain": [
       "<Figure size 1440x720 with 0 Axes>"
      ]
     },
     "metadata": {},
     "output_type": "display_data"
    },
    {
     "data": {
      "text/plain": [
       "<Figure size 1440x720 with 0 Axes>"
      ]
     },
     "metadata": {},
     "output_type": "display_data"
    },
    {
     "data": {
      "text/plain": [
       "<Figure size 1440x720 with 0 Axes>"
      ]
     },
     "metadata": {},
     "output_type": "display_data"
    },
    {
     "data": {
      "text/plain": [
       "<Figure size 1440x720 with 0 Axes>"
      ]
     },
     "metadata": {},
     "output_type": "display_data"
    },
    {
     "data": {
      "text/plain": [
       "<Figure size 1440x720 with 0 Axes>"
      ]
     },
     "metadata": {},
     "output_type": "display_data"
    },
    {
     "data": {
      "text/plain": [
       "<Figure size 1440x720 with 0 Axes>"
      ]
     },
     "metadata": {},
     "output_type": "display_data"
    },
    {
     "data": {
      "text/plain": [
       "<Figure size 1440x720 with 0 Axes>"
      ]
     },
     "metadata": {},
     "output_type": "display_data"
    },
    {
     "data": {
      "text/plain": [
       "<Figure size 1440x720 with 0 Axes>"
      ]
     },
     "metadata": {},
     "output_type": "display_data"
    },
    {
     "data": {
      "text/plain": [
       "<Figure size 1440x720 with 0 Axes>"
      ]
     },
     "metadata": {},
     "output_type": "display_data"
    },
    {
     "data": {
      "text/plain": [
       "<Figure size 1440x720 with 0 Axes>"
      ]
     },
     "metadata": {},
     "output_type": "display_data"
    },
    {
     "data": {
      "text/plain": [
       "<Figure size 1440x720 with 0 Axes>"
      ]
     },
     "metadata": {},
     "output_type": "display_data"
    },
    {
     "data": {
      "text/plain": [
       "<Figure size 1440x720 with 0 Axes>"
      ]
     },
     "metadata": {},
     "output_type": "display_data"
    },
    {
     "data": {
      "text/plain": [
       "<Figure size 1440x720 with 0 Axes>"
      ]
     },
     "metadata": {},
     "output_type": "display_data"
    },
    {
     "data": {
      "text/plain": [
       "<Figure size 1440x720 with 0 Axes>"
      ]
     },
     "metadata": {},
     "output_type": "display_data"
    },
    {
     "data": {
      "text/plain": [
       "<Figure size 1440x720 with 0 Axes>"
      ]
     },
     "metadata": {},
     "output_type": "display_data"
    },
    {
     "data": {
      "text/plain": [
       "<Figure size 1440x720 with 0 Axes>"
      ]
     },
     "metadata": {},
     "output_type": "display_data"
    },
    {
     "data": {
      "text/plain": [
       "<Figure size 1440x720 with 0 Axes>"
      ]
     },
     "metadata": {},
     "output_type": "display_data"
    },
    {
     "data": {
      "text/plain": [
       "<Figure size 1440x720 with 0 Axes>"
      ]
     },
     "metadata": {},
     "output_type": "display_data"
    },
    {
     "data": {
      "text/plain": [
       "<Figure size 1440x720 with 0 Axes>"
      ]
     },
     "metadata": {},
     "output_type": "display_data"
    },
    {
     "data": {
      "text/plain": [
       "<Figure size 1440x720 with 0 Axes>"
      ]
     },
     "metadata": {},
     "output_type": "display_data"
    },
    {
     "data": {
      "text/plain": [
       "<Figure size 1440x720 with 0 Axes>"
      ]
     },
     "metadata": {},
     "output_type": "display_data"
    },
    {
     "data": {
      "text/plain": [
       "<Figure size 1440x720 with 0 Axes>"
      ]
     },
     "metadata": {},
     "output_type": "display_data"
    },
    {
     "data": {
      "text/plain": [
       "<Figure size 1440x720 with 0 Axes>"
      ]
     },
     "metadata": {},
     "output_type": "display_data"
    },
    {
     "data": {
      "text/plain": [
       "<Figure size 1440x720 with 0 Axes>"
      ]
     },
     "metadata": {},
     "output_type": "display_data"
    },
    {
     "data": {
      "text/plain": [
       "<Figure size 1440x720 with 0 Axes>"
      ]
     },
     "metadata": {},
     "output_type": "display_data"
    },
    {
     "data": {
      "text/plain": [
       "<Figure size 1440x720 with 0 Axes>"
      ]
     },
     "metadata": {},
     "output_type": "display_data"
    },
    {
     "data": {
      "text/plain": [
       "<Figure size 1440x720 with 0 Axes>"
      ]
     },
     "metadata": {},
     "output_type": "display_data"
    },
    {
     "data": {
      "text/plain": [
       "<Figure size 1440x720 with 0 Axes>"
      ]
     },
     "metadata": {},
     "output_type": "display_data"
    },
    {
     "data": {
      "text/plain": [
       "<Figure size 1440x720 with 0 Axes>"
      ]
     },
     "metadata": {},
     "output_type": "display_data"
    },
    {
     "data": {
      "text/plain": [
       "<Figure size 1440x720 with 0 Axes>"
      ]
     },
     "metadata": {},
     "output_type": "display_data"
    },
    {
     "data": {
      "text/plain": [
       "<Figure size 1440x720 with 0 Axes>"
      ]
     },
     "metadata": {},
     "output_type": "display_data"
    },
    {
     "data": {
      "text/plain": [
       "<Figure size 1440x720 with 0 Axes>"
      ]
     },
     "metadata": {},
     "output_type": "display_data"
    },
    {
     "data": {
      "text/plain": [
       "<Figure size 1440x720 with 0 Axes>"
      ]
     },
     "metadata": {},
     "output_type": "display_data"
    },
    {
     "data": {
      "text/plain": [
       "<Figure size 1440x720 with 0 Axes>"
      ]
     },
     "metadata": {},
     "output_type": "display_data"
    },
    {
     "data": {
      "text/plain": [
       "<Figure size 1440x720 with 0 Axes>"
      ]
     },
     "metadata": {},
     "output_type": "display_data"
    },
    {
     "data": {
      "text/plain": [
       "<Figure size 1440x720 with 0 Axes>"
      ]
     },
     "metadata": {},
     "output_type": "display_data"
    },
    {
     "data": {
      "text/plain": [
       "<Figure size 1440x720 with 0 Axes>"
      ]
     },
     "metadata": {},
     "output_type": "display_data"
    },
    {
     "data": {
      "text/plain": [
       "<Figure size 1440x720 with 0 Axes>"
      ]
     },
     "metadata": {},
     "output_type": "display_data"
    },
    {
     "data": {
      "text/plain": [
       "<Figure size 1440x720 with 0 Axes>"
      ]
     },
     "metadata": {},
     "output_type": "display_data"
    },
    {
     "data": {
      "text/plain": [
       "<Figure size 1440x720 with 0 Axes>"
      ]
     },
     "metadata": {},
     "output_type": "display_data"
    },
    {
     "data": {
      "text/plain": [
       "<Figure size 1440x720 with 0 Axes>"
      ]
     },
     "metadata": {},
     "output_type": "display_data"
    },
    {
     "data": {
      "text/plain": [
       "<Figure size 1440x720 with 0 Axes>"
      ]
     },
     "metadata": {},
     "output_type": "display_data"
    },
    {
     "data": {
      "text/plain": [
       "<Figure size 1440x720 with 0 Axes>"
      ]
     },
     "metadata": {},
     "output_type": "display_data"
    },
    {
     "data": {
      "text/plain": [
       "<Figure size 1440x720 with 0 Axes>"
      ]
     },
     "metadata": {},
     "output_type": "display_data"
    },
    {
     "data": {
      "text/plain": [
       "<Figure size 1440x720 with 0 Axes>"
      ]
     },
     "metadata": {},
     "output_type": "display_data"
    },
    {
     "data": {
      "text/plain": [
       "<Figure size 1440x720 with 0 Axes>"
      ]
     },
     "metadata": {},
     "output_type": "display_data"
    },
    {
     "data": {
      "text/plain": [
       "<Figure size 1440x720 with 0 Axes>"
      ]
     },
     "metadata": {},
     "output_type": "display_data"
    },
    {
     "data": {
      "text/plain": [
       "<Figure size 1440x720 with 0 Axes>"
      ]
     },
     "metadata": {},
     "output_type": "display_data"
    },
    {
     "data": {
      "text/plain": [
       "<Figure size 1440x720 with 0 Axes>"
      ]
     },
     "metadata": {},
     "output_type": "display_data"
    },
    {
     "data": {
      "text/plain": [
       "<Figure size 1440x720 with 0 Axes>"
      ]
     },
     "metadata": {},
     "output_type": "display_data"
    },
    {
     "data": {
      "text/plain": [
       "<Figure size 1440x720 with 0 Axes>"
      ]
     },
     "metadata": {},
     "output_type": "display_data"
    },
    {
     "data": {
      "text/plain": [
       "<Figure size 1440x720 with 0 Axes>"
      ]
     },
     "metadata": {},
     "output_type": "display_data"
    },
    {
     "data": {
      "text/plain": [
       "<Figure size 1440x720 with 0 Axes>"
      ]
     },
     "metadata": {},
     "output_type": "display_data"
    },
    {
     "data": {
      "text/plain": [
       "<Figure size 1440x720 with 0 Axes>"
      ]
     },
     "metadata": {},
     "output_type": "display_data"
    },
    {
     "data": {
      "text/plain": [
       "<Figure size 1440x720 with 0 Axes>"
      ]
     },
     "metadata": {},
     "output_type": "display_data"
    },
    {
     "data": {
      "text/plain": [
       "<Figure size 1440x720 with 0 Axes>"
      ]
     },
     "metadata": {},
     "output_type": "display_data"
    },
    {
     "data": {
      "text/plain": [
       "<Figure size 1440x720 with 0 Axes>"
      ]
     },
     "metadata": {},
     "output_type": "display_data"
    },
    {
     "data": {
      "text/plain": [
       "<Figure size 1440x720 with 0 Axes>"
      ]
     },
     "metadata": {},
     "output_type": "display_data"
    },
    {
     "data": {
      "text/plain": [
       "<Figure size 1440x720 with 0 Axes>"
      ]
     },
     "metadata": {},
     "output_type": "display_data"
    },
    {
     "data": {
      "text/plain": [
       "<Figure size 1440x720 with 0 Axes>"
      ]
     },
     "metadata": {},
     "output_type": "display_data"
    },
    {
     "data": {
      "text/plain": [
       "<Figure size 1440x720 with 0 Axes>"
      ]
     },
     "metadata": {},
     "output_type": "display_data"
    },
    {
     "data": {
      "text/plain": [
       "<Figure size 1440x720 with 0 Axes>"
      ]
     },
     "metadata": {},
     "output_type": "display_data"
    },
    {
     "data": {
      "text/plain": [
       "<Figure size 1440x720 with 0 Axes>"
      ]
     },
     "metadata": {},
     "output_type": "display_data"
    },
    {
     "data": {
      "text/plain": [
       "<Figure size 1440x720 with 0 Axes>"
      ]
     },
     "metadata": {},
     "output_type": "display_data"
    },
    {
     "data": {
      "text/plain": [
       "<Figure size 1440x720 with 0 Axes>"
      ]
     },
     "metadata": {},
     "output_type": "display_data"
    },
    {
     "data": {
      "text/plain": [
       "<Figure size 1440x720 with 0 Axes>"
      ]
     },
     "metadata": {},
     "output_type": "display_data"
    },
    {
     "data": {
      "text/plain": [
       "<Figure size 1440x720 with 0 Axes>"
      ]
     },
     "metadata": {},
     "output_type": "display_data"
    },
    {
     "data": {
      "text/plain": [
       "<Figure size 1440x720 with 0 Axes>"
      ]
     },
     "metadata": {},
     "output_type": "display_data"
    },
    {
     "data": {
      "text/plain": [
       "<Figure size 1440x720 with 0 Axes>"
      ]
     },
     "metadata": {},
     "output_type": "display_data"
    },
    {
     "data": {
      "text/plain": [
       "<Figure size 1440x720 with 0 Axes>"
      ]
     },
     "metadata": {},
     "output_type": "display_data"
    },
    {
     "data": {
      "text/plain": [
       "<Figure size 1440x720 with 0 Axes>"
      ]
     },
     "metadata": {},
     "output_type": "display_data"
    },
    {
     "data": {
      "text/plain": [
       "<Figure size 1440x720 with 0 Axes>"
      ]
     },
     "metadata": {},
     "output_type": "display_data"
    },
    {
     "data": {
      "text/plain": [
       "<Figure size 1440x720 with 0 Axes>"
      ]
     },
     "metadata": {},
     "output_type": "display_data"
    },
    {
     "data": {
      "text/plain": [
       "<Figure size 1440x720 with 0 Axes>"
      ]
     },
     "metadata": {},
     "output_type": "display_data"
    },
    {
     "data": {
      "text/plain": [
       "<Figure size 1440x720 with 0 Axes>"
      ]
     },
     "metadata": {},
     "output_type": "display_data"
    },
    {
     "data": {
      "text/plain": [
       "<Figure size 1440x720 with 0 Axes>"
      ]
     },
     "metadata": {},
     "output_type": "display_data"
    },
    {
     "data": {
      "text/plain": [
       "<Figure size 1440x720 with 0 Axes>"
      ]
     },
     "metadata": {},
     "output_type": "display_data"
    },
    {
     "data": {
      "text/plain": [
       "<Figure size 1440x720 with 0 Axes>"
      ]
     },
     "metadata": {},
     "output_type": "display_data"
    },
    {
     "data": {
      "text/plain": [
       "<Figure size 1440x720 with 0 Axes>"
      ]
     },
     "metadata": {},
     "output_type": "display_data"
    },
    {
     "data": {
      "text/plain": [
       "<Figure size 1440x720 with 0 Axes>"
      ]
     },
     "metadata": {},
     "output_type": "display_data"
    },
    {
     "data": {
      "text/plain": [
       "<Figure size 1440x720 with 0 Axes>"
      ]
     },
     "metadata": {},
     "output_type": "display_data"
    },
    {
     "data": {
      "text/plain": [
       "<Figure size 1440x720 with 0 Axes>"
      ]
     },
     "metadata": {},
     "output_type": "display_data"
    },
    {
     "data": {
      "text/plain": [
       "<Figure size 1440x720 with 0 Axes>"
      ]
     },
     "metadata": {},
     "output_type": "display_data"
    },
    {
     "data": {
      "text/plain": [
       "<Figure size 1440x720 with 0 Axes>"
      ]
     },
     "metadata": {},
     "output_type": "display_data"
    },
    {
     "data": {
      "text/plain": [
       "<Figure size 1440x720 with 0 Axes>"
      ]
     },
     "metadata": {},
     "output_type": "display_data"
    },
    {
     "data": {
      "text/plain": [
       "<Figure size 1440x720 with 0 Axes>"
      ]
     },
     "metadata": {},
     "output_type": "display_data"
    },
    {
     "data": {
      "text/plain": [
       "<Figure size 1440x720 with 0 Axes>"
      ]
     },
     "metadata": {},
     "output_type": "display_data"
    },
    {
     "data": {
      "text/plain": [
       "<Figure size 1440x720 with 0 Axes>"
      ]
     },
     "metadata": {},
     "output_type": "display_data"
    },
    {
     "data": {
      "text/plain": [
       "<Figure size 1440x720 with 0 Axes>"
      ]
     },
     "metadata": {},
     "output_type": "display_data"
    },
    {
     "data": {
      "text/plain": [
       "<Figure size 1440x720 with 0 Axes>"
      ]
     },
     "metadata": {},
     "output_type": "display_data"
    },
    {
     "data": {
      "text/plain": [
       "<Figure size 1440x720 with 0 Axes>"
      ]
     },
     "metadata": {},
     "output_type": "display_data"
    },
    {
     "data": {
      "text/plain": [
       "<Figure size 1440x720 with 0 Axes>"
      ]
     },
     "metadata": {},
     "output_type": "display_data"
    },
    {
     "data": {
      "text/plain": [
       "<Figure size 1440x720 with 0 Axes>"
      ]
     },
     "metadata": {},
     "output_type": "display_data"
    },
    {
     "data": {
      "text/plain": [
       "<Figure size 1440x720 with 0 Axes>"
      ]
     },
     "metadata": {},
     "output_type": "display_data"
    },
    {
     "data": {
      "text/plain": [
       "<Figure size 1440x720 with 0 Axes>"
      ]
     },
     "metadata": {},
     "output_type": "display_data"
    },
    {
     "data": {
      "text/plain": [
       "<Figure size 1440x720 with 0 Axes>"
      ]
     },
     "metadata": {},
     "output_type": "display_data"
    },
    {
     "data": {
      "text/plain": [
       "<Figure size 1440x720 with 0 Axes>"
      ]
     },
     "metadata": {},
     "output_type": "display_data"
    },
    {
     "data": {
      "text/plain": [
       "<Figure size 1440x720 with 0 Axes>"
      ]
     },
     "metadata": {},
     "output_type": "display_data"
    },
    {
     "data": {
      "text/plain": [
       "<Figure size 1440x720 with 0 Axes>"
      ]
     },
     "metadata": {},
     "output_type": "display_data"
    },
    {
     "data": {
      "text/plain": [
       "<Figure size 1440x720 with 0 Axes>"
      ]
     },
     "metadata": {},
     "output_type": "display_data"
    },
    {
     "data": {
      "text/plain": [
       "<Figure size 1440x720 with 0 Axes>"
      ]
     },
     "metadata": {},
     "output_type": "display_data"
    },
    {
     "data": {
      "text/plain": [
       "<Figure size 1440x720 with 0 Axes>"
      ]
     },
     "metadata": {},
     "output_type": "display_data"
    },
    {
     "data": {
      "text/plain": [
       "<Figure size 1440x720 with 0 Axes>"
      ]
     },
     "metadata": {},
     "output_type": "display_data"
    },
    {
     "data": {
      "text/plain": [
       "<Figure size 1440x720 with 0 Axes>"
      ]
     },
     "metadata": {},
     "output_type": "display_data"
    },
    {
     "data": {
      "text/plain": [
       "<Figure size 1440x720 with 0 Axes>"
      ]
     },
     "metadata": {},
     "output_type": "display_data"
    },
    {
     "data": {
      "text/plain": [
       "<Figure size 1440x720 with 0 Axes>"
      ]
     },
     "metadata": {},
     "output_type": "display_data"
    },
    {
     "data": {
      "text/plain": [
       "<Figure size 1440x720 with 0 Axes>"
      ]
     },
     "metadata": {},
     "output_type": "display_data"
    },
    {
     "data": {
      "text/plain": [
       "<Figure size 1440x720 with 0 Axes>"
      ]
     },
     "metadata": {},
     "output_type": "display_data"
    },
    {
     "data": {
      "text/plain": [
       "<Figure size 1440x720 with 0 Axes>"
      ]
     },
     "metadata": {},
     "output_type": "display_data"
    },
    {
     "data": {
      "text/plain": [
       "<Figure size 1440x720 with 0 Axes>"
      ]
     },
     "metadata": {},
     "output_type": "display_data"
    },
    {
     "data": {
      "text/plain": [
       "<Figure size 1440x720 with 0 Axes>"
      ]
     },
     "metadata": {},
     "output_type": "display_data"
    },
    {
     "data": {
      "text/plain": [
       "<Figure size 1440x720 with 0 Axes>"
      ]
     },
     "metadata": {},
     "output_type": "display_data"
    },
    {
     "data": {
      "text/plain": [
       "<Figure size 1440x720 with 0 Axes>"
      ]
     },
     "metadata": {},
     "output_type": "display_data"
    },
    {
     "data": {
      "text/plain": [
       "<Figure size 1440x720 with 0 Axes>"
      ]
     },
     "metadata": {},
     "output_type": "display_data"
    },
    {
     "data": {
      "text/plain": [
       "<Figure size 1440x720 with 0 Axes>"
      ]
     },
     "metadata": {},
     "output_type": "display_data"
    },
    {
     "data": {
      "text/plain": [
       "<Figure size 1440x720 with 0 Axes>"
      ]
     },
     "metadata": {},
     "output_type": "display_data"
    },
    {
     "data": {
      "text/plain": [
       "<Figure size 1440x720 with 0 Axes>"
      ]
     },
     "metadata": {},
     "output_type": "display_data"
    },
    {
     "data": {
      "text/plain": [
       "<Figure size 1440x720 with 0 Axes>"
      ]
     },
     "metadata": {},
     "output_type": "display_data"
    },
    {
     "data": {
      "text/plain": [
       "<Figure size 1440x720 with 0 Axes>"
      ]
     },
     "metadata": {},
     "output_type": "display_data"
    },
    {
     "data": {
      "text/plain": [
       "<Figure size 1440x720 with 0 Axes>"
      ]
     },
     "metadata": {},
     "output_type": "display_data"
    },
    {
     "data": {
      "text/plain": [
       "<Figure size 1440x720 with 0 Axes>"
      ]
     },
     "metadata": {},
     "output_type": "display_data"
    },
    {
     "data": {
      "text/plain": [
       "<Figure size 1440x720 with 0 Axes>"
      ]
     },
     "metadata": {},
     "output_type": "display_data"
    },
    {
     "data": {
      "text/plain": [
       "<Figure size 1440x720 with 0 Axes>"
      ]
     },
     "metadata": {},
     "output_type": "display_data"
    },
    {
     "data": {
      "text/plain": [
       "<Figure size 1440x720 with 0 Axes>"
      ]
     },
     "metadata": {},
     "output_type": "display_data"
    },
    {
     "data": {
      "text/plain": [
       "<Figure size 1440x720 with 0 Axes>"
      ]
     },
     "metadata": {},
     "output_type": "display_data"
    },
    {
     "data": {
      "text/plain": [
       "<Figure size 1440x720 with 0 Axes>"
      ]
     },
     "metadata": {},
     "output_type": "display_data"
    },
    {
     "data": {
      "text/plain": [
       "<Figure size 1440x720 with 0 Axes>"
      ]
     },
     "metadata": {},
     "output_type": "display_data"
    },
    {
     "data": {
      "text/plain": [
       "<Figure size 1440x720 with 0 Axes>"
      ]
     },
     "metadata": {},
     "output_type": "display_data"
    },
    {
     "data": {
      "text/plain": [
       "<Figure size 1440x720 with 0 Axes>"
      ]
     },
     "metadata": {},
     "output_type": "display_data"
    },
    {
     "data": {
      "text/plain": [
       "<Figure size 1440x720 with 0 Axes>"
      ]
     },
     "metadata": {},
     "output_type": "display_data"
    },
    {
     "data": {
      "text/plain": [
       "<Figure size 1440x720 with 0 Axes>"
      ]
     },
     "metadata": {},
     "output_type": "display_data"
    },
    {
     "data": {
      "text/plain": [
       "<Figure size 1440x720 with 0 Axes>"
      ]
     },
     "metadata": {},
     "output_type": "display_data"
    },
    {
     "data": {
      "text/plain": [
       "<Figure size 1440x720 with 0 Axes>"
      ]
     },
     "metadata": {},
     "output_type": "display_data"
    },
    {
     "data": {
      "text/plain": [
       "<Figure size 1440x720 with 0 Axes>"
      ]
     },
     "metadata": {},
     "output_type": "display_data"
    },
    {
     "data": {
      "text/plain": [
       "<Figure size 1440x720 with 0 Axes>"
      ]
     },
     "metadata": {},
     "output_type": "display_data"
    },
    {
     "data": {
      "text/plain": [
       "<Figure size 1440x720 with 0 Axes>"
      ]
     },
     "metadata": {},
     "output_type": "display_data"
    },
    {
     "data": {
      "text/plain": [
       "<Figure size 1440x720 with 0 Axes>"
      ]
     },
     "metadata": {},
     "output_type": "display_data"
    },
    {
     "data": {
      "text/plain": [
       "<Figure size 1440x720 with 0 Axes>"
      ]
     },
     "metadata": {},
     "output_type": "display_data"
    },
    {
     "data": {
      "text/plain": [
       "<Figure size 1440x720 with 0 Axes>"
      ]
     },
     "metadata": {},
     "output_type": "display_data"
    },
    {
     "data": {
      "text/plain": [
       "<Figure size 1440x720 with 0 Axes>"
      ]
     },
     "metadata": {},
     "output_type": "display_data"
    },
    {
     "data": {
      "text/plain": [
       "<Figure size 1440x720 with 0 Axes>"
      ]
     },
     "metadata": {},
     "output_type": "display_data"
    },
    {
     "data": {
      "text/plain": [
       "<Figure size 1440x720 with 0 Axes>"
      ]
     },
     "metadata": {},
     "output_type": "display_data"
    },
    {
     "data": {
      "text/plain": [
       "<Figure size 1440x720 with 0 Axes>"
      ]
     },
     "metadata": {},
     "output_type": "display_data"
    },
    {
     "data": {
      "text/plain": [
       "<Figure size 1440x720 with 0 Axes>"
      ]
     },
     "metadata": {},
     "output_type": "display_data"
    },
    {
     "data": {
      "text/plain": [
       "<Figure size 1440x720 with 0 Axes>"
      ]
     },
     "metadata": {},
     "output_type": "display_data"
    },
    {
     "data": {
      "text/plain": [
       "<Figure size 1440x720 with 0 Axes>"
      ]
     },
     "metadata": {},
     "output_type": "display_data"
    },
    {
     "data": {
      "text/plain": [
       "<Figure size 1440x720 with 0 Axes>"
      ]
     },
     "metadata": {},
     "output_type": "display_data"
    },
    {
     "data": {
      "text/plain": [
       "<Figure size 1440x720 with 0 Axes>"
      ]
     },
     "metadata": {},
     "output_type": "display_data"
    },
    {
     "data": {
      "text/plain": [
       "<Figure size 1440x720 with 0 Axes>"
      ]
     },
     "metadata": {},
     "output_type": "display_data"
    },
    {
     "data": {
      "text/plain": [
       "<Figure size 1440x720 with 0 Axes>"
      ]
     },
     "metadata": {},
     "output_type": "display_data"
    },
    {
     "data": {
      "text/plain": [
       "<Figure size 1440x720 with 0 Axes>"
      ]
     },
     "metadata": {},
     "output_type": "display_data"
    },
    {
     "data": {
      "text/plain": [
       "<Figure size 1440x720 with 0 Axes>"
      ]
     },
     "metadata": {},
     "output_type": "display_data"
    },
    {
     "data": {
      "text/plain": [
       "<Figure size 1440x720 with 0 Axes>"
      ]
     },
     "metadata": {},
     "output_type": "display_data"
    },
    {
     "data": {
      "text/plain": [
       "<Figure size 1440x720 with 0 Axes>"
      ]
     },
     "metadata": {},
     "output_type": "display_data"
    },
    {
     "data": {
      "text/plain": [
       "<Figure size 1440x720 with 0 Axes>"
      ]
     },
     "metadata": {},
     "output_type": "display_data"
    },
    {
     "data": {
      "text/plain": [
       "<Figure size 1440x720 with 0 Axes>"
      ]
     },
     "metadata": {},
     "output_type": "display_data"
    },
    {
     "data": {
      "text/plain": [
       "<Figure size 1440x720 with 0 Axes>"
      ]
     },
     "metadata": {},
     "output_type": "display_data"
    },
    {
     "data": {
      "text/plain": [
       "<Figure size 1440x720 with 0 Axes>"
      ]
     },
     "metadata": {},
     "output_type": "display_data"
    },
    {
     "data": {
      "text/plain": [
       "<Figure size 1440x720 with 0 Axes>"
      ]
     },
     "metadata": {},
     "output_type": "display_data"
    },
    {
     "data": {
      "text/plain": [
       "<Figure size 1440x720 with 0 Axes>"
      ]
     },
     "metadata": {},
     "output_type": "display_data"
    },
    {
     "data": {
      "text/plain": [
       "<Figure size 1440x720 with 0 Axes>"
      ]
     },
     "metadata": {},
     "output_type": "display_data"
    },
    {
     "data": {
      "text/plain": [
       "<Figure size 1440x720 with 0 Axes>"
      ]
     },
     "metadata": {},
     "output_type": "display_data"
    },
    {
     "data": {
      "text/plain": [
       "<Figure size 1440x720 with 0 Axes>"
      ]
     },
     "metadata": {},
     "output_type": "display_data"
    },
    {
     "data": {
      "text/plain": [
       "<Figure size 1440x720 with 0 Axes>"
      ]
     },
     "metadata": {},
     "output_type": "display_data"
    },
    {
     "data": {
      "text/plain": [
       "<Figure size 1440x720 with 0 Axes>"
      ]
     },
     "metadata": {},
     "output_type": "display_data"
    },
    {
     "data": {
      "text/plain": [
       "<Figure size 1440x720 with 0 Axes>"
      ]
     },
     "metadata": {},
     "output_type": "display_data"
    },
    {
     "data": {
      "text/plain": [
       "<Figure size 1440x720 with 0 Axes>"
      ]
     },
     "metadata": {},
     "output_type": "display_data"
    },
    {
     "data": {
      "text/plain": [
       "<Figure size 1440x720 with 0 Axes>"
      ]
     },
     "metadata": {},
     "output_type": "display_data"
    },
    {
     "data": {
      "text/plain": [
       "<Figure size 1440x720 with 0 Axes>"
      ]
     },
     "metadata": {},
     "output_type": "display_data"
    },
    {
     "data": {
      "text/plain": [
       "<Figure size 1440x720 with 0 Axes>"
      ]
     },
     "metadata": {},
     "output_type": "display_data"
    },
    {
     "data": {
      "text/plain": [
       "<Figure size 1440x720 with 0 Axes>"
      ]
     },
     "metadata": {},
     "output_type": "display_data"
    },
    {
     "data": {
      "text/plain": [
       "<Figure size 1440x720 with 0 Axes>"
      ]
     },
     "metadata": {},
     "output_type": "display_data"
    },
    {
     "data": {
      "text/plain": [
       "<Figure size 1440x720 with 0 Axes>"
      ]
     },
     "metadata": {},
     "output_type": "display_data"
    },
    {
     "data": {
      "text/plain": [
       "<Figure size 1440x720 with 0 Axes>"
      ]
     },
     "metadata": {},
     "output_type": "display_data"
    },
    {
     "data": {
      "text/plain": [
       "<Figure size 1440x720 with 0 Axes>"
      ]
     },
     "metadata": {},
     "output_type": "display_data"
    },
    {
     "data": {
      "text/plain": [
       "<Figure size 1440x720 with 0 Axes>"
      ]
     },
     "metadata": {},
     "output_type": "display_data"
    },
    {
     "data": {
      "text/plain": [
       "<Figure size 1440x720 with 0 Axes>"
      ]
     },
     "metadata": {},
     "output_type": "display_data"
    },
    {
     "data": {
      "text/plain": [
       "<Figure size 1440x720 with 0 Axes>"
      ]
     },
     "metadata": {},
     "output_type": "display_data"
    },
    {
     "data": {
      "text/plain": [
       "<Figure size 1440x720 with 0 Axes>"
      ]
     },
     "metadata": {},
     "output_type": "display_data"
    },
    {
     "data": {
      "text/plain": [
       "<Figure size 1440x720 with 0 Axes>"
      ]
     },
     "metadata": {},
     "output_type": "display_data"
    },
    {
     "data": {
      "text/plain": [
       "<Figure size 1440x720 with 0 Axes>"
      ]
     },
     "metadata": {},
     "output_type": "display_data"
    },
    {
     "data": {
      "text/plain": [
       "<Figure size 1440x720 with 0 Axes>"
      ]
     },
     "metadata": {},
     "output_type": "display_data"
    },
    {
     "data": {
      "text/plain": [
       "<Figure size 1440x720 with 0 Axes>"
      ]
     },
     "metadata": {},
     "output_type": "display_data"
    },
    {
     "data": {
      "text/plain": [
       "<Figure size 1440x720 with 0 Axes>"
      ]
     },
     "metadata": {},
     "output_type": "display_data"
    },
    {
     "data": {
      "text/plain": [
       "<Figure size 1440x720 with 0 Axes>"
      ]
     },
     "metadata": {},
     "output_type": "display_data"
    },
    {
     "data": {
      "text/plain": [
       "<Figure size 1440x720 with 0 Axes>"
      ]
     },
     "metadata": {},
     "output_type": "display_data"
    },
    {
     "data": {
      "text/plain": [
       "<Figure size 1440x720 with 0 Axes>"
      ]
     },
     "metadata": {},
     "output_type": "display_data"
    },
    {
     "data": {
      "text/plain": [
       "<Figure size 1440x720 with 0 Axes>"
      ]
     },
     "metadata": {},
     "output_type": "display_data"
    },
    {
     "data": {
      "text/plain": [
       "<Figure size 1440x720 with 0 Axes>"
      ]
     },
     "metadata": {},
     "output_type": "display_data"
    },
    {
     "data": {
      "text/plain": [
       "<Figure size 1440x720 with 0 Axes>"
      ]
     },
     "metadata": {},
     "output_type": "display_data"
    },
    {
     "data": {
      "text/plain": [
       "<Figure size 1440x720 with 0 Axes>"
      ]
     },
     "metadata": {},
     "output_type": "display_data"
    },
    {
     "data": {
      "text/plain": [
       "<Figure size 1440x720 with 0 Axes>"
      ]
     },
     "metadata": {},
     "output_type": "display_data"
    },
    {
     "data": {
      "text/plain": [
       "<Figure size 1440x720 with 0 Axes>"
      ]
     },
     "metadata": {},
     "output_type": "display_data"
    },
    {
     "data": {
      "text/plain": [
       "<Figure size 1440x720 with 0 Axes>"
      ]
     },
     "metadata": {},
     "output_type": "display_data"
    },
    {
     "data": {
      "text/plain": [
       "<Figure size 1440x720 with 0 Axes>"
      ]
     },
     "metadata": {},
     "output_type": "display_data"
    },
    {
     "data": {
      "text/plain": [
       "<Figure size 1440x720 with 0 Axes>"
      ]
     },
     "metadata": {},
     "output_type": "display_data"
    },
    {
     "data": {
      "text/plain": [
       "<Figure size 1440x720 with 0 Axes>"
      ]
     },
     "metadata": {},
     "output_type": "display_data"
    },
    {
     "data": {
      "text/plain": [
       "<Figure size 1440x720 with 0 Axes>"
      ]
     },
     "metadata": {},
     "output_type": "display_data"
    },
    {
     "data": {
      "text/plain": [
       "<Figure size 1440x720 with 0 Axes>"
      ]
     },
     "metadata": {},
     "output_type": "display_data"
    },
    {
     "data": {
      "text/plain": [
       "<Figure size 1440x720 with 0 Axes>"
      ]
     },
     "metadata": {},
     "output_type": "display_data"
    },
    {
     "data": {
      "text/plain": [
       "<Figure size 1440x720 with 0 Axes>"
      ]
     },
     "metadata": {},
     "output_type": "display_data"
    },
    {
     "data": {
      "text/plain": [
       "<Figure size 1440x720 with 0 Axes>"
      ]
     },
     "metadata": {},
     "output_type": "display_data"
    },
    {
     "data": {
      "text/plain": [
       "<Figure size 1440x720 with 0 Axes>"
      ]
     },
     "metadata": {},
     "output_type": "display_data"
    },
    {
     "data": {
      "text/plain": [
       "<Figure size 1440x720 with 0 Axes>"
      ]
     },
     "metadata": {},
     "output_type": "display_data"
    },
    {
     "data": {
      "text/plain": [
       "<Figure size 1440x720 with 0 Axes>"
      ]
     },
     "metadata": {},
     "output_type": "display_data"
    },
    {
     "data": {
      "text/plain": [
       "<Figure size 1440x720 with 0 Axes>"
      ]
     },
     "metadata": {},
     "output_type": "display_data"
    },
    {
     "data": {
      "text/plain": [
       "<Figure size 1440x720 with 0 Axes>"
      ]
     },
     "metadata": {},
     "output_type": "display_data"
    },
    {
     "data": {
      "text/plain": [
       "<Figure size 1440x720 with 0 Axes>"
      ]
     },
     "metadata": {},
     "output_type": "display_data"
    },
    {
     "data": {
      "text/plain": [
       "<Figure size 1440x720 with 0 Axes>"
      ]
     },
     "metadata": {},
     "output_type": "display_data"
    },
    {
     "data": {
      "text/plain": [
       "<Figure size 1440x720 with 0 Axes>"
      ]
     },
     "metadata": {},
     "output_type": "display_data"
    },
    {
     "data": {
      "text/plain": [
       "<Figure size 1440x720 with 0 Axes>"
      ]
     },
     "metadata": {},
     "output_type": "display_data"
    },
    {
     "data": {
      "text/plain": [
       "<Figure size 1440x720 with 0 Axes>"
      ]
     },
     "metadata": {},
     "output_type": "display_data"
    },
    {
     "data": {
      "text/plain": [
       "<Figure size 1440x720 with 0 Axes>"
      ]
     },
     "metadata": {},
     "output_type": "display_data"
    },
    {
     "data": {
      "text/plain": [
       "<Figure size 1440x720 with 0 Axes>"
      ]
     },
     "metadata": {},
     "output_type": "display_data"
    },
    {
     "data": {
      "text/plain": [
       "<Figure size 1440x720 with 0 Axes>"
      ]
     },
     "metadata": {},
     "output_type": "display_data"
    },
    {
     "data": {
      "text/plain": [
       "<Figure size 1440x720 with 0 Axes>"
      ]
     },
     "metadata": {},
     "output_type": "display_data"
    },
    {
     "data": {
      "text/plain": [
       "<Figure size 1440x720 with 0 Axes>"
      ]
     },
     "metadata": {},
     "output_type": "display_data"
    },
    {
     "data": {
      "text/plain": [
       "<Figure size 1440x720 with 0 Axes>"
      ]
     },
     "metadata": {},
     "output_type": "display_data"
    },
    {
     "data": {
      "text/plain": [
       "<Figure size 1440x720 with 0 Axes>"
      ]
     },
     "metadata": {},
     "output_type": "display_data"
    },
    {
     "data": {
      "text/plain": [
       "<Figure size 1440x720 with 0 Axes>"
      ]
     },
     "metadata": {},
     "output_type": "display_data"
    },
    {
     "data": {
      "text/plain": [
       "<Figure size 1440x720 with 0 Axes>"
      ]
     },
     "metadata": {},
     "output_type": "display_data"
    },
    {
     "data": {
      "text/plain": [
       "<Figure size 1440x720 with 0 Axes>"
      ]
     },
     "metadata": {},
     "output_type": "display_data"
    },
    {
     "data": {
      "text/plain": [
       "<Figure size 1440x720 with 0 Axes>"
      ]
     },
     "metadata": {},
     "output_type": "display_data"
    },
    {
     "data": {
      "text/plain": [
       "<Figure size 1440x720 with 0 Axes>"
      ]
     },
     "metadata": {},
     "output_type": "display_data"
    },
    {
     "data": {
      "text/plain": [
       "<Figure size 1440x720 with 0 Axes>"
      ]
     },
     "metadata": {},
     "output_type": "display_data"
    },
    {
     "data": {
      "text/plain": [
       "<Figure size 1440x720 with 0 Axes>"
      ]
     },
     "metadata": {},
     "output_type": "display_data"
    },
    {
     "data": {
      "text/plain": [
       "<Figure size 1440x720 with 0 Axes>"
      ]
     },
     "metadata": {},
     "output_type": "display_data"
    },
    {
     "data": {
      "text/plain": [
       "<Figure size 1440x720 with 0 Axes>"
      ]
     },
     "metadata": {},
     "output_type": "display_data"
    },
    {
     "data": {
      "text/plain": [
       "<Figure size 1440x720 with 0 Axes>"
      ]
     },
     "metadata": {},
     "output_type": "display_data"
    },
    {
     "data": {
      "text/plain": [
       "<Figure size 1440x720 with 0 Axes>"
      ]
     },
     "metadata": {},
     "output_type": "display_data"
    },
    {
     "data": {
      "text/plain": [
       "<Figure size 1440x720 with 0 Axes>"
      ]
     },
     "metadata": {},
     "output_type": "display_data"
    },
    {
     "data": {
      "text/plain": [
       "<Figure size 1440x720 with 0 Axes>"
      ]
     },
     "metadata": {},
     "output_type": "display_data"
    },
    {
     "data": {
      "text/plain": [
       "<Figure size 1440x720 with 0 Axes>"
      ]
     },
     "metadata": {},
     "output_type": "display_data"
    },
    {
     "data": {
      "text/plain": [
       "<Figure size 1440x720 with 0 Axes>"
      ]
     },
     "metadata": {},
     "output_type": "display_data"
    },
    {
     "data": {
      "text/plain": [
       "<Figure size 1440x720 with 0 Axes>"
      ]
     },
     "metadata": {},
     "output_type": "display_data"
    },
    {
     "data": {
      "text/plain": [
       "<Figure size 1440x720 with 0 Axes>"
      ]
     },
     "metadata": {},
     "output_type": "display_data"
    },
    {
     "data": {
      "text/plain": [
       "<Figure size 1440x720 with 0 Axes>"
      ]
     },
     "metadata": {},
     "output_type": "display_data"
    },
    {
     "data": {
      "text/plain": [
       "<Figure size 1440x720 with 0 Axes>"
      ]
     },
     "metadata": {},
     "output_type": "display_data"
    },
    {
     "data": {
      "text/plain": [
       "<Figure size 1440x720 with 0 Axes>"
      ]
     },
     "metadata": {},
     "output_type": "display_data"
    },
    {
     "data": {
      "text/plain": [
       "<Figure size 1440x720 with 0 Axes>"
      ]
     },
     "metadata": {},
     "output_type": "display_data"
    },
    {
     "data": {
      "text/plain": [
       "<Figure size 1440x720 with 0 Axes>"
      ]
     },
     "metadata": {},
     "output_type": "display_data"
    },
    {
     "data": {
      "text/plain": [
       "<Figure size 1440x720 with 0 Axes>"
      ]
     },
     "metadata": {},
     "output_type": "display_data"
    },
    {
     "data": {
      "text/plain": [
       "<Figure size 1440x720 with 0 Axes>"
      ]
     },
     "metadata": {},
     "output_type": "display_data"
    },
    {
     "data": {
      "text/plain": [
       "<Figure size 1440x720 with 0 Axes>"
      ]
     },
     "metadata": {},
     "output_type": "display_data"
    },
    {
     "data": {
      "text/plain": [
       "<Figure size 1440x720 with 0 Axes>"
      ]
     },
     "metadata": {},
     "output_type": "display_data"
    },
    {
     "data": {
      "text/plain": [
       "<Figure size 1440x720 with 0 Axes>"
      ]
     },
     "metadata": {},
     "output_type": "display_data"
    },
    {
     "data": {
      "text/plain": [
       "<Figure size 1440x720 with 0 Axes>"
      ]
     },
     "metadata": {},
     "output_type": "display_data"
    },
    {
     "data": {
      "text/plain": [
       "<Figure size 1440x720 with 0 Axes>"
      ]
     },
     "metadata": {},
     "output_type": "display_data"
    },
    {
     "data": {
      "text/plain": [
       "<Figure size 1440x720 with 0 Axes>"
      ]
     },
     "metadata": {},
     "output_type": "display_data"
    },
    {
     "data": {
      "text/plain": [
       "<Figure size 1440x720 with 0 Axes>"
      ]
     },
     "metadata": {},
     "output_type": "display_data"
    },
    {
     "data": {
      "text/plain": [
       "<Figure size 1440x720 with 0 Axes>"
      ]
     },
     "metadata": {},
     "output_type": "display_data"
    },
    {
     "data": {
      "text/plain": [
       "<Figure size 1440x720 with 0 Axes>"
      ]
     },
     "metadata": {},
     "output_type": "display_data"
    },
    {
     "data": {
      "text/plain": [
       "<Figure size 1440x720 with 0 Axes>"
      ]
     },
     "metadata": {},
     "output_type": "display_data"
    },
    {
     "data": {
      "text/plain": [
       "<Figure size 1440x720 with 0 Axes>"
      ]
     },
     "metadata": {},
     "output_type": "display_data"
    },
    {
     "data": {
      "text/plain": [
       "<Figure size 1440x720 with 0 Axes>"
      ]
     },
     "metadata": {},
     "output_type": "display_data"
    },
    {
     "data": {
      "text/plain": [
       "<Figure size 1440x720 with 0 Axes>"
      ]
     },
     "metadata": {},
     "output_type": "display_data"
    },
    {
     "data": {
      "text/plain": [
       "<Figure size 1440x720 with 0 Axes>"
      ]
     },
     "metadata": {},
     "output_type": "display_data"
    },
    {
     "data": {
      "text/plain": [
       "<Figure size 1440x720 with 0 Axes>"
      ]
     },
     "metadata": {},
     "output_type": "display_data"
    },
    {
     "data": {
      "text/plain": [
       "<Figure size 1440x720 with 0 Axes>"
      ]
     },
     "metadata": {},
     "output_type": "display_data"
    },
    {
     "data": {
      "text/plain": [
       "<Figure size 1440x720 with 0 Axes>"
      ]
     },
     "metadata": {},
     "output_type": "display_data"
    },
    {
     "data": {
      "text/plain": [
       "<Figure size 1440x720 with 0 Axes>"
      ]
     },
     "metadata": {},
     "output_type": "display_data"
    },
    {
     "data": {
      "text/plain": [
       "<Figure size 1440x720 with 0 Axes>"
      ]
     },
     "metadata": {},
     "output_type": "display_data"
    },
    {
     "data": {
      "text/plain": [
       "<Figure size 1440x720 with 0 Axes>"
      ]
     },
     "metadata": {},
     "output_type": "display_data"
    },
    {
     "data": {
      "text/plain": [
       "<Figure size 1440x720 with 0 Axes>"
      ]
     },
     "metadata": {},
     "output_type": "display_data"
    },
    {
     "data": {
      "text/plain": [
       "<Figure size 1440x720 with 0 Axes>"
      ]
     },
     "metadata": {},
     "output_type": "display_data"
    },
    {
     "data": {
      "text/plain": [
       "<Figure size 1440x720 with 0 Axes>"
      ]
     },
     "metadata": {},
     "output_type": "display_data"
    },
    {
     "data": {
      "text/plain": [
       "<Figure size 1440x720 with 0 Axes>"
      ]
     },
     "metadata": {},
     "output_type": "display_data"
    },
    {
     "data": {
      "text/plain": [
       "<Figure size 1440x720 with 0 Axes>"
      ]
     },
     "metadata": {},
     "output_type": "display_data"
    },
    {
     "data": {
      "text/plain": [
       "<Figure size 1440x720 with 0 Axes>"
      ]
     },
     "metadata": {},
     "output_type": "display_data"
    },
    {
     "data": {
      "text/plain": [
       "<Figure size 1440x720 with 0 Axes>"
      ]
     },
     "metadata": {},
     "output_type": "display_data"
    },
    {
     "data": {
      "text/plain": [
       "<Figure size 1440x720 with 0 Axes>"
      ]
     },
     "metadata": {},
     "output_type": "display_data"
    },
    {
     "data": {
      "text/plain": [
       "<Figure size 1440x720 with 0 Axes>"
      ]
     },
     "metadata": {},
     "output_type": "display_data"
    },
    {
     "data": {
      "text/plain": [
       "<Figure size 1440x720 with 0 Axes>"
      ]
     },
     "metadata": {},
     "output_type": "display_data"
    },
    {
     "data": {
      "text/plain": [
       "<Figure size 1440x720 with 0 Axes>"
      ]
     },
     "metadata": {},
     "output_type": "display_data"
    },
    {
     "data": {
      "text/plain": [
       "<Figure size 1440x720 with 0 Axes>"
      ]
     },
     "metadata": {},
     "output_type": "display_data"
    },
    {
     "data": {
      "text/plain": [
       "<Figure size 1440x720 with 0 Axes>"
      ]
     },
     "metadata": {},
     "output_type": "display_data"
    },
    {
     "data": {
      "text/plain": [
       "<Figure size 1440x720 with 0 Axes>"
      ]
     },
     "metadata": {},
     "output_type": "display_data"
    },
    {
     "data": {
      "text/plain": [
       "<Figure size 1440x720 with 0 Axes>"
      ]
     },
     "metadata": {},
     "output_type": "display_data"
    },
    {
     "data": {
      "text/plain": [
       "<Figure size 1440x720 with 0 Axes>"
      ]
     },
     "metadata": {},
     "output_type": "display_data"
    },
    {
     "data": {
      "text/plain": [
       "<Figure size 1440x720 with 0 Axes>"
      ]
     },
     "metadata": {},
     "output_type": "display_data"
    },
    {
     "data": {
      "text/plain": [
       "<Figure size 1440x720 with 0 Axes>"
      ]
     },
     "metadata": {},
     "output_type": "display_data"
    },
    {
     "data": {
      "text/plain": [
       "<Figure size 1440x720 with 0 Axes>"
      ]
     },
     "metadata": {},
     "output_type": "display_data"
    },
    {
     "data": {
      "text/plain": [
       "<Figure size 1440x720 with 0 Axes>"
      ]
     },
     "metadata": {},
     "output_type": "display_data"
    },
    {
     "data": {
      "text/plain": [
       "<Figure size 1440x720 with 0 Axes>"
      ]
     },
     "metadata": {},
     "output_type": "display_data"
    },
    {
     "data": {
      "text/plain": [
       "<Figure size 1440x720 with 0 Axes>"
      ]
     },
     "metadata": {},
     "output_type": "display_data"
    },
    {
     "data": {
      "text/plain": [
       "<Figure size 1440x720 with 0 Axes>"
      ]
     },
     "metadata": {},
     "output_type": "display_data"
    },
    {
     "data": {
      "text/plain": [
       "<Figure size 1440x720 with 0 Axes>"
      ]
     },
     "metadata": {},
     "output_type": "display_data"
    },
    {
     "data": {
      "text/plain": [
       "<Figure size 1440x720 with 0 Axes>"
      ]
     },
     "metadata": {},
     "output_type": "display_data"
    },
    {
     "data": {
      "text/plain": [
       "<Figure size 1440x720 with 0 Axes>"
      ]
     },
     "metadata": {},
     "output_type": "display_data"
    },
    {
     "data": {
      "text/plain": [
       "<Figure size 1440x720 with 0 Axes>"
      ]
     },
     "metadata": {},
     "output_type": "display_data"
    },
    {
     "data": {
      "text/plain": [
       "<Figure size 1440x720 with 0 Axes>"
      ]
     },
     "metadata": {},
     "output_type": "display_data"
    },
    {
     "data": {
      "text/plain": [
       "<Figure size 1440x720 with 0 Axes>"
      ]
     },
     "metadata": {},
     "output_type": "display_data"
    },
    {
     "data": {
      "text/plain": [
       "<Figure size 1440x720 with 0 Axes>"
      ]
     },
     "metadata": {},
     "output_type": "display_data"
    },
    {
     "data": {
      "text/plain": [
       "<Figure size 1440x720 with 0 Axes>"
      ]
     },
     "metadata": {},
     "output_type": "display_data"
    },
    {
     "data": {
      "text/plain": [
       "<Figure size 1440x720 with 0 Axes>"
      ]
     },
     "metadata": {},
     "output_type": "display_data"
    },
    {
     "data": {
      "text/plain": [
       "<Figure size 1440x720 with 0 Axes>"
      ]
     },
     "metadata": {},
     "output_type": "display_data"
    },
    {
     "data": {
      "text/plain": [
       "<Figure size 1440x720 with 0 Axes>"
      ]
     },
     "metadata": {},
     "output_type": "display_data"
    },
    {
     "data": {
      "text/plain": [
       "<Figure size 1440x720 with 0 Axes>"
      ]
     },
     "metadata": {},
     "output_type": "display_data"
    },
    {
     "data": {
      "text/plain": [
       "<Figure size 1440x720 with 0 Axes>"
      ]
     },
     "metadata": {},
     "output_type": "display_data"
    },
    {
     "data": {
      "text/plain": [
       "<Figure size 1440x720 with 0 Axes>"
      ]
     },
     "metadata": {},
     "output_type": "display_data"
    },
    {
     "data": {
      "text/plain": [
       "<Figure size 1440x720 with 0 Axes>"
      ]
     },
     "metadata": {},
     "output_type": "display_data"
    },
    {
     "data": {
      "text/plain": [
       "<Figure size 1440x720 with 0 Axes>"
      ]
     },
     "metadata": {},
     "output_type": "display_data"
    },
    {
     "data": {
      "text/plain": [
       "<Figure size 1440x720 with 0 Axes>"
      ]
     },
     "metadata": {},
     "output_type": "display_data"
    },
    {
     "data": {
      "text/plain": [
       "<Figure size 1440x720 with 0 Axes>"
      ]
     },
     "metadata": {},
     "output_type": "display_data"
    },
    {
     "data": {
      "text/plain": [
       "<Figure size 1440x720 with 0 Axes>"
      ]
     },
     "metadata": {},
     "output_type": "display_data"
    },
    {
     "data": {
      "text/plain": [
       "<Figure size 1440x720 with 0 Axes>"
      ]
     },
     "metadata": {},
     "output_type": "display_data"
    },
    {
     "data": {
      "text/plain": [
       "<Figure size 1440x720 with 0 Axes>"
      ]
     },
     "metadata": {},
     "output_type": "display_data"
    },
    {
     "data": {
      "text/plain": [
       "<Figure size 1440x720 with 0 Axes>"
      ]
     },
     "metadata": {},
     "output_type": "display_data"
    },
    {
     "data": {
      "text/plain": [
       "<Figure size 1440x720 with 0 Axes>"
      ]
     },
     "metadata": {},
     "output_type": "display_data"
    },
    {
     "data": {
      "text/plain": [
       "<Figure size 1440x720 with 0 Axes>"
      ]
     },
     "metadata": {},
     "output_type": "display_data"
    },
    {
     "data": {
      "text/plain": [
       "<Figure size 1440x720 with 0 Axes>"
      ]
     },
     "metadata": {},
     "output_type": "display_data"
    },
    {
     "data": {
      "text/plain": [
       "<Figure size 1440x720 with 0 Axes>"
      ]
     },
     "metadata": {},
     "output_type": "display_data"
    },
    {
     "data": {
      "text/plain": [
       "<Figure size 1440x720 with 0 Axes>"
      ]
     },
     "metadata": {},
     "output_type": "display_data"
    },
    {
     "data": {
      "text/plain": [
       "<Figure size 1440x720 with 0 Axes>"
      ]
     },
     "metadata": {},
     "output_type": "display_data"
    },
    {
     "data": {
      "text/plain": [
       "<Figure size 1440x720 with 0 Axes>"
      ]
     },
     "metadata": {},
     "output_type": "display_data"
    },
    {
     "data": {
      "text/plain": [
       "<Figure size 1440x720 with 0 Axes>"
      ]
     },
     "metadata": {},
     "output_type": "display_data"
    },
    {
     "data": {
      "text/plain": [
       "<Figure size 1440x720 with 0 Axes>"
      ]
     },
     "metadata": {},
     "output_type": "display_data"
    },
    {
     "data": {
      "text/plain": [
       "<Figure size 1440x720 with 0 Axes>"
      ]
     },
     "metadata": {},
     "output_type": "display_data"
    },
    {
     "data": {
      "text/plain": [
       "<Figure size 1440x720 with 0 Axes>"
      ]
     },
     "metadata": {},
     "output_type": "display_data"
    },
    {
     "data": {
      "text/plain": [
       "<Figure size 1440x720 with 0 Axes>"
      ]
     },
     "metadata": {},
     "output_type": "display_data"
    },
    {
     "data": {
      "text/plain": [
       "<Figure size 1440x720 with 0 Axes>"
      ]
     },
     "metadata": {},
     "output_type": "display_data"
    },
    {
     "data": {
      "text/plain": [
       "<Figure size 1440x720 with 0 Axes>"
      ]
     },
     "metadata": {},
     "output_type": "display_data"
    },
    {
     "data": {
      "text/plain": [
       "<Figure size 1440x720 with 0 Axes>"
      ]
     },
     "metadata": {},
     "output_type": "display_data"
    },
    {
     "data": {
      "text/plain": [
       "<Figure size 1440x720 with 0 Axes>"
      ]
     },
     "metadata": {},
     "output_type": "display_data"
    },
    {
     "data": {
      "text/plain": [
       "<Figure size 1440x720 with 0 Axes>"
      ]
     },
     "metadata": {},
     "output_type": "display_data"
    },
    {
     "data": {
      "text/plain": [
       "<Figure size 1440x720 with 0 Axes>"
      ]
     },
     "metadata": {},
     "output_type": "display_data"
    },
    {
     "data": {
      "text/plain": [
       "<Figure size 1440x720 with 0 Axes>"
      ]
     },
     "metadata": {},
     "output_type": "display_data"
    },
    {
     "data": {
      "text/plain": [
       "<Figure size 1440x720 with 0 Axes>"
      ]
     },
     "metadata": {},
     "output_type": "display_data"
    },
    {
     "data": {
      "text/plain": [
       "<Figure size 1440x720 with 0 Axes>"
      ]
     },
     "metadata": {},
     "output_type": "display_data"
    },
    {
     "data": {
      "text/plain": [
       "<Figure size 1440x720 with 0 Axes>"
      ]
     },
     "metadata": {},
     "output_type": "display_data"
    },
    {
     "data": {
      "text/plain": [
       "<Figure size 1440x720 with 0 Axes>"
      ]
     },
     "metadata": {},
     "output_type": "display_data"
    },
    {
     "data": {
      "text/plain": [
       "<Figure size 1440x720 with 0 Axes>"
      ]
     },
     "metadata": {},
     "output_type": "display_data"
    },
    {
     "data": {
      "text/plain": [
       "<Figure size 1440x720 with 0 Axes>"
      ]
     },
     "metadata": {},
     "output_type": "display_data"
    },
    {
     "data": {
      "text/plain": [
       "<Figure size 1440x720 with 0 Axes>"
      ]
     },
     "metadata": {},
     "output_type": "display_data"
    },
    {
     "data": {
      "text/plain": [
       "<Figure size 1440x720 with 0 Axes>"
      ]
     },
     "metadata": {},
     "output_type": "display_data"
    },
    {
     "data": {
      "text/plain": [
       "<Figure size 1440x720 with 0 Axes>"
      ]
     },
     "metadata": {},
     "output_type": "display_data"
    },
    {
     "data": {
      "text/plain": [
       "<Figure size 1440x720 with 0 Axes>"
      ]
     },
     "metadata": {},
     "output_type": "display_data"
    },
    {
     "data": {
      "text/plain": [
       "<Figure size 1440x720 with 0 Axes>"
      ]
     },
     "metadata": {},
     "output_type": "display_data"
    },
    {
     "data": {
      "text/plain": [
       "<Figure size 1440x720 with 0 Axes>"
      ]
     },
     "metadata": {},
     "output_type": "display_data"
    },
    {
     "data": {
      "text/plain": [
       "<Figure size 1440x720 with 0 Axes>"
      ]
     },
     "metadata": {},
     "output_type": "display_data"
    },
    {
     "data": {
      "text/plain": [
       "<Figure size 1440x720 with 0 Axes>"
      ]
     },
     "metadata": {},
     "output_type": "display_data"
    },
    {
     "data": {
      "text/plain": [
       "<Figure size 1440x720 with 0 Axes>"
      ]
     },
     "metadata": {},
     "output_type": "display_data"
    },
    {
     "data": {
      "text/plain": [
       "<Figure size 1440x720 with 0 Axes>"
      ]
     },
     "metadata": {},
     "output_type": "display_data"
    },
    {
     "data": {
      "text/plain": [
       "<Figure size 1440x720 with 0 Axes>"
      ]
     },
     "metadata": {},
     "output_type": "display_data"
    },
    {
     "data": {
      "text/plain": [
       "<Figure size 1440x720 with 0 Axes>"
      ]
     },
     "metadata": {},
     "output_type": "display_data"
    },
    {
     "data": {
      "text/plain": [
       "<Figure size 1440x720 with 0 Axes>"
      ]
     },
     "metadata": {},
     "output_type": "display_data"
    },
    {
     "data": {
      "text/plain": [
       "<Figure size 1440x720 with 0 Axes>"
      ]
     },
     "metadata": {},
     "output_type": "display_data"
    },
    {
     "data": {
      "text/plain": [
       "<Figure size 1440x720 with 0 Axes>"
      ]
     },
     "metadata": {},
     "output_type": "display_data"
    },
    {
     "data": {
      "text/plain": [
       "<Figure size 1440x720 with 0 Axes>"
      ]
     },
     "metadata": {},
     "output_type": "display_data"
    },
    {
     "data": {
      "text/plain": [
       "<Figure size 1440x720 with 0 Axes>"
      ]
     },
     "metadata": {},
     "output_type": "display_data"
    },
    {
     "data": {
      "text/plain": [
       "<Figure size 1440x720 with 0 Axes>"
      ]
     },
     "metadata": {},
     "output_type": "display_data"
    },
    {
     "data": {
      "text/plain": [
       "<Figure size 1440x720 with 0 Axes>"
      ]
     },
     "metadata": {},
     "output_type": "display_data"
    },
    {
     "data": {
      "text/plain": [
       "<Figure size 1440x720 with 0 Axes>"
      ]
     },
     "metadata": {},
     "output_type": "display_data"
    },
    {
     "data": {
      "text/plain": [
       "<Figure size 1440x720 with 0 Axes>"
      ]
     },
     "metadata": {},
     "output_type": "display_data"
    },
    {
     "data": {
      "text/plain": [
       "<Figure size 1440x720 with 0 Axes>"
      ]
     },
     "metadata": {},
     "output_type": "display_data"
    },
    {
     "data": {
      "text/plain": [
       "<Figure size 1440x720 with 0 Axes>"
      ]
     },
     "metadata": {},
     "output_type": "display_data"
    },
    {
     "data": {
      "text/plain": [
       "<Figure size 1440x720 with 0 Axes>"
      ]
     },
     "metadata": {},
     "output_type": "display_data"
    },
    {
     "data": {
      "text/plain": [
       "<Figure size 1440x720 with 0 Axes>"
      ]
     },
     "metadata": {},
     "output_type": "display_data"
    },
    {
     "data": {
      "text/plain": [
       "<Figure size 1440x720 with 0 Axes>"
      ]
     },
     "metadata": {},
     "output_type": "display_data"
    },
    {
     "data": {
      "text/plain": [
       "<Figure size 1440x720 with 0 Axes>"
      ]
     },
     "metadata": {},
     "output_type": "display_data"
    },
    {
     "data": {
      "text/plain": [
       "<Figure size 1440x720 with 0 Axes>"
      ]
     },
     "metadata": {},
     "output_type": "display_data"
    },
    {
     "data": {
      "text/plain": [
       "<Figure size 1440x720 with 0 Axes>"
      ]
     },
     "metadata": {},
     "output_type": "display_data"
    },
    {
     "data": {
      "text/plain": [
       "<Figure size 1440x720 with 0 Axes>"
      ]
     },
     "metadata": {},
     "output_type": "display_data"
    },
    {
     "data": {
      "text/plain": [
       "<Figure size 1440x720 with 0 Axes>"
      ]
     },
     "metadata": {},
     "output_type": "display_data"
    },
    {
     "data": {
      "text/plain": [
       "<Figure size 1440x720 with 0 Axes>"
      ]
     },
     "metadata": {},
     "output_type": "display_data"
    },
    {
     "data": {
      "text/plain": [
       "<Figure size 1440x720 with 0 Axes>"
      ]
     },
     "metadata": {},
     "output_type": "display_data"
    },
    {
     "data": {
      "text/plain": [
       "<Figure size 1440x720 with 0 Axes>"
      ]
     },
     "metadata": {},
     "output_type": "display_data"
    },
    {
     "data": {
      "text/plain": [
       "<Figure size 1440x720 with 0 Axes>"
      ]
     },
     "metadata": {},
     "output_type": "display_data"
    },
    {
     "data": {
      "text/plain": [
       "<Figure size 1440x720 with 0 Axes>"
      ]
     },
     "metadata": {},
     "output_type": "display_data"
    },
    {
     "data": {
      "text/plain": [
       "<Figure size 1440x720 with 0 Axes>"
      ]
     },
     "metadata": {},
     "output_type": "display_data"
    },
    {
     "data": {
      "text/plain": [
       "<Figure size 1440x720 with 0 Axes>"
      ]
     },
     "metadata": {},
     "output_type": "display_data"
    },
    {
     "data": {
      "text/plain": [
       "<Figure size 1440x720 with 0 Axes>"
      ]
     },
     "metadata": {},
     "output_type": "display_data"
    },
    {
     "data": {
      "text/plain": [
       "<Figure size 1440x720 with 0 Axes>"
      ]
     },
     "metadata": {},
     "output_type": "display_data"
    },
    {
     "data": {
      "text/plain": [
       "<Figure size 1440x720 with 0 Axes>"
      ]
     },
     "metadata": {},
     "output_type": "display_data"
    },
    {
     "data": {
      "text/plain": [
       "<Figure size 1440x720 with 0 Axes>"
      ]
     },
     "metadata": {},
     "output_type": "display_data"
    },
    {
     "data": {
      "text/plain": [
       "<Figure size 1440x720 with 0 Axes>"
      ]
     },
     "metadata": {},
     "output_type": "display_data"
    },
    {
     "data": {
      "text/plain": [
       "<Figure size 1440x720 with 0 Axes>"
      ]
     },
     "metadata": {},
     "output_type": "display_data"
    },
    {
     "data": {
      "text/plain": [
       "<Figure size 1440x720 with 0 Axes>"
      ]
     },
     "metadata": {},
     "output_type": "display_data"
    },
    {
     "data": {
      "text/plain": [
       "<Figure size 1440x720 with 0 Axes>"
      ]
     },
     "metadata": {},
     "output_type": "display_data"
    },
    {
     "data": {
      "text/plain": [
       "<Figure size 1440x720 with 0 Axes>"
      ]
     },
     "metadata": {},
     "output_type": "display_data"
    },
    {
     "data": {
      "text/plain": [
       "<Figure size 1440x720 with 0 Axes>"
      ]
     },
     "metadata": {},
     "output_type": "display_data"
    },
    {
     "data": {
      "text/plain": [
       "<Figure size 1440x720 with 0 Axes>"
      ]
     },
     "metadata": {},
     "output_type": "display_data"
    },
    {
     "data": {
      "text/plain": [
       "<Figure size 1440x720 with 0 Axes>"
      ]
     },
     "metadata": {},
     "output_type": "display_data"
    },
    {
     "data": {
      "text/plain": [
       "<Figure size 1440x720 with 0 Axes>"
      ]
     },
     "metadata": {},
     "output_type": "display_data"
    },
    {
     "data": {
      "text/plain": [
       "<Figure size 1440x720 with 0 Axes>"
      ]
     },
     "metadata": {},
     "output_type": "display_data"
    },
    {
     "data": {
      "text/plain": [
       "<Figure size 1440x720 with 0 Axes>"
      ]
     },
     "metadata": {},
     "output_type": "display_data"
    },
    {
     "data": {
      "text/plain": [
       "<Figure size 1440x720 with 0 Axes>"
      ]
     },
     "metadata": {},
     "output_type": "display_data"
    },
    {
     "data": {
      "text/plain": [
       "<Figure size 1440x720 with 0 Axes>"
      ]
     },
     "metadata": {},
     "output_type": "display_data"
    },
    {
     "data": {
      "text/plain": [
       "<Figure size 1440x720 with 0 Axes>"
      ]
     },
     "metadata": {},
     "output_type": "display_data"
    },
    {
     "data": {
      "text/plain": [
       "<Figure size 1440x720 with 0 Axes>"
      ]
     },
     "metadata": {},
     "output_type": "display_data"
    },
    {
     "data": {
      "text/plain": [
       "<Figure size 1440x720 with 0 Axes>"
      ]
     },
     "metadata": {},
     "output_type": "display_data"
    },
    {
     "data": {
      "text/plain": [
       "<Figure size 1440x720 with 0 Axes>"
      ]
     },
     "metadata": {},
     "output_type": "display_data"
    },
    {
     "data": {
      "text/plain": [
       "<Figure size 1440x720 with 0 Axes>"
      ]
     },
     "metadata": {},
     "output_type": "display_data"
    },
    {
     "data": {
      "text/plain": [
       "<Figure size 1440x720 with 0 Axes>"
      ]
     },
     "metadata": {},
     "output_type": "display_data"
    },
    {
     "data": {
      "text/plain": [
       "<Figure size 1440x720 with 0 Axes>"
      ]
     },
     "metadata": {},
     "output_type": "display_data"
    },
    {
     "data": {
      "text/plain": [
       "<Figure size 1440x720 with 0 Axes>"
      ]
     },
     "metadata": {},
     "output_type": "display_data"
    },
    {
     "data": {
      "text/plain": [
       "<Figure size 1440x720 with 0 Axes>"
      ]
     },
     "metadata": {},
     "output_type": "display_data"
    },
    {
     "data": {
      "text/plain": [
       "<Figure size 1440x720 with 0 Axes>"
      ]
     },
     "metadata": {},
     "output_type": "display_data"
    },
    {
     "data": {
      "text/plain": [
       "<Figure size 1440x720 with 0 Axes>"
      ]
     },
     "metadata": {},
     "output_type": "display_data"
    },
    {
     "data": {
      "text/plain": [
       "<Figure size 1440x720 with 0 Axes>"
      ]
     },
     "metadata": {},
     "output_type": "display_data"
    },
    {
     "data": {
      "text/plain": [
       "<Figure size 1440x720 with 0 Axes>"
      ]
     },
     "metadata": {},
     "output_type": "display_data"
    },
    {
     "data": {
      "text/plain": [
       "<Figure size 1440x720 with 0 Axes>"
      ]
     },
     "metadata": {},
     "output_type": "display_data"
    },
    {
     "data": {
      "text/plain": [
       "<Figure size 1440x720 with 0 Axes>"
      ]
     },
     "metadata": {},
     "output_type": "display_data"
    },
    {
     "data": {
      "text/plain": [
       "<Figure size 1440x720 with 0 Axes>"
      ]
     },
     "metadata": {},
     "output_type": "display_data"
    },
    {
     "data": {
      "text/plain": [
       "<Figure size 1440x720 with 0 Axes>"
      ]
     },
     "metadata": {},
     "output_type": "display_data"
    },
    {
     "data": {
      "text/plain": [
       "<Figure size 1440x720 with 0 Axes>"
      ]
     },
     "metadata": {},
     "output_type": "display_data"
    },
    {
     "data": {
      "text/plain": [
       "<Figure size 1440x720 with 0 Axes>"
      ]
     },
     "metadata": {},
     "output_type": "display_data"
    },
    {
     "data": {
      "text/plain": [
       "<Figure size 1440x720 with 0 Axes>"
      ]
     },
     "metadata": {},
     "output_type": "display_data"
    },
    {
     "data": {
      "text/plain": [
       "<Figure size 1440x720 with 0 Axes>"
      ]
     },
     "metadata": {},
     "output_type": "display_data"
    },
    {
     "data": {
      "text/plain": [
       "<Figure size 1440x720 with 0 Axes>"
      ]
     },
     "metadata": {},
     "output_type": "display_data"
    },
    {
     "data": {
      "text/plain": [
       "<Figure size 1440x720 with 0 Axes>"
      ]
     },
     "metadata": {},
     "output_type": "display_data"
    },
    {
     "data": {
      "text/plain": [
       "<Figure size 1440x720 with 0 Axes>"
      ]
     },
     "metadata": {},
     "output_type": "display_data"
    },
    {
     "data": {
      "text/plain": [
       "<Figure size 1440x720 with 0 Axes>"
      ]
     },
     "metadata": {},
     "output_type": "display_data"
    },
    {
     "data": {
      "text/plain": [
       "<Figure size 1440x720 with 0 Axes>"
      ]
     },
     "metadata": {},
     "output_type": "display_data"
    },
    {
     "data": {
      "text/plain": [
       "<Figure size 1440x720 with 0 Axes>"
      ]
     },
     "metadata": {},
     "output_type": "display_data"
    },
    {
     "data": {
      "text/plain": [
       "<Figure size 1440x720 with 0 Axes>"
      ]
     },
     "metadata": {},
     "output_type": "display_data"
    },
    {
     "data": {
      "text/plain": [
       "<Figure size 1440x720 with 0 Axes>"
      ]
     },
     "metadata": {},
     "output_type": "display_data"
    },
    {
     "data": {
      "text/plain": [
       "<Figure size 1440x720 with 0 Axes>"
      ]
     },
     "metadata": {},
     "output_type": "display_data"
    },
    {
     "data": {
      "text/plain": [
       "<Figure size 1440x720 with 0 Axes>"
      ]
     },
     "metadata": {},
     "output_type": "display_data"
    },
    {
     "data": {
      "text/plain": [
       "<Figure size 1440x720 with 0 Axes>"
      ]
     },
     "metadata": {},
     "output_type": "display_data"
    },
    {
     "data": {
      "text/plain": [
       "<Figure size 1440x720 with 0 Axes>"
      ]
     },
     "metadata": {},
     "output_type": "display_data"
    },
    {
     "data": {
      "text/plain": [
       "<Figure size 1440x720 with 0 Axes>"
      ]
     },
     "metadata": {},
     "output_type": "display_data"
    },
    {
     "data": {
      "text/plain": [
       "<Figure size 1440x720 with 0 Axes>"
      ]
     },
     "metadata": {},
     "output_type": "display_data"
    },
    {
     "data": {
      "text/plain": [
       "<Figure size 1440x720 with 0 Axes>"
      ]
     },
     "metadata": {},
     "output_type": "display_data"
    },
    {
     "data": {
      "text/plain": [
       "<Figure size 1440x720 with 0 Axes>"
      ]
     },
     "metadata": {},
     "output_type": "display_data"
    },
    {
     "data": {
      "text/plain": [
       "<Figure size 1440x720 with 0 Axes>"
      ]
     },
     "metadata": {},
     "output_type": "display_data"
    },
    {
     "data": {
      "text/plain": [
       "<Figure size 1440x720 with 0 Axes>"
      ]
     },
     "metadata": {},
     "output_type": "display_data"
    },
    {
     "data": {
      "text/plain": [
       "<Figure size 1440x720 with 0 Axes>"
      ]
     },
     "metadata": {},
     "output_type": "display_data"
    },
    {
     "data": {
      "text/plain": [
       "<Figure size 1440x720 with 0 Axes>"
      ]
     },
     "metadata": {},
     "output_type": "display_data"
    },
    {
     "data": {
      "text/plain": [
       "<Figure size 1440x720 with 0 Axes>"
      ]
     },
     "metadata": {},
     "output_type": "display_data"
    },
    {
     "data": {
      "text/plain": [
       "<Figure size 1440x720 with 0 Axes>"
      ]
     },
     "metadata": {},
     "output_type": "display_data"
    },
    {
     "data": {
      "text/plain": [
       "<Figure size 1440x720 with 0 Axes>"
      ]
     },
     "metadata": {},
     "output_type": "display_data"
    },
    {
     "data": {
      "text/plain": [
       "<Figure size 1440x720 with 0 Axes>"
      ]
     },
     "metadata": {},
     "output_type": "display_data"
    },
    {
     "data": {
      "text/plain": [
       "<Figure size 1440x720 with 0 Axes>"
      ]
     },
     "metadata": {},
     "output_type": "display_data"
    },
    {
     "data": {
      "text/plain": [
       "<Figure size 1440x720 with 0 Axes>"
      ]
     },
     "metadata": {},
     "output_type": "display_data"
    },
    {
     "data": {
      "text/plain": [
       "<Figure size 1440x720 with 0 Axes>"
      ]
     },
     "metadata": {},
     "output_type": "display_data"
    },
    {
     "data": {
      "text/plain": [
       "<Figure size 1440x720 with 0 Axes>"
      ]
     },
     "metadata": {},
     "output_type": "display_data"
    },
    {
     "data": {
      "text/plain": [
       "<Figure size 1440x720 with 0 Axes>"
      ]
     },
     "metadata": {},
     "output_type": "display_data"
    },
    {
     "data": {
      "text/plain": [
       "<Figure size 1440x720 with 0 Axes>"
      ]
     },
     "metadata": {},
     "output_type": "display_data"
    },
    {
     "data": {
      "text/plain": [
       "<Figure size 1440x720 with 0 Axes>"
      ]
     },
     "metadata": {},
     "output_type": "display_data"
    },
    {
     "data": {
      "text/plain": [
       "<Figure size 1440x720 with 0 Axes>"
      ]
     },
     "metadata": {},
     "output_type": "display_data"
    },
    {
     "data": {
      "text/plain": [
       "<Figure size 1440x720 with 0 Axes>"
      ]
     },
     "metadata": {},
     "output_type": "display_data"
    },
    {
     "data": {
      "text/plain": [
       "<Figure size 1440x720 with 0 Axes>"
      ]
     },
     "metadata": {},
     "output_type": "display_data"
    },
    {
     "data": {
      "text/plain": [
       "<Figure size 1440x720 with 0 Axes>"
      ]
     },
     "metadata": {},
     "output_type": "display_data"
    },
    {
     "data": {
      "text/plain": [
       "<Figure size 1440x720 with 0 Axes>"
      ]
     },
     "metadata": {},
     "output_type": "display_data"
    },
    {
     "data": {
      "text/plain": [
       "<Figure size 1440x720 with 0 Axes>"
      ]
     },
     "metadata": {},
     "output_type": "display_data"
    },
    {
     "data": {
      "text/plain": [
       "<Figure size 1440x720 with 0 Axes>"
      ]
     },
     "metadata": {},
     "output_type": "display_data"
    },
    {
     "data": {
      "text/plain": [
       "<Figure size 1440x720 with 0 Axes>"
      ]
     },
     "metadata": {},
     "output_type": "display_data"
    },
    {
     "data": {
      "text/plain": [
       "<Figure size 1440x720 with 0 Axes>"
      ]
     },
     "metadata": {},
     "output_type": "display_data"
    },
    {
     "data": {
      "text/plain": [
       "<Figure size 1440x720 with 0 Axes>"
      ]
     },
     "metadata": {},
     "output_type": "display_data"
    },
    {
     "data": {
      "text/plain": [
       "<Figure size 1440x720 with 0 Axes>"
      ]
     },
     "metadata": {},
     "output_type": "display_data"
    },
    {
     "data": {
      "text/plain": [
       "<Figure size 1440x720 with 0 Axes>"
      ]
     },
     "metadata": {},
     "output_type": "display_data"
    },
    {
     "data": {
      "text/plain": [
       "<Figure size 1440x720 with 0 Axes>"
      ]
     },
     "metadata": {},
     "output_type": "display_data"
    },
    {
     "data": {
      "text/plain": [
       "<Figure size 1440x720 with 0 Axes>"
      ]
     },
     "metadata": {},
     "output_type": "display_data"
    },
    {
     "data": {
      "text/plain": [
       "<Figure size 1440x720 with 0 Axes>"
      ]
     },
     "metadata": {},
     "output_type": "display_data"
    },
    {
     "data": {
      "text/plain": [
       "<Figure size 1440x720 with 0 Axes>"
      ]
     },
     "metadata": {},
     "output_type": "display_data"
    },
    {
     "data": {
      "text/plain": [
       "<Figure size 1440x720 with 0 Axes>"
      ]
     },
     "metadata": {},
     "output_type": "display_data"
    },
    {
     "data": {
      "text/plain": [
       "<Figure size 1440x720 with 0 Axes>"
      ]
     },
     "metadata": {},
     "output_type": "display_data"
    },
    {
     "data": {
      "text/plain": [
       "<Figure size 1440x720 with 0 Axes>"
      ]
     },
     "metadata": {},
     "output_type": "display_data"
    },
    {
     "data": {
      "text/plain": [
       "<Figure size 1440x720 with 0 Axes>"
      ]
     },
     "metadata": {},
     "output_type": "display_data"
    },
    {
     "data": {
      "text/plain": [
       "<Figure size 1440x720 with 0 Axes>"
      ]
     },
     "metadata": {},
     "output_type": "display_data"
    },
    {
     "data": {
      "text/plain": [
       "<Figure size 1440x720 with 0 Axes>"
      ]
     },
     "metadata": {},
     "output_type": "display_data"
    },
    {
     "data": {
      "text/plain": [
       "<Figure size 1440x720 with 0 Axes>"
      ]
     },
     "metadata": {},
     "output_type": "display_data"
    },
    {
     "data": {
      "text/plain": [
       "<Figure size 1440x720 with 0 Axes>"
      ]
     },
     "metadata": {},
     "output_type": "display_data"
    },
    {
     "data": {
      "text/plain": [
       "<Figure size 1440x720 with 0 Axes>"
      ]
     },
     "metadata": {},
     "output_type": "display_data"
    },
    {
     "data": {
      "text/plain": [
       "<Figure size 1440x720 with 0 Axes>"
      ]
     },
     "metadata": {},
     "output_type": "display_data"
    },
    {
     "data": {
      "text/plain": [
       "<Figure size 1440x720 with 0 Axes>"
      ]
     },
     "metadata": {},
     "output_type": "display_data"
    },
    {
     "data": {
      "text/plain": [
       "<Figure size 1440x720 with 0 Axes>"
      ]
     },
     "metadata": {},
     "output_type": "display_data"
    },
    {
     "data": {
      "text/plain": [
       "<Figure size 1440x720 with 0 Axes>"
      ]
     },
     "metadata": {},
     "output_type": "display_data"
    },
    {
     "data": {
      "text/plain": [
       "<Figure size 1440x720 with 0 Axes>"
      ]
     },
     "metadata": {},
     "output_type": "display_data"
    },
    {
     "data": {
      "text/plain": [
       "<Figure size 1440x720 with 0 Axes>"
      ]
     },
     "metadata": {},
     "output_type": "display_data"
    },
    {
     "data": {
      "text/plain": [
       "<Figure size 1440x720 with 0 Axes>"
      ]
     },
     "metadata": {},
     "output_type": "display_data"
    },
    {
     "data": {
      "text/plain": [
       "<Figure size 1440x720 with 0 Axes>"
      ]
     },
     "metadata": {},
     "output_type": "display_data"
    },
    {
     "data": {
      "text/plain": [
       "<Figure size 1440x720 with 0 Axes>"
      ]
     },
     "metadata": {},
     "output_type": "display_data"
    },
    {
     "data": {
      "text/plain": [
       "<Figure size 1440x720 with 0 Axes>"
      ]
     },
     "metadata": {},
     "output_type": "display_data"
    },
    {
     "data": {
      "text/plain": [
       "<Figure size 1440x720 with 0 Axes>"
      ]
     },
     "metadata": {},
     "output_type": "display_data"
    },
    {
     "data": {
      "text/plain": [
       "<Figure size 1440x720 with 0 Axes>"
      ]
     },
     "metadata": {},
     "output_type": "display_data"
    },
    {
     "data": {
      "text/plain": [
       "<Figure size 1440x720 with 0 Axes>"
      ]
     },
     "metadata": {},
     "output_type": "display_data"
    },
    {
     "data": {
      "text/plain": [
       "<Figure size 1440x720 with 0 Axes>"
      ]
     },
     "metadata": {},
     "output_type": "display_data"
    },
    {
     "data": {
      "text/plain": [
       "<Figure size 1440x720 with 0 Axes>"
      ]
     },
     "metadata": {},
     "output_type": "display_data"
    },
    {
     "data": {
      "text/plain": [
       "<Figure size 1440x720 with 0 Axes>"
      ]
     },
     "metadata": {},
     "output_type": "display_data"
    },
    {
     "data": {
      "text/plain": [
       "<Figure size 1440x720 with 0 Axes>"
      ]
     },
     "metadata": {},
     "output_type": "display_data"
    },
    {
     "data": {
      "text/plain": [
       "<Figure size 1440x720 with 0 Axes>"
      ]
     },
     "metadata": {},
     "output_type": "display_data"
    },
    {
     "data": {
      "text/plain": [
       "<Figure size 1440x720 with 0 Axes>"
      ]
     },
     "metadata": {},
     "output_type": "display_data"
    },
    {
     "data": {
      "text/plain": [
       "<Figure size 1440x720 with 0 Axes>"
      ]
     },
     "metadata": {},
     "output_type": "display_data"
    },
    {
     "data": {
      "text/plain": [
       "<Figure size 1440x720 with 0 Axes>"
      ]
     },
     "metadata": {},
     "output_type": "display_data"
    },
    {
     "data": {
      "text/plain": [
       "<Figure size 1440x720 with 0 Axes>"
      ]
     },
     "metadata": {},
     "output_type": "display_data"
    },
    {
     "data": {
      "text/plain": [
       "<Figure size 1440x720 with 0 Axes>"
      ]
     },
     "metadata": {},
     "output_type": "display_data"
    },
    {
     "data": {
      "text/plain": [
       "<Figure size 1440x720 with 0 Axes>"
      ]
     },
     "metadata": {},
     "output_type": "display_data"
    },
    {
     "data": {
      "text/plain": [
       "<Figure size 1440x720 with 0 Axes>"
      ]
     },
     "metadata": {},
     "output_type": "display_data"
    },
    {
     "data": {
      "text/plain": [
       "<Figure size 1440x720 with 0 Axes>"
      ]
     },
     "metadata": {},
     "output_type": "display_data"
    },
    {
     "data": {
      "text/plain": [
       "<Figure size 1440x720 with 0 Axes>"
      ]
     },
     "metadata": {},
     "output_type": "display_data"
    },
    {
     "data": {
      "text/plain": [
       "<Figure size 1440x720 with 0 Axes>"
      ]
     },
     "metadata": {},
     "output_type": "display_data"
    },
    {
     "data": {
      "text/plain": [
       "<Figure size 1440x720 with 0 Axes>"
      ]
     },
     "metadata": {},
     "output_type": "display_data"
    },
    {
     "data": {
      "text/plain": [
       "<Figure size 1440x720 with 0 Axes>"
      ]
     },
     "metadata": {},
     "output_type": "display_data"
    },
    {
     "data": {
      "text/plain": [
       "<Figure size 1440x720 with 0 Axes>"
      ]
     },
     "metadata": {},
     "output_type": "display_data"
    },
    {
     "data": {
      "text/plain": [
       "<Figure size 1440x720 with 0 Axes>"
      ]
     },
     "metadata": {},
     "output_type": "display_data"
    },
    {
     "data": {
      "text/plain": [
       "<Figure size 1440x720 with 0 Axes>"
      ]
     },
     "metadata": {},
     "output_type": "display_data"
    },
    {
     "data": {
      "text/plain": [
       "<Figure size 1440x720 with 0 Axes>"
      ]
     },
     "metadata": {},
     "output_type": "display_data"
    },
    {
     "data": {
      "text/plain": [
       "<Figure size 1440x720 with 0 Axes>"
      ]
     },
     "metadata": {},
     "output_type": "display_data"
    },
    {
     "data": {
      "text/plain": [
       "<Figure size 1440x720 with 0 Axes>"
      ]
     },
     "metadata": {},
     "output_type": "display_data"
    },
    {
     "data": {
      "text/plain": [
       "<Figure size 1440x720 with 0 Axes>"
      ]
     },
     "metadata": {},
     "output_type": "display_data"
    },
    {
     "data": {
      "text/plain": [
       "<Figure size 1440x720 with 0 Axes>"
      ]
     },
     "metadata": {},
     "output_type": "display_data"
    },
    {
     "data": {
      "text/plain": [
       "<Figure size 1440x720 with 0 Axes>"
      ]
     },
     "metadata": {},
     "output_type": "display_data"
    },
    {
     "data": {
      "text/plain": [
       "<Figure size 1440x720 with 0 Axes>"
      ]
     },
     "metadata": {},
     "output_type": "display_data"
    },
    {
     "data": {
      "text/plain": [
       "<Figure size 1440x720 with 0 Axes>"
      ]
     },
     "metadata": {},
     "output_type": "display_data"
    },
    {
     "data": {
      "text/plain": [
       "<Figure size 1440x720 with 0 Axes>"
      ]
     },
     "metadata": {},
     "output_type": "display_data"
    },
    {
     "data": {
      "text/plain": [
       "<Figure size 1440x720 with 0 Axes>"
      ]
     },
     "metadata": {},
     "output_type": "display_data"
    },
    {
     "data": {
      "text/plain": [
       "<Figure size 1440x720 with 0 Axes>"
      ]
     },
     "metadata": {},
     "output_type": "display_data"
    },
    {
     "data": {
      "text/plain": [
       "<Figure size 1440x720 with 0 Axes>"
      ]
     },
     "metadata": {},
     "output_type": "display_data"
    },
    {
     "data": {
      "text/plain": [
       "<Figure size 1440x720 with 0 Axes>"
      ]
     },
     "metadata": {},
     "output_type": "display_data"
    },
    {
     "data": {
      "text/plain": [
       "<Figure size 1440x720 with 0 Axes>"
      ]
     },
     "metadata": {},
     "output_type": "display_data"
    },
    {
     "data": {
      "text/plain": [
       "<Figure size 1440x720 with 0 Axes>"
      ]
     },
     "metadata": {},
     "output_type": "display_data"
    },
    {
     "data": {
      "text/plain": [
       "<Figure size 1440x720 with 0 Axes>"
      ]
     },
     "metadata": {},
     "output_type": "display_data"
    },
    {
     "data": {
      "text/plain": [
       "<Figure size 1440x720 with 0 Axes>"
      ]
     },
     "metadata": {},
     "output_type": "display_data"
    },
    {
     "data": {
      "text/plain": [
       "<Figure size 1440x720 with 0 Axes>"
      ]
     },
     "metadata": {},
     "output_type": "display_data"
    },
    {
     "data": {
      "text/plain": [
       "<Figure size 1440x720 with 0 Axes>"
      ]
     },
     "metadata": {},
     "output_type": "display_data"
    },
    {
     "data": {
      "text/plain": [
       "<Figure size 1440x720 with 0 Axes>"
      ]
     },
     "metadata": {},
     "output_type": "display_data"
    },
    {
     "data": {
      "text/plain": [
       "<Figure size 1440x720 with 0 Axes>"
      ]
     },
     "metadata": {},
     "output_type": "display_data"
    },
    {
     "data": {
      "text/plain": [
       "<Figure size 1440x720 with 0 Axes>"
      ]
     },
     "metadata": {},
     "output_type": "display_data"
    },
    {
     "data": {
      "text/plain": [
       "<Figure size 1440x720 with 0 Axes>"
      ]
     },
     "metadata": {},
     "output_type": "display_data"
    },
    {
     "data": {
      "text/plain": [
       "<Figure size 1440x720 with 0 Axes>"
      ]
     },
     "metadata": {},
     "output_type": "display_data"
    },
    {
     "data": {
      "text/plain": [
       "<Figure size 1440x720 with 0 Axes>"
      ]
     },
     "metadata": {},
     "output_type": "display_data"
    },
    {
     "data": {
      "text/plain": [
       "<Figure size 1440x720 with 0 Axes>"
      ]
     },
     "metadata": {},
     "output_type": "display_data"
    },
    {
     "data": {
      "text/plain": [
       "<Figure size 1440x720 with 0 Axes>"
      ]
     },
     "metadata": {},
     "output_type": "display_data"
    },
    {
     "data": {
      "text/plain": [
       "<Figure size 1440x720 with 0 Axes>"
      ]
     },
     "metadata": {},
     "output_type": "display_data"
    },
    {
     "data": {
      "text/plain": [
       "<Figure size 1440x720 with 0 Axes>"
      ]
     },
     "metadata": {},
     "output_type": "display_data"
    },
    {
     "data": {
      "text/plain": [
       "<Figure size 1440x720 with 0 Axes>"
      ]
     },
     "metadata": {},
     "output_type": "display_data"
    },
    {
     "data": {
      "text/plain": [
       "<Figure size 1440x720 with 0 Axes>"
      ]
     },
     "metadata": {},
     "output_type": "display_data"
    },
    {
     "data": {
      "text/plain": [
       "<Figure size 1440x720 with 0 Axes>"
      ]
     },
     "metadata": {},
     "output_type": "display_data"
    },
    {
     "data": {
      "text/plain": [
       "<Figure size 1440x720 with 0 Axes>"
      ]
     },
     "metadata": {},
     "output_type": "display_data"
    },
    {
     "data": {
      "text/plain": [
       "<Figure size 1440x720 with 0 Axes>"
      ]
     },
     "metadata": {},
     "output_type": "display_data"
    },
    {
     "data": {
      "text/plain": [
       "<Figure size 1440x720 with 0 Axes>"
      ]
     },
     "metadata": {},
     "output_type": "display_data"
    },
    {
     "data": {
      "text/plain": [
       "<Figure size 1440x720 with 0 Axes>"
      ]
     },
     "metadata": {},
     "output_type": "display_data"
    },
    {
     "data": {
      "text/plain": [
       "<Figure size 1440x720 with 0 Axes>"
      ]
     },
     "metadata": {},
     "output_type": "display_data"
    },
    {
     "data": {
      "text/plain": [
       "<Figure size 1440x720 with 0 Axes>"
      ]
     },
     "metadata": {},
     "output_type": "display_data"
    },
    {
     "data": {
      "text/plain": [
       "<Figure size 1440x720 with 0 Axes>"
      ]
     },
     "metadata": {},
     "output_type": "display_data"
    },
    {
     "data": {
      "text/plain": [
       "<Figure size 1440x720 with 0 Axes>"
      ]
     },
     "metadata": {},
     "output_type": "display_data"
    },
    {
     "data": {
      "text/plain": [
       "<Figure size 1440x720 with 0 Axes>"
      ]
     },
     "metadata": {},
     "output_type": "display_data"
    },
    {
     "data": {
      "text/plain": [
       "<Figure size 1440x720 with 0 Axes>"
      ]
     },
     "metadata": {},
     "output_type": "display_data"
    },
    {
     "data": {
      "text/plain": [
       "<Figure size 1440x720 with 0 Axes>"
      ]
     },
     "metadata": {},
     "output_type": "display_data"
    },
    {
     "data": {
      "text/plain": [
       "<Figure size 1440x720 with 0 Axes>"
      ]
     },
     "metadata": {},
     "output_type": "display_data"
    },
    {
     "data": {
      "text/plain": [
       "<Figure size 1440x720 with 0 Axes>"
      ]
     },
     "metadata": {},
     "output_type": "display_data"
    },
    {
     "data": {
      "text/plain": [
       "<Figure size 1440x720 with 0 Axes>"
      ]
     },
     "metadata": {},
     "output_type": "display_data"
    },
    {
     "data": {
      "text/plain": [
       "<Figure size 1440x720 with 0 Axes>"
      ]
     },
     "metadata": {},
     "output_type": "display_data"
    },
    {
     "data": {
      "text/plain": [
       "<Figure size 1440x720 with 0 Axes>"
      ]
     },
     "metadata": {},
     "output_type": "display_data"
    },
    {
     "data": {
      "text/plain": [
       "<Figure size 1440x720 with 0 Axes>"
      ]
     },
     "metadata": {},
     "output_type": "display_data"
    },
    {
     "data": {
      "text/plain": [
       "<Figure size 1440x720 with 0 Axes>"
      ]
     },
     "metadata": {},
     "output_type": "display_data"
    },
    {
     "data": {
      "text/plain": [
       "<Figure size 1440x720 with 0 Axes>"
      ]
     },
     "metadata": {},
     "output_type": "display_data"
    },
    {
     "data": {
      "text/plain": [
       "<Figure size 1440x720 with 0 Axes>"
      ]
     },
     "metadata": {},
     "output_type": "display_data"
    },
    {
     "data": {
      "text/plain": [
       "<Figure size 1440x720 with 0 Axes>"
      ]
     },
     "metadata": {},
     "output_type": "display_data"
    },
    {
     "data": {
      "text/plain": [
       "<Figure size 1440x720 with 0 Axes>"
      ]
     },
     "metadata": {},
     "output_type": "display_data"
    },
    {
     "data": {
      "text/plain": [
       "<Figure size 1440x720 with 0 Axes>"
      ]
     },
     "metadata": {},
     "output_type": "display_data"
    },
    {
     "data": {
      "text/plain": [
       "<Figure size 1440x720 with 0 Axes>"
      ]
     },
     "metadata": {},
     "output_type": "display_data"
    },
    {
     "data": {
      "text/plain": [
       "<Figure size 1440x720 with 0 Axes>"
      ]
     },
     "metadata": {},
     "output_type": "display_data"
    },
    {
     "data": {
      "text/plain": [
       "<Figure size 1440x720 with 0 Axes>"
      ]
     },
     "metadata": {},
     "output_type": "display_data"
    },
    {
     "data": {
      "text/plain": [
       "<Figure size 1440x720 with 0 Axes>"
      ]
     },
     "metadata": {},
     "output_type": "display_data"
    },
    {
     "data": {
      "text/plain": [
       "<Figure size 1440x720 with 0 Axes>"
      ]
     },
     "metadata": {},
     "output_type": "display_data"
    },
    {
     "data": {
      "text/plain": [
       "<Figure size 1440x720 with 0 Axes>"
      ]
     },
     "metadata": {},
     "output_type": "display_data"
    },
    {
     "data": {
      "text/plain": [
       "<Figure size 1440x720 with 0 Axes>"
      ]
     },
     "metadata": {},
     "output_type": "display_data"
    },
    {
     "data": {
      "text/plain": [
       "<Figure size 1440x720 with 0 Axes>"
      ]
     },
     "metadata": {},
     "output_type": "display_data"
    },
    {
     "data": {
      "text/plain": [
       "<Figure size 1440x720 with 0 Axes>"
      ]
     },
     "metadata": {},
     "output_type": "display_data"
    },
    {
     "data": {
      "text/plain": [
       "<Figure size 1440x720 with 0 Axes>"
      ]
     },
     "metadata": {},
     "output_type": "display_data"
    },
    {
     "data": {
      "text/plain": [
       "<Figure size 1440x720 with 0 Axes>"
      ]
     },
     "metadata": {},
     "output_type": "display_data"
    },
    {
     "data": {
      "text/plain": [
       "<Figure size 1440x720 with 0 Axes>"
      ]
     },
     "metadata": {},
     "output_type": "display_data"
    },
    {
     "data": {
      "text/plain": [
       "<Figure size 1440x720 with 0 Axes>"
      ]
     },
     "metadata": {},
     "output_type": "display_data"
    },
    {
     "data": {
      "text/plain": [
       "<Figure size 1440x720 with 0 Axes>"
      ]
     },
     "metadata": {},
     "output_type": "display_data"
    },
    {
     "data": {
      "text/plain": [
       "<Figure size 1440x720 with 0 Axes>"
      ]
     },
     "metadata": {},
     "output_type": "display_data"
    },
    {
     "data": {
      "text/plain": [
       "<Figure size 1440x720 with 0 Axes>"
      ]
     },
     "metadata": {},
     "output_type": "display_data"
    },
    {
     "data": {
      "text/plain": [
       "<Figure size 1440x720 with 0 Axes>"
      ]
     },
     "metadata": {},
     "output_type": "display_data"
    },
    {
     "data": {
      "text/plain": [
       "<Figure size 1440x720 with 0 Axes>"
      ]
     },
     "metadata": {},
     "output_type": "display_data"
    },
    {
     "data": {
      "text/plain": [
       "<Figure size 1440x720 with 0 Axes>"
      ]
     },
     "metadata": {},
     "output_type": "display_data"
    },
    {
     "data": {
      "text/plain": [
       "<Figure size 1440x720 with 0 Axes>"
      ]
     },
     "metadata": {},
     "output_type": "display_data"
    },
    {
     "data": {
      "text/plain": [
       "<Figure size 1440x720 with 0 Axes>"
      ]
     },
     "metadata": {},
     "output_type": "display_data"
    },
    {
     "data": {
      "text/plain": [
       "<Figure size 1440x720 with 0 Axes>"
      ]
     },
     "metadata": {},
     "output_type": "display_data"
    },
    {
     "data": {
      "text/plain": [
       "<Figure size 1440x720 with 0 Axes>"
      ]
     },
     "metadata": {},
     "output_type": "display_data"
    },
    {
     "data": {
      "text/plain": [
       "<Figure size 1440x720 with 0 Axes>"
      ]
     },
     "metadata": {},
     "output_type": "display_data"
    },
    {
     "data": {
      "text/plain": [
       "<Figure size 1440x720 with 0 Axes>"
      ]
     },
     "metadata": {},
     "output_type": "display_data"
    },
    {
     "data": {
      "text/plain": [
       "<Figure size 1440x720 with 0 Axes>"
      ]
     },
     "metadata": {},
     "output_type": "display_data"
    },
    {
     "data": {
      "text/plain": [
       "<Figure size 1440x720 with 0 Axes>"
      ]
     },
     "metadata": {},
     "output_type": "display_data"
    },
    {
     "data": {
      "text/plain": [
       "<Figure size 1440x720 with 0 Axes>"
      ]
     },
     "metadata": {},
     "output_type": "display_data"
    },
    {
     "data": {
      "text/plain": [
       "<Figure size 1440x720 with 0 Axes>"
      ]
     },
     "metadata": {},
     "output_type": "display_data"
    },
    {
     "data": {
      "text/plain": [
       "<Figure size 1440x720 with 0 Axes>"
      ]
     },
     "metadata": {},
     "output_type": "display_data"
    },
    {
     "data": {
      "text/plain": [
       "<Figure size 1440x720 with 0 Axes>"
      ]
     },
     "metadata": {},
     "output_type": "display_data"
    },
    {
     "data": {
      "text/plain": [
       "<Figure size 1440x720 with 0 Axes>"
      ]
     },
     "metadata": {},
     "output_type": "display_data"
    },
    {
     "data": {
      "text/plain": [
       "<Figure size 1440x720 with 0 Axes>"
      ]
     },
     "metadata": {},
     "output_type": "display_data"
    },
    {
     "data": {
      "text/plain": [
       "<Figure size 1440x720 with 0 Axes>"
      ]
     },
     "metadata": {},
     "output_type": "display_data"
    },
    {
     "data": {
      "text/plain": [
       "<Figure size 1440x720 with 0 Axes>"
      ]
     },
     "metadata": {},
     "output_type": "display_data"
    },
    {
     "data": {
      "text/plain": [
       "<Figure size 1440x720 with 0 Axes>"
      ]
     },
     "metadata": {},
     "output_type": "display_data"
    },
    {
     "data": {
      "text/plain": [
       "<Figure size 1440x720 with 0 Axes>"
      ]
     },
     "metadata": {},
     "output_type": "display_data"
    },
    {
     "data": {
      "text/plain": [
       "<Figure size 1440x720 with 0 Axes>"
      ]
     },
     "metadata": {},
     "output_type": "display_data"
    },
    {
     "data": {
      "text/plain": [
       "<Figure size 1440x720 with 0 Axes>"
      ]
     },
     "metadata": {},
     "output_type": "display_data"
    },
    {
     "data": {
      "text/plain": [
       "<Figure size 1440x720 with 0 Axes>"
      ]
     },
     "metadata": {},
     "output_type": "display_data"
    },
    {
     "data": {
      "text/plain": [
       "<Figure size 1440x720 with 0 Axes>"
      ]
     },
     "metadata": {},
     "output_type": "display_data"
    },
    {
     "data": {
      "text/plain": [
       "<Figure size 1440x720 with 0 Axes>"
      ]
     },
     "metadata": {},
     "output_type": "display_data"
    },
    {
     "data": {
      "text/plain": [
       "<Figure size 1440x720 with 0 Axes>"
      ]
     },
     "metadata": {},
     "output_type": "display_data"
    },
    {
     "data": {
      "text/plain": [
       "<Figure size 1440x720 with 0 Axes>"
      ]
     },
     "metadata": {},
     "output_type": "display_data"
    },
    {
     "data": {
      "text/plain": [
       "<Figure size 1440x720 with 0 Axes>"
      ]
     },
     "metadata": {},
     "output_type": "display_data"
    },
    {
     "data": {
      "text/plain": [
       "<Figure size 1440x720 with 0 Axes>"
      ]
     },
     "metadata": {},
     "output_type": "display_data"
    },
    {
     "data": {
      "text/plain": [
       "<Figure size 1440x720 with 0 Axes>"
      ]
     },
     "metadata": {},
     "output_type": "display_data"
    },
    {
     "data": {
      "text/plain": [
       "<Figure size 1440x720 with 0 Axes>"
      ]
     },
     "metadata": {},
     "output_type": "display_data"
    },
    {
     "data": {
      "text/plain": [
       "<Figure size 1440x720 with 0 Axes>"
      ]
     },
     "metadata": {},
     "output_type": "display_data"
    },
    {
     "data": {
      "text/plain": [
       "<Figure size 1440x720 with 0 Axes>"
      ]
     },
     "metadata": {},
     "output_type": "display_data"
    },
    {
     "data": {
      "text/plain": [
       "<Figure size 1440x720 with 0 Axes>"
      ]
     },
     "metadata": {},
     "output_type": "display_data"
    },
    {
     "data": {
      "text/plain": [
       "<Figure size 1440x720 with 0 Axes>"
      ]
     },
     "metadata": {},
     "output_type": "display_data"
    },
    {
     "data": {
      "text/plain": [
       "<Figure size 1440x720 with 0 Axes>"
      ]
     },
     "metadata": {},
     "output_type": "display_data"
    },
    {
     "data": {
      "text/plain": [
       "<Figure size 1440x720 with 0 Axes>"
      ]
     },
     "metadata": {},
     "output_type": "display_data"
    },
    {
     "data": {
      "text/plain": [
       "<Figure size 1440x720 with 0 Axes>"
      ]
     },
     "metadata": {},
     "output_type": "display_data"
    },
    {
     "data": {
      "text/plain": [
       "<Figure size 1440x720 with 0 Axes>"
      ]
     },
     "metadata": {},
     "output_type": "display_data"
    },
    {
     "data": {
      "text/plain": [
       "<Figure size 1440x720 with 0 Axes>"
      ]
     },
     "metadata": {},
     "output_type": "display_data"
    },
    {
     "data": {
      "text/plain": [
       "<Figure size 1440x720 with 0 Axes>"
      ]
     },
     "metadata": {},
     "output_type": "display_data"
    },
    {
     "data": {
      "text/plain": [
       "<Figure size 1440x720 with 0 Axes>"
      ]
     },
     "metadata": {},
     "output_type": "display_data"
    },
    {
     "data": {
      "text/plain": [
       "<Figure size 1440x720 with 0 Axes>"
      ]
     },
     "metadata": {},
     "output_type": "display_data"
    },
    {
     "data": {
      "text/plain": [
       "<Figure size 1440x720 with 0 Axes>"
      ]
     },
     "metadata": {},
     "output_type": "display_data"
    },
    {
     "data": {
      "text/plain": [
       "<Figure size 1440x720 with 0 Axes>"
      ]
     },
     "metadata": {},
     "output_type": "display_data"
    },
    {
     "data": {
      "text/plain": [
       "<Figure size 1440x720 with 0 Axes>"
      ]
     },
     "metadata": {},
     "output_type": "display_data"
    },
    {
     "data": {
      "text/plain": [
       "<Figure size 1440x720 with 0 Axes>"
      ]
     },
     "metadata": {},
     "output_type": "display_data"
    },
    {
     "data": {
      "text/plain": [
       "<Figure size 1440x720 with 0 Axes>"
      ]
     },
     "metadata": {},
     "output_type": "display_data"
    },
    {
     "data": {
      "text/plain": [
       "<Figure size 1440x720 with 0 Axes>"
      ]
     },
     "metadata": {},
     "output_type": "display_data"
    },
    {
     "data": {
      "text/plain": [
       "<Figure size 1440x720 with 0 Axes>"
      ]
     },
     "metadata": {},
     "output_type": "display_data"
    },
    {
     "data": {
      "text/plain": [
       "<Figure size 1440x720 with 0 Axes>"
      ]
     },
     "metadata": {},
     "output_type": "display_data"
    },
    {
     "data": {
      "text/plain": [
       "<Figure size 1440x720 with 0 Axes>"
      ]
     },
     "metadata": {},
     "output_type": "display_data"
    },
    {
     "data": {
      "text/plain": [
       "<Figure size 1440x720 with 0 Axes>"
      ]
     },
     "metadata": {},
     "output_type": "display_data"
    },
    {
     "data": {
      "text/plain": [
       "<Figure size 1440x720 with 0 Axes>"
      ]
     },
     "metadata": {},
     "output_type": "display_data"
    },
    {
     "data": {
      "text/plain": [
       "<Figure size 1440x720 with 0 Axes>"
      ]
     },
     "metadata": {},
     "output_type": "display_data"
    },
    {
     "data": {
      "text/plain": [
       "<Figure size 1440x720 with 0 Axes>"
      ]
     },
     "metadata": {},
     "output_type": "display_data"
    },
    {
     "data": {
      "text/plain": [
       "<Figure size 1440x720 with 0 Axes>"
      ]
     },
     "metadata": {},
     "output_type": "display_data"
    },
    {
     "data": {
      "text/plain": [
       "<Figure size 1440x720 with 0 Axes>"
      ]
     },
     "metadata": {},
     "output_type": "display_data"
    },
    {
     "data": {
      "text/plain": [
       "<Figure size 1440x720 with 0 Axes>"
      ]
     },
     "metadata": {},
     "output_type": "display_data"
    },
    {
     "data": {
      "text/plain": [
       "<Figure size 1440x720 with 0 Axes>"
      ]
     },
     "metadata": {},
     "output_type": "display_data"
    },
    {
     "data": {
      "text/plain": [
       "<Figure size 1440x720 with 0 Axes>"
      ]
     },
     "metadata": {},
     "output_type": "display_data"
    },
    {
     "data": {
      "text/plain": [
       "<Figure size 1440x720 with 0 Axes>"
      ]
     },
     "metadata": {},
     "output_type": "display_data"
    },
    {
     "data": {
      "text/plain": [
       "<Figure size 1440x720 with 0 Axes>"
      ]
     },
     "metadata": {},
     "output_type": "display_data"
    },
    {
     "data": {
      "text/plain": [
       "<Figure size 1440x720 with 0 Axes>"
      ]
     },
     "metadata": {},
     "output_type": "display_data"
    },
    {
     "data": {
      "text/plain": [
       "<Figure size 1440x720 with 0 Axes>"
      ]
     },
     "metadata": {},
     "output_type": "display_data"
    },
    {
     "data": {
      "text/plain": [
       "<Figure size 1440x720 with 0 Axes>"
      ]
     },
     "metadata": {},
     "output_type": "display_data"
    },
    {
     "data": {
      "text/plain": [
       "<Figure size 1440x720 with 0 Axes>"
      ]
     },
     "metadata": {},
     "output_type": "display_data"
    },
    {
     "data": {
      "text/plain": [
       "<Figure size 1440x720 with 0 Axes>"
      ]
     },
     "metadata": {},
     "output_type": "display_data"
    },
    {
     "data": {
      "text/plain": [
       "<Figure size 1440x720 with 0 Axes>"
      ]
     },
     "metadata": {},
     "output_type": "display_data"
    },
    {
     "data": {
      "text/plain": [
       "<Figure size 1440x720 with 0 Axes>"
      ]
     },
     "metadata": {},
     "output_type": "display_data"
    },
    {
     "data": {
      "text/plain": [
       "<Figure size 1440x720 with 0 Axes>"
      ]
     },
     "metadata": {},
     "output_type": "display_data"
    },
    {
     "data": {
      "text/plain": [
       "<Figure size 1440x720 with 0 Axes>"
      ]
     },
     "metadata": {},
     "output_type": "display_data"
    }
   ],
   "source": [
    "%%time\n",
    "#цикл для обхода всех исходных фреймов\n",
    "directory = 'task_1/task_1_frames/'\n",
    "for filename in os.listdir(directory):\n",
    "    if (filename.endswith(\".jpg\") or filename.endswith(\".png\")):\n",
    "        object_detection(\"%s/%s\" % (directory, filename), filename, \"task_1/task_1_predicted_frames/\", CONF_THRESH=0.6)\n",
    "    else:\n",
    "        continue"
   ]
  },
  {
   "cell_type": "code",
   "execution_count": 2,
   "metadata": {
    "colab": {
     "base_uri": "https://localhost:8080/",
     "height": 52
    },
    "colab_type": "code",
    "id": "LEgv42daSQuo",
    "outputId": "4b72b659-16b3-42b8-92c9-436988353839"
   },
   "outputs": [
    {
     "name": "stdout",
     "output_type": "stream",
     "text": [
      "CPU times: user 36.6 s, sys: 2.7 s, total: 39.3 s\n",
      "Wall time: 1min 20s\n"
     ]
    }
   ],
   "source": [
    "%%time\n",
    "#склейка фреймов в видео\n",
    "pathIn= 'task_1/task_1_predicted_frames/'\n",
    "pathOut = 'task_1/task_1_res.avi'\n",
    "fps = 24\n",
    "frame_array = []\n",
    "files = [f for f in os.listdir(pathIn) if isfile(join(pathIn, f))]\n",
    "#сортирую файлы в папке, создаю список\n",
    "files.sort(key=lambda f: int(re.sub('\\D', '', f)))\n",
    "\n",
    "for i in range(len(files)):\n",
    "    filename=pathIn + files[i]\n",
    "    \n",
    "    img = cv2.imread(filename)\n",
    "    height, width, layers = img.shape\n",
    "    size = (width,height)\n",
    "    \n",
    "    frame_array.append(img)\n",
    "out = cv2.VideoWriter(pathOut,cv2.VideoWriter_fourcc(*'DIVX'), fps, size)\n",
    "for i in range(len(frame_array)):\n",
    "\n",
    "    out.write(frame_array[i])\n",
    "out.release()"
   ]
  },
  {
   "cell_type": "code",
   "execution_count": 3,
   "metadata": {},
   "outputs": [],
   "source": [
    "#копирую текстовые файлы с предсказаниями и изображения с bbox\n",
    "!cp task_1/task_1_predicted_frames/* mAP/input/images-optional\n",
    "!cp task_1/task_1_annotation/* mAP/input/detection-results"
   ]
  },
  {
   "cell_type": "code",
   "execution_count": 4,
   "metadata": {},
   "outputs": [
    {
     "name": "stdout",
     "output_type": "stream",
     "text": [
      "total ground-truth files: 133\r\n",
      "total detection-results files: 857\r\n",
      "\r\n",
      "No backup required for /home/kirill/Projects/roadar/build/mAP/input/ground-truth\r\n",
      "total detection-results backup files: 724\r\n",
      "total intersected files: 133\r\n",
      "Intersection completed!\r\n"
     ]
    }
   ],
   "source": [
    "#удаляю файлы для которых нет ground-truth файлов\n",
    "!python mAP/scripts/extra/intersect-gt-and-dr.py"
   ]
  },
  {
   "cell_type": "code",
   "execution_count": 2,
   "metadata": {},
   "outputs": [
    {
     "name": "stdout",
     "output_type": "stream",
     "text": [
      "35.24% = 3 AP \n",
      "38.28% = 8 AP \n",
      "mAP = 36.76%\n",
      "Figure(640x480)\n"
     ]
    }
   ],
   "source": [
    "#функция для подсчета mAP\n",
    "!python mAP/main.py"
   ]
  },
  {
   "cell_type": "markdown",
   "metadata": {},
   "source": [
    "![Альтернативный текст](mAP/output/ground-truth-info.png) \n",
    "![Альтернативный текст](mAP/output/detection-results-info.png)\n",
    "![Альтернативный текст](mAP/output/mAP.png)"
   ]
  },
  {
   "cell_type": "markdown",
   "metadata": {},
   "source": []
  },
  {
   "cell_type": "code",
   "execution_count": null,
   "metadata": {},
   "outputs": [],
   "source": []
  }
 ],
 "metadata": {
  "accelerator": "GPU",
  "colab": {
   "collapsed_sections": [],
   "name": "ex00_baseline.ipynb",
   "provenance": []
  },
  "kernelspec": {
   "display_name": "Python 3",
   "language": "python",
   "name": "python3"
  },
  "language_info": {
   "codemirror_mode": {
    "name": "ipython",
    "version": 3
   },
   "file_extension": ".py",
   "mimetype": "text/x-python",
   "name": "python",
   "nbconvert_exporter": "python",
   "pygments_lexer": "ipython3",
   "version": "3.7.6"
  },
  "widgets": {
   "application/vnd.jupyter.widget-state+json": {
    "54893582b3ef414c9a86549795d710de": {
     "model_module": "@jupyter-widgets/controls",
     "model_name": "HTMLModel",
     "state": {
      "_dom_classes": [],
      "_model_module": "@jupyter-widgets/controls",
      "_model_module_version": "1.5.0",
      "_model_name": "HTMLModel",
      "_view_count": null,
      "_view_module": "@jupyter-widgets/controls",
      "_view_module_version": "1.5.0",
      "_view_name": "HTMLView",
      "description": "",
      "description_tooltip": null,
      "layout": "IPY_MODEL_5911bbd078114842a0d9e554a07a96d0",
      "placeholder": "​",
      "style": "IPY_MODEL_6eaedb5bcb984a02b5deccd0437bb687",
      "value": " 160M/160M [01:43&lt;00:00, 1.62MB/s]"
     }
    },
    "5911bbd078114842a0d9e554a07a96d0": {
     "model_module": "@jupyter-widgets/base",
     "model_name": "LayoutModel",
     "state": {
      "_model_module": "@jupyter-widgets/base",
      "_model_module_version": "1.2.0",
      "_model_name": "LayoutModel",
      "_view_count": null,
      "_view_module": "@jupyter-widgets/base",
      "_view_module_version": "1.2.0",
      "_view_name": "LayoutView",
      "align_content": null,
      "align_items": null,
      "align_self": null,
      "border": null,
      "bottom": null,
      "display": null,
      "flex": null,
      "flex_flow": null,
      "grid_area": null,
      "grid_auto_columns": null,
      "grid_auto_flow": null,
      "grid_auto_rows": null,
      "grid_column": null,
      "grid_gap": null,
      "grid_row": null,
      "grid_template_areas": null,
      "grid_template_columns": null,
      "grid_template_rows": null,
      "height": null,
      "justify_content": null,
      "justify_items": null,
      "left": null,
      "margin": null,
      "max_height": null,
      "max_width": null,
      "min_height": null,
      "min_width": null,
      "object_fit": null,
      "object_position": null,
      "order": null,
      "overflow": null,
      "overflow_x": null,
      "overflow_y": null,
      "padding": null,
      "right": null,
      "top": null,
      "visibility": null,
      "width": null
     }
    },
    "5f4ed7ee7d144d848c97ed7fd5d85c72": {
     "model_module": "@jupyter-widgets/controls",
     "model_name": "FloatProgressModel",
     "state": {
      "_dom_classes": [],
      "_model_module": "@jupyter-widgets/controls",
      "_model_module_version": "1.5.0",
      "_model_name": "FloatProgressModel",
      "_view_count": null,
      "_view_module": "@jupyter-widgets/controls",
      "_view_module_version": "1.5.0",
      "_view_name": "ProgressView",
      "bar_style": "success",
      "description": "100%",
      "description_tooltip": null,
      "layout": "IPY_MODEL_d60a5ef3c5fd4e83ac87d989d1af86a3",
      "max": 167502836,
      "min": 0,
      "orientation": "horizontal",
      "style": "IPY_MODEL_752ffba134474a4784587863aa090300",
      "value": 167502836
     }
    },
    "6eaedb5bcb984a02b5deccd0437bb687": {
     "model_module": "@jupyter-widgets/controls",
     "model_name": "DescriptionStyleModel",
     "state": {
      "_model_module": "@jupyter-widgets/controls",
      "_model_module_version": "1.5.0",
      "_model_name": "DescriptionStyleModel",
      "_view_count": null,
      "_view_module": "@jupyter-widgets/base",
      "_view_module_version": "1.2.0",
      "_view_name": "StyleView",
      "description_width": ""
     }
    },
    "752ffba134474a4784587863aa090300": {
     "model_module": "@jupyter-widgets/controls",
     "model_name": "ProgressStyleModel",
     "state": {
      "_model_module": "@jupyter-widgets/controls",
      "_model_module_version": "1.5.0",
      "_model_name": "ProgressStyleModel",
      "_view_count": null,
      "_view_module": "@jupyter-widgets/base",
      "_view_module_version": "1.2.0",
      "_view_name": "StyleView",
      "bar_color": null,
      "description_width": "initial"
     }
    },
    "83eef328a84d4f31a4a5e3d174397be8": {
     "model_module": "@jupyter-widgets/base",
     "model_name": "LayoutModel",
     "state": {
      "_model_module": "@jupyter-widgets/base",
      "_model_module_version": "1.2.0",
      "_model_name": "LayoutModel",
      "_view_count": null,
      "_view_module": "@jupyter-widgets/base",
      "_view_module_version": "1.2.0",
      "_view_name": "LayoutView",
      "align_content": null,
      "align_items": null,
      "align_self": null,
      "border": null,
      "bottom": null,
      "display": null,
      "flex": null,
      "flex_flow": null,
      "grid_area": null,
      "grid_auto_columns": null,
      "grid_auto_flow": null,
      "grid_auto_rows": null,
      "grid_column": null,
      "grid_gap": null,
      "grid_row": null,
      "grid_template_areas": null,
      "grid_template_columns": null,
      "grid_template_rows": null,
      "height": null,
      "justify_content": null,
      "justify_items": null,
      "left": null,
      "margin": null,
      "max_height": null,
      "max_width": null,
      "min_height": null,
      "min_width": null,
      "object_fit": null,
      "object_position": null,
      "order": null,
      "overflow": null,
      "overflow_x": null,
      "overflow_y": null,
      "padding": null,
      "right": null,
      "top": null,
      "visibility": null,
      "width": null
     }
    },
    "8c58ccba10ca4896ae1b673ca9af8667": {
     "model_module": "@jupyter-widgets/controls",
     "model_name": "HBoxModel",
     "state": {
      "_dom_classes": [],
      "_model_module": "@jupyter-widgets/controls",
      "_model_module_version": "1.5.0",
      "_model_name": "HBoxModel",
      "_view_count": null,
      "_view_module": "@jupyter-widgets/controls",
      "_view_module_version": "1.5.0",
      "_view_name": "HBoxView",
      "box_style": "",
      "children": [
       "IPY_MODEL_5f4ed7ee7d144d848c97ed7fd5d85c72",
       "IPY_MODEL_54893582b3ef414c9a86549795d710de"
      ],
      "layout": "IPY_MODEL_83eef328a84d4f31a4a5e3d174397be8"
     }
    },
    "d60a5ef3c5fd4e83ac87d989d1af86a3": {
     "model_module": "@jupyter-widgets/base",
     "model_name": "LayoutModel",
     "state": {
      "_model_module": "@jupyter-widgets/base",
      "_model_module_version": "1.2.0",
      "_model_name": "LayoutModel",
      "_view_count": null,
      "_view_module": "@jupyter-widgets/base",
      "_view_module_version": "1.2.0",
      "_view_name": "LayoutView",
      "align_content": null,
      "align_items": null,
      "align_self": null,
      "border": null,
      "bottom": null,
      "display": null,
      "flex": null,
      "flex_flow": null,
      "grid_area": null,
      "grid_auto_columns": null,
      "grid_auto_flow": null,
      "grid_auto_rows": null,
      "grid_column": null,
      "grid_gap": null,
      "grid_row": null,
      "grid_template_areas": null,
      "grid_template_columns": null,
      "grid_template_rows": null,
      "height": null,
      "justify_content": null,
      "justify_items": null,
      "left": null,
      "margin": null,
      "max_height": null,
      "max_width": null,
      "min_height": null,
      "min_width": null,
      "object_fit": null,
      "object_position": null,
      "order": null,
      "overflow": null,
      "overflow_x": null,
      "overflow_y": null,
      "padding": null,
      "right": null,
      "top": null,
      "visibility": null,
      "width": null
     }
    }
   }
  }
 },
 "nbformat": 4,
 "nbformat_minor": 1
}
